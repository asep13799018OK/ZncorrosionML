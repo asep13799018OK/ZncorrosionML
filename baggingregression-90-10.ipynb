{
 "cells": [
  {
   "cell_type": "code",
   "execution_count": 1,
   "id": "underlying-dubai",
   "metadata": {},
   "outputs": [],
   "source": [
    "# Import Library\n",
    "import time\n",
    "import numpy as np\n",
    "import matplotlib.pyplot as plt\n",
    "import pandas as pd\n",
    "import math\n",
    "import pydot\n",
    "import time\n",
    "from sklearn import metrics\n",
    "from sklearn.ensemble import BaggingRegressor\n",
    "from sklearn.model_selection import GridSearchCV\n",
    "from sklearn.model_selection import KFold\n",
    "from sklearn.model_selection import cross_val_predict\n",
    "from sklearn.tree import export_graphviz\n",
    "from yellowbrick.regressor import ResidualsPlot"
   ]
  },
  {
   "cell_type": "code",
   "execution_count": 2,
   "id": "greek-outreach",
   "metadata": {},
   "outputs": [],
   "source": [
    "from helper_functions import *"
   ]
  },
  {
   "cell_type": "code",
   "execution_count": 3,
   "id": "exterior-sharing",
   "metadata": {},
   "outputs": [
    {
     "data": {
      "text/html": [
       "<div>\n",
       "<style scoped>\n",
       "    .dataframe tbody tr th:only-of-type {\n",
       "        vertical-align: middle;\n",
       "    }\n",
       "\n",
       "    .dataframe tbody tr th {\n",
       "        vertical-align: top;\n",
       "    }\n",
       "\n",
       "    .dataframe thead th {\n",
       "        text-align: right;\n",
       "    }\n",
       "</style>\n",
       "<table border=\"1\" class=\"dataframe\">\n",
       "  <thead>\n",
       "    <tr style=\"text-align: right;\">\n",
       "      <th></th>\n",
       "      <th>T</th>\n",
       "      <th>RH</th>\n",
       "      <th>TOW</th>\n",
       "      <th>Prec</th>\n",
       "      <th>SO2</th>\n",
       "      <th>H+</th>\n",
       "      <th>CR</th>\n",
       "    </tr>\n",
       "  </thead>\n",
       "  <tbody>\n",
       "    <tr>\n",
       "      <th>0</th>\n",
       "      <td>9.5</td>\n",
       "      <td>79</td>\n",
       "      <td>2830</td>\n",
       "      <td>639.3</td>\n",
       "      <td>77.5</td>\n",
       "      <td>0.0000</td>\n",
       "      <td>14.89</td>\n",
       "    </tr>\n",
       "    <tr>\n",
       "      <th>1</th>\n",
       "      <td>10.3</td>\n",
       "      <td>74</td>\n",
       "      <td>2555</td>\n",
       "      <td>380.8</td>\n",
       "      <td>58.1</td>\n",
       "      <td>0.0221</td>\n",
       "      <td>6.98</td>\n",
       "    </tr>\n",
       "    <tr>\n",
       "      <th>2</th>\n",
       "      <td>9.1</td>\n",
       "      <td>73</td>\n",
       "      <td>2627</td>\n",
       "      <td>684.3</td>\n",
       "      <td>41.2</td>\n",
       "      <td>0.0714</td>\n",
       "      <td>7.78</td>\n",
       "    </tr>\n",
       "    <tr>\n",
       "      <th>3</th>\n",
       "      <td>9.8</td>\n",
       "      <td>77</td>\n",
       "      <td>3529</td>\n",
       "      <td>581.1</td>\n",
       "      <td>32.1</td>\n",
       "      <td>0.0342</td>\n",
       "      <td>5.69</td>\n",
       "    </tr>\n",
       "    <tr>\n",
       "      <th>4</th>\n",
       "      <td>7.0</td>\n",
       "      <td>77</td>\n",
       "      <td>3011</td>\n",
       "      <td>850.2</td>\n",
       "      <td>19.7</td>\n",
       "      <td>0.0000</td>\n",
       "      <td>8.95</td>\n",
       "    </tr>\n",
       "  </tbody>\n",
       "</table>\n",
       "</div>"
      ],
      "text/plain": [
       "      T  RH   TOW   Prec   SO2      H+     CR\n",
       "0   9.5  79  2830  639.3  77.5  0.0000  14.89\n",
       "1  10.3  74  2555  380.8  58.1  0.0221   6.98\n",
       "2   9.1  73  2627  684.3  41.2  0.0714   7.78\n",
       "3   9.8  77  3529  581.1  32.1  0.0342   5.69\n",
       "4   7.0  77  3011  850.2  19.7  0.0000   8.95"
      ]
     },
     "execution_count": 3,
     "metadata": {},
     "output_type": "execute_result"
    }
   ],
   "source": [
    "# Import dataset\n",
    "df = pd.read_csv(\"datamita.csv\")\n",
    "df.head()"
   ]
  },
  {
   "cell_type": "code",
   "execution_count": 4,
   "id": "geological-cylinder",
   "metadata": {},
   "outputs": [],
   "source": [
    "# Define Feature and Target\n",
    "feature= df.drop('CR', axis=1)\n",
    "target= df['CR']"
   ]
  },
  {
   "cell_type": "code",
   "execution_count": 5,
   "id": "advance-habitat",
   "metadata": {},
   "outputs": [
    {
     "data": {
      "text/html": [
       "<div>\n",
       "<style scoped>\n",
       "    .dataframe tbody tr th:only-of-type {\n",
       "        vertical-align: middle;\n",
       "    }\n",
       "\n",
       "    .dataframe tbody tr th {\n",
       "        vertical-align: top;\n",
       "    }\n",
       "\n",
       "    .dataframe thead th {\n",
       "        text-align: right;\n",
       "    }\n",
       "</style>\n",
       "<table border=\"1\" class=\"dataframe\">\n",
       "  <thead>\n",
       "    <tr style=\"text-align: right;\">\n",
       "      <th></th>\n",
       "      <th>T</th>\n",
       "      <th>RH</th>\n",
       "      <th>TOW</th>\n",
       "      <th>Prec</th>\n",
       "      <th>SO2</th>\n",
       "      <th>H+</th>\n",
       "    </tr>\n",
       "  </thead>\n",
       "  <tbody>\n",
       "    <tr>\n",
       "      <th>0</th>\n",
       "      <td>9.5</td>\n",
       "      <td>79</td>\n",
       "      <td>2830</td>\n",
       "      <td>639.3</td>\n",
       "      <td>77.5</td>\n",
       "      <td>0.0000</td>\n",
       "    </tr>\n",
       "    <tr>\n",
       "      <th>1</th>\n",
       "      <td>10.3</td>\n",
       "      <td>74</td>\n",
       "      <td>2555</td>\n",
       "      <td>380.8</td>\n",
       "      <td>58.1</td>\n",
       "      <td>0.0221</td>\n",
       "    </tr>\n",
       "    <tr>\n",
       "      <th>2</th>\n",
       "      <td>9.1</td>\n",
       "      <td>73</td>\n",
       "      <td>2627</td>\n",
       "      <td>684.3</td>\n",
       "      <td>41.2</td>\n",
       "      <td>0.0714</td>\n",
       "    </tr>\n",
       "    <tr>\n",
       "      <th>3</th>\n",
       "      <td>9.8</td>\n",
       "      <td>77</td>\n",
       "      <td>3529</td>\n",
       "      <td>581.1</td>\n",
       "      <td>32.1</td>\n",
       "      <td>0.0342</td>\n",
       "    </tr>\n",
       "    <tr>\n",
       "      <th>4</th>\n",
       "      <td>7.0</td>\n",
       "      <td>77</td>\n",
       "      <td>3011</td>\n",
       "      <td>850.2</td>\n",
       "      <td>19.7</td>\n",
       "      <td>0.0000</td>\n",
       "    </tr>\n",
       "    <tr>\n",
       "      <th>...</th>\n",
       "      <td>...</td>\n",
       "      <td>...</td>\n",
       "      <td>...</td>\n",
       "      <td>...</td>\n",
       "      <td>...</td>\n",
       "      <td>...</td>\n",
       "    </tr>\n",
       "    <tr>\n",
       "      <th>166</th>\n",
       "      <td>-0.7</td>\n",
       "      <td>76</td>\n",
       "      <td>0</td>\n",
       "      <td>558.0</td>\n",
       "      <td>10.0</td>\n",
       "      <td>0.0000</td>\n",
       "    </tr>\n",
       "    <tr>\n",
       "      <th>167</th>\n",
       "      <td>-15.5</td>\n",
       "      <td>68</td>\n",
       "      <td>0</td>\n",
       "      <td>306.0</td>\n",
       "      <td>3.0</td>\n",
       "      <td>0.0000</td>\n",
       "    </tr>\n",
       "    <tr>\n",
       "      <th>168</th>\n",
       "      <td>-0.4</td>\n",
       "      <td>71</td>\n",
       "      <td>0</td>\n",
       "      <td>403.0</td>\n",
       "      <td>4.0</td>\n",
       "      <td>0.0000</td>\n",
       "    </tr>\n",
       "    <tr>\n",
       "      <th>169</th>\n",
       "      <td>5.0</td>\n",
       "      <td>79</td>\n",
       "      <td>0</td>\n",
       "      <td>570.0</td>\n",
       "      <td>14.0</td>\n",
       "      <td>0.0000</td>\n",
       "    </tr>\n",
       "    <tr>\n",
       "      <th>170</th>\n",
       "      <td>9.0</td>\n",
       "      <td>81</td>\n",
       "      <td>0</td>\n",
       "      <td>700.0</td>\n",
       "      <td>3.0</td>\n",
       "      <td>0.0000</td>\n",
       "    </tr>\n",
       "  </tbody>\n",
       "</table>\n",
       "<p>171 rows × 6 columns</p>\n",
       "</div>"
      ],
      "text/plain": [
       "        T  RH   TOW   Prec   SO2      H+\n",
       "0     9.5  79  2830  639.3  77.5  0.0000\n",
       "1    10.3  74  2555  380.8  58.1  0.0221\n",
       "2     9.1  73  2627  684.3  41.2  0.0714\n",
       "3     9.8  77  3529  581.1  32.1  0.0342\n",
       "4     7.0  77  3011  850.2  19.7  0.0000\n",
       "..    ...  ..   ...    ...   ...     ...\n",
       "166  -0.7  76     0  558.0  10.0  0.0000\n",
       "167 -15.5  68     0  306.0   3.0  0.0000\n",
       "168  -0.4  71     0  403.0   4.0  0.0000\n",
       "169   5.0  79     0  570.0  14.0  0.0000\n",
       "170   9.0  81     0  700.0   3.0  0.0000\n",
       "\n",
       "[171 rows x 6 columns]"
      ]
     },
     "execution_count": 5,
     "metadata": {},
     "output_type": "execute_result"
    }
   ],
   "source": [
    "feature"
   ]
  },
  {
   "cell_type": "code",
   "execution_count": 6,
   "id": "minor-match",
   "metadata": {},
   "outputs": [
    {
     "data": {
      "text/plain": [
       "0      14.89\n",
       "1       6.98\n",
       "2       7.78\n",
       "3       5.69\n",
       "4       8.95\n",
       "       ...  \n",
       "166     6.35\n",
       "167     1.24\n",
       "168     3.84\n",
       "169     7.41\n",
       "170     7.03\n",
       "Name: CR, Length: 171, dtype: float64"
      ]
     },
     "execution_count": 6,
     "metadata": {},
     "output_type": "execute_result"
    }
   ],
   "source": [
    "target"
   ]
  },
  {
   "cell_type": "code",
   "execution_count": 7,
   "id": "particular-contrary",
   "metadata": {},
   "outputs": [],
   "source": [
    "X = feature                         # inputs/features \n",
    "y = target # outputs/targets"
   ]
  },
  {
   "cell_type": "code",
   "execution_count": 8,
   "id": "responsible-reservation",
   "metadata": {},
   "outputs": [],
   "source": [
    "seed = 726"
   ]
  },
  {
   "cell_type": "code",
   "execution_count": 9,
   "id": "empty-excess",
   "metadata": {},
   "outputs": [],
   "source": [
    "# Generate train/test split by reserving 10% of data as test set\n",
    "from sklearn.model_selection import train_test_split\n",
    "\n",
    "test_fraction = 0.1\n",
    "X_train, X_test, y_train, y_test = train_test_split(X, y, test_size=test_fraction, shuffle=True,random_state=seed)"
   ]
  },
  {
   "cell_type": "code",
   "execution_count": 10,
   "id": "executed-patent",
   "metadata": {},
   "outputs": [
    {
     "name": "stdout",
     "output_type": "stream",
     "text": [
      "Model training complete.\n"
     ]
    }
   ],
   "source": [
    "Default_model = BaggingRegressor(random_state=seed,n_estimators=1,bootstrap=False).fit(X_train,y_train) # fit the decision tree model\n",
    "print('Model training complete.')\n",
    "# print('Tree depth:', [estimator.tree_.max_depth for estimator in Default_model.estimators_])\n",
    "# for importance in zip (estimator.feature_importances_ for estimator in Default_model.estimators_):\n",
    "#     print (importance)\n",
    "#print('Leaf nodes:',[estimator.tree_.n_leaves for estimator in Default_model.estimators_])"
   ]
  },
  {
   "cell_type": "code",
   "execution_count": 11,
   "id": "activated-scroll",
   "metadata": {},
   "outputs": [
    {
     "data": {
      "image/png": "[encoded data removed]",
      "text/plain": [
       "<Figure size 1080x360 with 2 Axes>"
      ]
     },
     "metadata": {
      "needs_background": "light"
     },
     "output_type": "display_data"
    },
    {
     "data": {
      "text/html": [
       "<div>\n",
       "<style scoped>\n",
       "    .dataframe tbody tr th:only-of-type {\n",
       "        vertical-align: middle;\n",
       "    }\n",
       "\n",
       "    .dataframe tbody tr th {\n",
       "        vertical-align: top;\n",
       "    }\n",
       "\n",
       "    .dataframe thead th {\n",
       "        text-align: right;\n",
       "    }\n",
       "</style>\n",
       "<table border=\"1\" class=\"dataframe\">\n",
       "  <thead>\n",
       "    <tr style=\"text-align: right;\">\n",
       "      <th></th>\n",
       "      <th>Error Metric</th>\n",
       "      <th>Training Data</th>\n",
       "      <th>Test Data</th>\n",
       "      <th>Note</th>\n",
       "    </tr>\n",
       "  </thead>\n",
       "  <tbody>\n",
       "    <tr>\n",
       "      <th>0</th>\n",
       "      <td>RMSE</td>\n",
       "      <td>0.395 (g/m2)</td>\n",
       "      <td>3.0299 (g/m2)</td>\n",
       "      <td>(0.0 for perfect prediction)</td>\n",
       "    </tr>\n",
       "    <tr>\n",
       "      <th>1</th>\n",
       "      <td>RMSE/std</td>\n",
       "      <td>0.0867</td>\n",
       "      <td>0.4124</td>\n",
       "      <td>(0.0 for perfect prediction)</td>\n",
       "    </tr>\n",
       "    <tr>\n",
       "      <th>2</th>\n",
       "      <td>MAE</td>\n",
       "      <td>0.0452 (g/m2)</td>\n",
       "      <td>2.2064 (g/m2)</td>\n",
       "      <td>(0.0 for perfect prediction)</td>\n",
       "    </tr>\n",
       "    <tr>\n",
       "      <th>3</th>\n",
       "      <td>R2</td>\n",
       "      <td>0.9925</td>\n",
       "      <td>0.8299</td>\n",
       "      <td>(1.0 for perfect prediction)</td>\n",
       "    </tr>\n",
       "  </tbody>\n",
       "</table>\n",
       "</div>"
      ],
      "text/plain": [
       "  Error Metric  Training Data      Test Data                          Note\n",
       "0         RMSE   0.395 (g/m2)  3.0299 (g/m2)  (0.0 for perfect prediction)\n",
       "1     RMSE/std         0.0867         0.4124  (0.0 for perfect prediction)\n",
       "2          MAE  0.0452 (g/m2)  2.2064 (g/m2)  (0.0 for perfect prediction)\n",
       "3           R2         0.9925         0.8299  (1.0 for perfect prediction)"
      ]
     },
     "execution_count": 11,
     "metadata": {},
     "output_type": "execute_result"
    }
   ],
   "source": [
    "Train_predictions = Default_model.predict(X_train)    # Make predictions on training data\n",
    "Test_predictions = Default_model.predict(X_test)      # Make predictions on testing data\n",
    "\n",
    "parity_plots_side_by_side(y_train,Train_predictions,y_test,Test_predictions,title_left=\"Training Data Parity Plot\",title_right=\"Test Data Parity Plot\") # build both plots\n",
    "parity_stats_side_by_side(y_train,Train_predictions,y_test,Test_predictions,\"Training Data\",\"Test Data\")  # print error metrics for training data"
   ]
  },
  {
   "cell_type": "markdown",
   "id": "liberal-sixth",
   "metadata": {},
   "source": [
    "# IMPROVING THE MODEL BY OPTIMIZING HYPERPARAMETERS"
   ]
  },
  {
   "cell_type": "code",
   "execution_count": 12,
   "id": "affected-updating",
   "metadata": {},
   "outputs": [
    {
     "name": "stdout",
     "output_type": "stream",
     "text": [
      "Default model uses the following hyperparameters:\n",
      "\n",
      "{'base_estimator': None, 'bootstrap': False, 'bootstrap_features': False, 'max_features': 1.0, 'max_samples': 1.0, 'n_estimators': 1, 'n_jobs': None, 'oob_score': False, 'random_state': 726, 'verbose': 0, 'warm_start': False}\n"
     ]
    }
   ],
   "source": [
    "print('Default model uses the following hyperparameters:\\n') # print default hyperparameters used\n",
    "print(Default_model.get_params())"
   ]
  },
  {
   "cell_type": "code",
   "execution_count": 13,
   "id": "artificial-paintball",
   "metadata": {},
   "outputs": [],
   "source": [
    "# set up hyperparameter grid (a dictionary of hyperparameter candidates that we want the optimization strategy to consider)\n",
    "\n",
    "# EDIT LIST TO TRY DIFFERENT VALUES!\n",
    "### MAKE EDITS BELOW HERE ###\n",
    "\n",
    "number_of_trees = [1,10,25,50,100,200]\n",
    "\n",
    "### MAKE EDITS ABOVE HERE ###\n",
    "\n",
    "opt_dict = {'n_estimators':number_of_trees,'bootstrap':['True']}"
   ]
  },
  {
   "cell_type": "code",
   "execution_count": 14,
   "id": "sweet-orientation",
   "metadata": {},
   "outputs": [],
   "source": [
    "# kfold = KFold(n_splits=5,random_state=seed,shuffle=True)\n",
    "kfold = KFold(n_splits=10,\n",
    "                      random_state=seed,\n",
    "                      shuffle=True)"
   ]
  },
  {
   "cell_type": "code",
   "execution_count": 15,
   "id": "typical-separation",
   "metadata": {},
   "outputs": [
    {
     "name": "stdout",
     "output_type": "stream",
     "text": [
      "Grid search completed in 10.958 seconds.\n",
      "{'bootstrap': 'True', 'n_estimators': 50}\n"
     ]
    }
   ],
   "source": [
    "# define a grid search strategy\n",
    "\n",
    "import time\n",
    "\n",
    "CV = GridSearchCV(Default_model, # 1. the model whose hyperparamter is being optimized right now\n",
    "                  opt_dict,   # 2. a dictionary of values that we want the grid search to use\n",
    "                  cv=kfold,   # 4. k-fold cross-validation strategy is used to define training and validation splits (note this is separate from test splits) to be used for each grid point\n",
    "                  return_train_score=True,\n",
    "                  scoring=['neg_mean_squared_error','r2','neg_mean_absolute_error'], # 5. the performance metrics to be reported at each grid point specified in opt_dict\n",
    "                  refit='neg_mean_squared_error')\n",
    "\n",
    "# perform grid search\n",
    "tic = time.perf_counter() # start timer\n",
    "\n",
    "CV = CV.fit(X_train,y_train)\n",
    "\n",
    "toc = time.perf_counter() # stop timer\n",
    "\n",
    "# print results\n",
    "print(f\"Grid search completed in {toc - tic:0.3f} seconds.\")\n",
    "print(CV.best_params_)"
   ]
  },
  {
   "cell_type": "markdown",
   "id": "running-effect",
   "metadata": {},
   "source": [
    "# VISUALIZING THE LEARNING CURVE"
   ]
  },
  {
   "cell_type": "code",
   "execution_count": 16,
   "id": "scheduled-replica",
   "metadata": {},
   "outputs": [
    {
     "data": {
      "image/png": "[encoded data removed]",
      "text/plain": [
       "<Figure size 576x288 with 1 Axes>"
      ]
     },
     "metadata": {
      "needs_background": "light"
     },
     "output_type": "display_data"
    },
    {
     "name": "stdout",
     "output_type": "stream",
     "text": [
      "Minimum Mean Squared Error:  11.8736\n",
      "Number of Trees at minimum:  50\n"
     ]
    }
   ],
   "source": [
    "# plot number of trees vs train and test MSE\n",
    "\n",
    "opt_dict_array = opt_dict[\"n_estimators\"]                     # array of grid points (x-axis)\n",
    "train_mse = CV.cv_results_[\"mean_train_neg_mean_squared_error\"] # MSE of training set at each grid point (y-axis)\n",
    "test_mse = CV.cv_results_[\"mean_test_neg_mean_squared_error\"]   # MSE of test set at each grid point (y-axis)\n",
    "\n",
    "fig1,ax1 = plt.subplots(figsize=(8,4))\n",
    "ax1.scatter(opt_dict_array, -train_mse)\n",
    "ax1.scatter(opt_dict_array, -test_mse)\n",
    "# ax1.fill_between(opt_dict_array, -train_mse, -test_mse, alpha=0.1)\n",
    "ax1.set_xlabel('Number of Trees')\n",
    "ax1.set_ylabel('Mean Squared Error')\n",
    "ax1.set_title('Compare training and validation MSE vs hyperparameter')\n",
    "plt.legend([\"Training\",\"Validation\",\"difference\"])\n",
    "plt.show()\n",
    "print(\"Minimum Mean Squared Error: \", round(min(-test_mse),4))\n",
    "print(\"Number of Trees at minimum: \", opt_dict_array[np.argmin(-test_mse)])"
   ]
  },
  {
   "cell_type": "code",
   "execution_count": 17,
   "id": "unauthorized-laundry",
   "metadata": {},
   "outputs": [
    {
     "data": {
      "text/plain": [
       "{'bootstrap': 'True', 'n_estimators': 50}"
      ]
     },
     "execution_count": 17,
     "metadata": {},
     "output_type": "execute_result"
    }
   ],
   "source": [
    "# check what the best parameters identified in the grid search were\n",
    "CV.best_params_"
   ]
  },
  {
   "cell_type": "code",
   "execution_count": 18,
   "id": "bibliographic-copying",
   "metadata": {},
   "outputs": [
    {
     "name": "stdout",
     "output_type": "stream",
     "text": [
      "Average test RMSE:  3.4458 (0.0 for perfect prediction)\n",
      "Average test RMSE/std:  0.7561 (0.0 for perfect prediction)\n",
      "Average test MAE:  2.2679 (0.0 for perfect prediction)\n",
      "Average test R2:  0.4155 (1.0 for perfect prediction)\n"
     ]
    }
   ],
   "source": [
    "# Extract cross validation performance metrics for the optimized model\n",
    "opt_CV_stats = CV_best_stats(CV,y_train)"
   ]
  },
  {
   "cell_type": "code",
   "execution_count": 19,
   "id": "proved-package",
   "metadata": {},
   "outputs": [
    {
     "name": "stdout",
     "output_type": "stream",
     "text": [
      "Average test RMSE:  4.6095 (0.0 for perfect prediction)\n",
      "Average test RMSE/std:  1.0114 (0.0 for perfect prediction)\n",
      "Average test MAE:  3.0096 (0.0 for perfect prediction)\n",
      "Average test R2:  -0.3518 (1.0 for perfect prediction)\n"
     ]
    }
   ],
   "source": [
    "default_opt_dict = {'n_estimators':[1]}\n",
    "\n",
    "default_CV = GridSearchCV(Default_model,\n",
    "                          default_opt_dict,\n",
    "                          cv=kfold,\n",
    "                          return_train_score=True,\n",
    "                          scoring=['neg_mean_squared_error','r2','neg_mean_absolute_error'],\n",
    "                          refit='neg_mean_squared_error')\n",
    "default_CV = default_CV.fit(X_train,y_train)\n",
    "\n",
    "default_CV_stats = CV_best_stats(default_CV,y_train)"
   ]
  },
  {
   "cell_type": "markdown",
   "id": "speaking-dating",
   "metadata": {},
   "source": [
    "# DEFAULT VS. OPTIMIZED MODEL: TRAINING AND TEST DATA PERFORMANCE"
   ]
  },
  {
   "cell_type": "code",
   "execution_count": 20,
   "id": "accurate-subscriber",
   "metadata": {},
   "outputs": [],
   "source": [
    "# Refit the model using the best hyperparameters\n",
    "DT2 = CV.best_estimator_.fit(X_train,y_train)\n",
    "\n",
    "# predict both the train and test data\n",
    "Train_predictions2 = DT2.predict(X_train)\n",
    "Test_predictions2 = DT2.predict(X_test)"
   ]
  },
  {
   "cell_type": "code",
   "execution_count": 21,
   "id": "assisted-minister",
   "metadata": {},
   "outputs": [
    {
     "data": {
      "image/png": "[encoded data removed]",
      "text/plain": [
       "<Figure size 1080x360 with 2 Axes>"
      ]
     },
     "metadata": {
      "needs_background": "light"
     },
     "output_type": "display_data"
    },
    {
     "data": {
      "text/html": [
       "<div>\n",
       "<style scoped>\n",
       "    .dataframe tbody tr th:only-of-type {\n",
       "        vertical-align: middle;\n",
       "    }\n",
       "\n",
       "    .dataframe tbody tr th {\n",
       "        vertical-align: top;\n",
       "    }\n",
       "\n",
       "    .dataframe thead th {\n",
       "        text-align: right;\n",
       "    }\n",
       "</style>\n",
       "<table border=\"1\" class=\"dataframe\">\n",
       "  <thead>\n",
       "    <tr style=\"text-align: right;\">\n",
       "      <th></th>\n",
       "      <th>Error Metric</th>\n",
       "      <th>Training Set (Default Model)</th>\n",
       "      <th>Training Set (Optimized Model)</th>\n",
       "      <th>Note</th>\n",
       "    </tr>\n",
       "  </thead>\n",
       "  <tbody>\n",
       "    <tr>\n",
       "      <th>0</th>\n",
       "      <td>RMSE</td>\n",
       "      <td>0.395 (g/m2)</td>\n",
       "      <td>1.322 (g/m2)</td>\n",
       "      <td>(0.0 for perfect prediction)</td>\n",
       "    </tr>\n",
       "    <tr>\n",
       "      <th>1</th>\n",
       "      <td>RMSE/std</td>\n",
       "      <td>0.0867</td>\n",
       "      <td>0.2901</td>\n",
       "      <td>(0.0 for perfect prediction)</td>\n",
       "    </tr>\n",
       "    <tr>\n",
       "      <th>2</th>\n",
       "      <td>MAE</td>\n",
       "      <td>0.0452 (g/m2)</td>\n",
       "      <td>0.8566 (g/m2)</td>\n",
       "      <td>(0.0 for perfect prediction)</td>\n",
       "    </tr>\n",
       "    <tr>\n",
       "      <th>3</th>\n",
       "      <td>R2</td>\n",
       "      <td>0.9925</td>\n",
       "      <td>0.9159</td>\n",
       "      <td>(1.0 for perfect prediction)</td>\n",
       "    </tr>\n",
       "  </tbody>\n",
       "</table>\n",
       "</div>"
      ],
      "text/plain": [
       "  Error Metric Training Set (Default Model) Training Set (Optimized Model)  \\\n",
       "0         RMSE                 0.395 (g/m2)                   1.322 (g/m2)   \n",
       "1     RMSE/std                       0.0867                         0.2901   \n",
       "2          MAE                0.0452 (g/m2)                  0.8566 (g/m2)   \n",
       "3           R2                       0.9925                         0.9159   \n",
       "\n",
       "                           Note  \n",
       "0  (0.0 for perfect prediction)  \n",
       "1  (0.0 for perfect prediction)  \n",
       "2  (0.0 for perfect prediction)  \n",
       "3  (1.0 for perfect prediction)  "
      ]
     },
     "execution_count": 21,
     "metadata": {},
     "output_type": "execute_result"
    }
   ],
   "source": [
    "parity_plots_side_by_side(y_train,Train_predictions,y_train,Train_predictions2,title_left=\"Training Parity Plot (Default Model)\",title_right=\"Training Parity Plot (Optimized Model)\") # build both plots\n",
    "parity_stats_side_by_side(y_train,Train_predictions,y_train,Train_predictions2,\"Training Set (Default Model)\",\"Training Set (Optimized Model)\")"
   ]
  },
  {
   "cell_type": "code",
   "execution_count": 22,
   "id": "saved-lindsay",
   "metadata": {},
   "outputs": [
    {
     "data": {
      "image/png": "[encoded data removed]",
      "text/plain": [
       "<Figure size 1080x360 with 2 Axes>"
      ]
     },
     "metadata": {
      "needs_background": "light"
     },
     "output_type": "display_data"
    },
    {
     "data": {
      "text/html": [
       "<div>\n",
       "<style scoped>\n",
       "    .dataframe tbody tr th:only-of-type {\n",
       "        vertical-align: middle;\n",
       "    }\n",
       "\n",
       "    .dataframe tbody tr th {\n",
       "        vertical-align: top;\n",
       "    }\n",
       "\n",
       "    .dataframe thead th {\n",
       "        text-align: right;\n",
       "    }\n",
       "</style>\n",
       "<table border=\"1\" class=\"dataframe\">\n",
       "  <thead>\n",
       "    <tr style=\"text-align: right;\">\n",
       "      <th></th>\n",
       "      <th>Error Metric</th>\n",
       "      <th>Test Set (Default Model)</th>\n",
       "      <th>Test Set (Optimized Model)</th>\n",
       "      <th>Note</th>\n",
       "    </tr>\n",
       "  </thead>\n",
       "  <tbody>\n",
       "    <tr>\n",
       "      <th>0</th>\n",
       "      <td>RMSE</td>\n",
       "      <td>3.0299 (g/m2)</td>\n",
       "      <td>2.3694 (g/m2)</td>\n",
       "      <td>(0.0 for perfect prediction)</td>\n",
       "    </tr>\n",
       "    <tr>\n",
       "      <th>1</th>\n",
       "      <td>RMSE/std</td>\n",
       "      <td>0.4124</td>\n",
       "      <td>0.3225</td>\n",
       "      <td>(0.0 for perfect prediction)</td>\n",
       "    </tr>\n",
       "    <tr>\n",
       "      <th>2</th>\n",
       "      <td>MAE</td>\n",
       "      <td>2.2064 (g/m2)</td>\n",
       "      <td>1.6981 (g/m2)</td>\n",
       "      <td>(0.0 for perfect prediction)</td>\n",
       "    </tr>\n",
       "    <tr>\n",
       "      <th>3</th>\n",
       "      <td>R2</td>\n",
       "      <td>0.8299</td>\n",
       "      <td>0.896</td>\n",
       "      <td>(1.0 for perfect prediction)</td>\n",
       "    </tr>\n",
       "  </tbody>\n",
       "</table>\n",
       "</div>"
      ],
      "text/plain": [
       "  Error Metric Test Set (Default Model) Test Set (Optimized Model)  \\\n",
       "0         RMSE            3.0299 (g/m2)              2.3694 (g/m2)   \n",
       "1     RMSE/std                   0.4124                     0.3225   \n",
       "2          MAE            2.2064 (g/m2)              1.6981 (g/m2)   \n",
       "3           R2                   0.8299                      0.896   \n",
       "\n",
       "                           Note  \n",
       "0  (0.0 for perfect prediction)  \n",
       "1  (0.0 for perfect prediction)  \n",
       "2  (0.0 for perfect prediction)  \n",
       "3  (1.0 for perfect prediction)  "
      ]
     },
     "execution_count": 22,
     "metadata": {},
     "output_type": "execute_result"
    }
   ],
   "source": [
    "parity_plots_side_by_side(y_test,Test_predictions,y_test,Test_predictions2, title_left=\"Test Parity Plot (Default Model)\",title_right=\"Test Parity Plot (Optimized Model)\") # build both plots\n",
    "parity_stats_side_by_side(y_test,Test_predictions,y_test,Test_predictions2,\"Test Set (Default Model)\",\"Test Set (Optimized Model)\")"
   ]
  },
  {
   "cell_type": "code",
   "execution_count": 23,
   "id": "welcome-recommendation",
   "metadata": {},
   "outputs": [
    {
     "data": {
      "image/png": "[encoded data removed]",
      "text/plain": [
       "<Figure size 1080x360 with 2 Axes>"
      ]
     },
     "metadata": {
      "needs_background": "light"
     },
     "output_type": "display_data"
    }
   ],
   "source": [
    "parity_plots_side_by_side(y_train,Train_predictions2,y_test,Test_predictions2, title_left=\"Train Parity Plot (Optimized Model)\",title_right=\"Test Parity Plot (Optimized Model)\") # build both plots"
   ]
  },
  {
   "cell_type": "code",
   "execution_count": 24,
   "id": "stainless-understanding",
   "metadata": {},
   "outputs": [
    {
     "data": {
      "image/png": "[encoded data removed]",
      "text/plain": [
       "<Figure size 1080x360 with 2 Axes>"
      ]
     },
     "metadata": {
      "needs_background": "light"
     },
     "output_type": "display_data"
    }
   ],
   "source": [
    "parity_plots_side_by_side(y_train,Train_predictions2,y_test,Test_predictions2, title_left=\"Train Parity Plot (Optimized Model)\",title_right=\"Test Parity Plot (Optimized Model)\") # build both plots"
   ]
  },
  {
   "cell_type": "code",
   "execution_count": 25,
   "id": "defensive-discovery",
   "metadata": {},
   "outputs": [
    {
     "data": {
      "text/html": [
       "        <script type=\"text/javascript\">\n",
       "        window.PlotlyConfig = {MathJaxConfig: 'local'};\n",
       "        if (window.MathJax) {MathJax.Hub.Config({SVG: {font: \"STIX-Web\"}});}\n",
       "        if (typeof require !== 'undefined') {\n",
       "        require.undef(\"plotly\");\n",
       "        requirejs.config({\n",
       "            paths: {\n",
       "                'plotly': ['https://cdn.plot.ly/plotly-latest.min']\n",
       "            }\n",
       "        });\n",
       "        require(['plotly'], function(Plotly) {\n",
       "            window._Plotly = Plotly;\n",
       "        });\n",
       "        }\n",
       "        </script>\n",
       "        "
      ]
     },
     "metadata": {},
     "output_type": "display_data"
    }
   ],
   "source": [
    "import plotly\n",
    "import plotly.graph_objs as go\n",
    "from plotly.offline import iplot\n",
    "plotly.offline.init_notebook_mode(connected=True)"
   ]
  },
  {
   "cell_type": "code",
   "execution_count": 26,
   "id": "robust-crown",
   "metadata": {},
   "outputs": [],
   "source": [
    "layout0= go.Layout(title= r'$ \\text{ Bagging Regressor } $', hovermode= 'closest',\n",
    "                       font = dict(family='Times New Roman',size=18),\n",
    "                       xaxis= dict(title= 'Measured Corr Rate (g/m2)',zeroline= False, gridwidth= 2),\n",
    "                       yaxis= dict(title= 'Predicted Corr Rate (g/m2)',zeroline= False, gridwidth= 2),#range=[-350,3750]),\n",
    "                       #height=1000,\n",
    "                       #width=1000,\n",
    "         showlegend= True )\n"
   ]
  },
  {
   "cell_type": "code",
   "execution_count": 27,
   "id": "characteristic-daisy",
   "metadata": {},
   "outputs": [
    {
     "data": {
      "application/vnd.plotly.v1+json": {
       "config": {
        "linkText": "Export to plot.ly",
        "plotlyServerURL": "https://plot.ly",
        "showLink": false
       },
       "data": [
        {
         "marker": {
          "color": "blue",
          "size": 12
         },
         "mode": "markers",
         "name": "Training Data",
         "type": "scatter",
         "x": [
          7.409999997999999,
          1.69,
          8.499999996,
          7.990000002,
          10.22,
          10.72,
          12.17,
          7.490000004,
          8.350000001,
          5.179999999,
          4.300000001,
          2.380000001,
          2.88,
          9.069999999,
          1.64,
          3.53,
          5.540000001,
          7.18,
          1.94,
          6.1200000029999995,
          21.23999999,
          8.419999998,
          7.060000003,
          7.030000001,
          5.260000001,
          3.019999999,
          5.469999998,
          5.689999998999999,
          14.89,
          5.260000001,
          4.25,
          3.0700000010000004,
          8.920000004,
          3.890000001,
          6.350000001000001,
          3.53,
          7.920000001,
          3.53,
          3.53,
          9.069999999,
          11.02,
          3.840000002,
          4.61,
          2.3,
          5.620000001,
          7.850000002000001,
          11.74,
          4.54,
          1.58,
          8.949999997,
          4.25,
          4.68,
          6.7700000010000005,
          6.3399999970000005,
          5.829999998,
          13.61,
          12.46,
          4.82,
          1.08,
          3.46,
          7.060000003,
          8.350000001,
          4.61,
          9.069999999,
          9.430000003,
          6.190000002000001,
          8.14,
          4.39,
          23.83,
          5.829999998,
          7.740000003,
          25.56000001,
          10.36,
          6.980000002000001,
          8.060000003999999,
          8.419999998,
          1.22,
          11.59,
          10.66,
          8.499999996,
          2.09,
          20.88,
          14.33,
          5.620000001,
          6.980000002000001,
          15.34,
          12.81999999,
          3.739999998,
          6.699999997000001,
          1.24,
          3.890000001,
          4.100000001000001,
          6.05,
          7.270000003,
          4.75,
          7.629999998,
          9.880000002000001,
          7.5599999989999995,
          11.38,
          1.51,
          6.699999997000001,
          1.15,
          10.66,
          2.88,
          6.699999997000001,
          7.779999999,
          6.479999997999999,
          9.290000002000001,
          1.809999999,
          7.850000002000001,
          9.719999995,
          25.78000001,
          6.840000002999999,
          5.179999999,
          7.340000002999999,
          9.759999996,
          7.490000004,
          10.01,
          6.62,
          1.01,
          4.319999999,
          18.65,
          1.659999999,
          11.09,
          3.890000001,
          1.659999999,
          3.3699999989999996,
          5.98,
          1.94,
          14.76,
          7.920000001,
          0.65,
          10.58,
          10.32,
          4.639999999,
          5.04,
          4.03,
          9.719999995,
          4.100000001000001,
          11.45,
          1.58,
          4.68,
          8.570000002999999,
          6.259999999,
          0.94,
          7.060000003,
          5.689999998999999,
          5.300000002,
          8.310000001,
          9.929999999,
          3.099999998,
          8.640000002,
          12.89
         ],
         "y": [
          6.884599999319997,
          2.4246000000799994,
          9.045199996959994,
          8.037600001319994,
          9.513199999880008,
          10.037599999620008,
          11.377800000040002,
          7.058600001800003,
          8.509400000500003,
          6.605799999100002,
          4.86880000072,
          3.29820000088,
          3.470400000259998,
          8.490799999500002,
          2.57060000014,
          4.09439999988,
          6.269200001360003,
          6.974200000340001,
          2.0425999998799997,
          5.604400001239998,
          15.59019999368,
          8.335799999139997,
          7.4634000022200055,
          6.043200000459998,
          5.90140000054,
          3.86439999896,
          5.297599998939997,
          7.140199998660003,
          13.958799999859993,
          5.588000000580001,
          5.267200000260001,
          4.298400000660001,
          8.221000003159993,
          3.2390000004400012,
          5.819200000560005,
          3.8118000000800003,
          10.321800000680003,
          3.9814000000200003,
          3.6956000003000007,
          9.112399999160003,
          11.539799999299996,
          3.5782000011600013,
          5.2306000001200035,
          3.0640000001399996,
          6.342400000559999,
          8.178400001040002,
          10.966000000080003,
          4.6129999997799995,
          1.5065999999399993,
          8.814199998340005,
          4.087600000080001,
          5.024400000000004,
          6.69160000018,
          6.750399998600004,
          5.262799998680002,
          11.166800000480002,
          10.609399999379997,
          5.712399999299997,
          2.503799999559999,
          5.19600000004,
          10.967199998980009,
          7.593000001100004,
          6.891799999300003,
          8.980599999340003,
          8.353400002099995,
          6.13780000144,
          8.221199999979996,
          4.402999999879996,
          18.438766667973344,
          6.1547999987000015,
          8.149000001959996,
          20.124218576204278,
          10.195199999420005,
          9.107400001179998,
          8.472400002420006,
          9.425799998459995,
          1.9209999995999996,
          11.231200000039994,
          10.816400000080007,
          8.247999996999996,
          2.3363999998600007,
          18.042000000819996,
          12.563799999240002,
          6.331200001019997,
          8.302000001920002,
          13.02399999976,
          10.231999994499994,
          4.636799998460001,
          6.337999998020003,
          1.3489999999000002,
          4.932800000220003,
          4.46260000048,
          6.616000000200002,
          7.381000002420004,
          5.0116000003200005,
          7.754799999040002,
          8.322200001299995,
          8.016399999320008,
          10.434399999799998,
          1.994400000220001,
          5.895399998079999,
          5.480266667793331,
          10.643000000500008,
          3.0376000001200003,
          6.866799998580004,
          8.883399999619998,
          6.953999998679999,
          8.712600000839998,
          1.7143999994199992,
          7.888400001420001,
          8.788999996340005,
          23.22660000584,
          6.9286000019800005,
          5.58819999952,
          8.52760000154,
          10.252999997999998,
          7.305800002880004,
          12.085799998199995,
          7.495000000120001,
          3.5571999995200003,
          4.224999999220002,
          20.124218576204278,
          2.4773999993400015,
          9.397999999859994,
          3.990000000820001,
          1.6211999995000002,
          3.509199999319998,
          5.488199999739999,
          3.8459999995999983,
          12.823599999739997,
          8.045000000340004,
          1.2115999999399991,
          7.832600000059999,
          9.744999999799996,
          4.500399999159999,
          5.901999999800001,
          5.38200000018,
          9.212599996080005,
          4.711200000480004,
          10.962999999839997,
          1.5541999998599991,
          4.919799999920003,
          9.138600002240006,
          6.276599999460001,
          1.5981999999799987,
          7.730800001940004,
          5.831799999700003,
          5.161000000639998,
          7.589600000719995,
          9.126399999580006,
          2.7327999985000004,
          8.648600000680005,
          10.927200000319994
         ]
        },
        {
         "marker": {
          "color": "red",
          "size": 12
         },
         "mode": "markers",
         "name": "Testing Data",
         "type": "scatter",
         "x": [
          11.52,
          4.75,
          10.15,
          24.48000001,
          0.65,
          16.41,
          1.659999999,
          6.62,
          7.700000001,
          27,
          4.319999999,
          2.9099999989999996,
          2.03,
          7.2,
          2.019999999,
          3.739999998,
          4.899999998999999,
          5.689999998999999
         ],
         "y": [
          8.746599999860003,
          5.564399999660003,
          7.699999999640002,
          23.22660000584,
          1.480199999899999,
          12.008200000159997,
          2.6727999997200005,
          5.580000000600002,
          5.075199999860003,
          20.124218576204278,
          5.140199999940002,
          2.287599999959999,
          2.1357999999799997,
          5.58199999934,
          1.9253999997399993,
          5.350799999400001,
          6.4797999997800035,
          5.6518000005800015
         ]
        },
        {
         "marker": {
          "color": "black",
          "size": 12
         },
         "mode": "lines",
         "name": "Linear Fit",
         "text": "Fit",
         "type": "scatter",
         "x": [
          0.65,
          1.1877551020408164,
          1.7255102040816328,
          2.263265306122449,
          2.8010204081632653,
          3.3387755102040817,
          3.8765306122448977,
          4.414285714285715,
          4.952040816326531,
          5.4897959183673475,
          6.027551020408164,
          6.56530612244898,
          7.103061224489796,
          7.640816326530612,
          8.178571428571429,
          8.716326530612246,
          9.254081632653062,
          9.791836734693877,
          10.329591836734695,
          10.86734693877551,
          11.405102040816328,
          11.942857142857143,
          12.48061224489796,
          13.018367346938776,
          13.556122448979592,
          14.093877551020409,
          14.631632653061224,
          15.169387755102042,
          15.707142857142857,
          16.244897959183675,
          16.78265306122449,
          17.320408163265306,
          17.85816326530612,
          18.395918367346937,
          18.933673469387752,
          19.47142857142857,
          20.009183673469387,
          20.546938775510203,
          21.084693877551018,
          21.622448979591837,
          22.160204081632653,
          22.69795918367347,
          23.235714285714284,
          23.7734693877551,
          24.31122448979592,
          24.848979591836734,
          25.38673469387755,
          25.924489795918365,
          26.46224489795918,
          27
         ],
         "y": [
          0.65,
          1.1877551020408164,
          1.7255102040816328,
          2.263265306122449,
          2.8010204081632653,
          3.3387755102040817,
          3.8765306122448977,
          4.414285714285715,
          4.952040816326531,
          5.4897959183673475,
          6.027551020408164,
          6.56530612244898,
          7.103061224489796,
          7.640816326530612,
          8.178571428571429,
          8.716326530612246,
          9.254081632653062,
          9.791836734693877,
          10.329591836734695,
          10.86734693877551,
          11.405102040816328,
          11.942857142857143,
          12.48061224489796,
          13.018367346938776,
          13.556122448979592,
          14.093877551020409,
          14.631632653061224,
          15.169387755102042,
          15.707142857142857,
          16.244897959183675,
          16.78265306122449,
          17.320408163265306,
          17.85816326530612,
          18.395918367346937,
          18.933673469387752,
          19.47142857142857,
          20.009183673469387,
          20.546938775510203,
          21.084693877551018,
          21.622448979591837,
          22.160204081632653,
          22.69795918367347,
          23.235714285714284,
          23.7734693877551,
          24.31122448979592,
          24.848979591836734,
          25.38673469387755,
          25.924489795918365,
          26.46224489795918,
          27
         ]
        }
       ],
       "layout": {
        "font": {
         "family": "Times New Roman",
         "size": 18
        },
        "hovermode": "closest",
        "showlegend": true,
        "template": {
         "data": {
          "bar": [
           {
            "error_x": {
             "color": "#2a3f5f"
            },
            "error_y": {
             "color": "#2a3f5f"
            },
            "marker": {
             "line": {
              "color": "#E5ECF6",
              "width": 0.5
             }
            },
            "type": "bar"
           }
          ],
          "barpolar": [
           {
            "marker": {
             "line": {
              "color": "#E5ECF6",
              "width": 0.5
             }
            },
            "type": "barpolar"
           }
          ],
          "carpet": [
           {
            "aaxis": {
             "endlinecolor": "#2a3f5f",
             "gridcolor": "white",
             "linecolor": "white",
             "minorgridcolor": "white",
             "startlinecolor": "#2a3f5f"
            },
            "baxis": {
             "endlinecolor": "#2a3f5f",
             "gridcolor": "white",
             "linecolor": "white",
             "minorgridcolor": "white",
             "startlinecolor": "#2a3f5f"
            },
            "type": "carpet"
           }
          ],
          "choropleth": [
           {
            "colorbar": {
             "outlinewidth": 0,
             "ticks": ""
            },
            "type": "choropleth"
           }
          ],
          "contour": [
           {
            "colorbar": {
             "outlinewidth": 0,
             "ticks": ""
            },
            "colorscale": [
             [
              0,
              "#0d0887"
             ],
             [
              0.1111111111111111,
              "#46039f"
             ],
             [
              0.2222222222222222,
              "#7201a8"
             ],
             [
              0.3333333333333333,
              "#9c179e"
             ],
             [
              0.4444444444444444,
              "#bd3786"
             ],
             [
              0.5555555555555556,
              "#d8576b"
             ],
             [
              0.6666666666666666,
              "#ed7953"
             ],
             [
              0.7777777777777778,
              "#fb9f3a"
             ],
             [
              0.8888888888888888,
              "#fdca26"
             ],
             [
              1,
              "#f0f921"
             ]
            ],
            "type": "contour"
           }
          ],
          "contourcarpet": [
           {
            "colorbar": {
             "outlinewidth": 0,
             "ticks": ""
            },
            "type": "contourcarpet"
           }
          ],
          "heatmap": [
           {
            "colorbar": {
             "outlinewidth": 0,
             "ticks": ""
            },
            "colorscale": [
             [
              0,
              "#0d0887"
             ],
             [
              0.1111111111111111,
              "#46039f"
             ],
             [
              0.2222222222222222,
              "#7201a8"
             ],
             [
              0.3333333333333333,
              "#9c179e"
             ],
             [
              0.4444444444444444,
              "#bd3786"
             ],
             [
              0.5555555555555556,
              "#d8576b"
             ],
             [
              0.6666666666666666,
              "#ed7953"
             ],
             [
              0.7777777777777778,
              "#fb9f3a"
             ],
             [
              0.8888888888888888,
              "#fdca26"
             ],
             [
              1,
              "#f0f921"
             ]
            ],
            "type": "heatmap"
           }
          ],
          "heatmapgl": [
           {
            "colorbar": {
             "outlinewidth": 0,
             "ticks": ""
            },
            "colorscale": [
             [
              0,
              "#0d0887"
             ],
             [
              0.1111111111111111,
              "#46039f"
             ],
             [
              0.2222222222222222,
              "#7201a8"
             ],
             [
              0.3333333333333333,
              "#9c179e"
             ],
             [
              0.4444444444444444,
              "#bd3786"
             ],
             [
              0.5555555555555556,
              "#d8576b"
             ],
             [
              0.6666666666666666,
              "#ed7953"
             ],
             [
              0.7777777777777778,
              "#fb9f3a"
             ],
             [
              0.8888888888888888,
              "#fdca26"
             ],
             [
              1,
              "#f0f921"
             ]
            ],
            "type": "heatmapgl"
           }
          ],
          "histogram": [
           {
            "marker": {
             "colorbar": {
              "outlinewidth": 0,
              "ticks": ""
             }
            },
            "type": "histogram"
           }
          ],
          "histogram2d": [
           {
            "colorbar": {
             "outlinewidth": 0,
             "ticks": ""
            },
            "colorscale": [
             [
              0,
              "#0d0887"
             ],
             [
              0.1111111111111111,
              "#46039f"
             ],
             [
              0.2222222222222222,
              "#7201a8"
             ],
             [
              0.3333333333333333,
              "#9c179e"
             ],
             [
              0.4444444444444444,
              "#bd3786"
             ],
             [
              0.5555555555555556,
              "#d8576b"
             ],
             [
              0.6666666666666666,
              "#ed7953"
             ],
             [
              0.7777777777777778,
              "#fb9f3a"
             ],
             [
              0.8888888888888888,
              "#fdca26"
             ],
             [
              1,
              "#f0f921"
             ]
            ],
            "type": "histogram2d"
           }
          ],
          "histogram2dcontour": [
           {
            "colorbar": {
             "outlinewidth": 0,
             "ticks": ""
            },
            "colorscale": [
             [
              0,
              "#0d0887"
             ],
             [
              0.1111111111111111,
              "#46039f"
             ],
             [
              0.2222222222222222,
              "#7201a8"
             ],
             [
              0.3333333333333333,
              "#9c179e"
             ],
             [
              0.4444444444444444,
              "#bd3786"
             ],
             [
              0.5555555555555556,
              "#d8576b"
             ],
             [
              0.6666666666666666,
              "#ed7953"
             ],
             [
              0.7777777777777778,
              "#fb9f3a"
             ],
             [
              0.8888888888888888,
              "#fdca26"
             ],
             [
              1,
              "#f0f921"
             ]
            ],
            "type": "histogram2dcontour"
           }
          ],
          "mesh3d": [
           {
            "colorbar": {
             "outlinewidth": 0,
             "ticks": ""
            },
            "type": "mesh3d"
           }
          ],
          "parcoords": [
           {
            "line": {
             "colorbar": {
              "outlinewidth": 0,
              "ticks": ""
             }
            },
            "type": "parcoords"
           }
          ],
          "pie": [
           {
            "automargin": true,
            "type": "pie"
           }
          ],
          "scatter": [
           {
            "marker": {
             "colorbar": {
              "outlinewidth": 0,
              "ticks": ""
             }
            },
            "type": "scatter"
           }
          ],
          "scatter3d": [
           {
            "line": {
             "colorbar": {
              "outlinewidth": 0,
              "ticks": ""
             }
            },
            "marker": {
             "colorbar": {
              "outlinewidth": 0,
              "ticks": ""
             }
            },
            "type": "scatter3d"
           }
          ],
          "scattercarpet": [
           {
            "marker": {
             "colorbar": {
              "outlinewidth": 0,
              "ticks": ""
             }
            },
            "type": "scattercarpet"
           }
          ],
          "scattergeo": [
           {
            "marker": {
             "colorbar": {
              "outlinewidth": 0,
              "ticks": ""
             }
            },
            "type": "scattergeo"
           }
          ],
          "scattergl": [
           {
            "marker": {
             "colorbar": {
              "outlinewidth": 0,
              "ticks": ""
             }
            },
            "type": "scattergl"
           }
          ],
          "scattermapbox": [
           {
            "marker": {
             "colorbar": {
              "outlinewidth": 0,
              "ticks": ""
             }
            },
            "type": "scattermapbox"
           }
          ],
          "scatterpolar": [
           {
            "marker": {
             "colorbar": {
              "outlinewidth": 0,
              "ticks": ""
             }
            },
            "type": "scatterpolar"
           }
          ],
          "scatterpolargl": [
           {
            "marker": {
             "colorbar": {
              "outlinewidth": 0,
              "ticks": ""
             }
            },
            "type": "scatterpolargl"
           }
          ],
          "scatterternary": [
           {
            "marker": {
             "colorbar": {
              "outlinewidth": 0,
              "ticks": ""
             }
            },
            "type": "scatterternary"
           }
          ],
          "surface": [
           {
            "colorbar": {
             "outlinewidth": 0,
             "ticks": ""
            },
            "colorscale": [
             [
              0,
              "#0d0887"
             ],
             [
              0.1111111111111111,
              "#46039f"
             ],
             [
              0.2222222222222222,
              "#7201a8"
             ],
             [
              0.3333333333333333,
              "#9c179e"
             ],
             [
              0.4444444444444444,
              "#bd3786"
             ],
             [
              0.5555555555555556,
              "#d8576b"
             ],
             [
              0.6666666666666666,
              "#ed7953"
             ],
             [
              0.7777777777777778,
              "#fb9f3a"
             ],
             [
              0.8888888888888888,
              "#fdca26"
             ],
             [
              1,
              "#f0f921"
             ]
            ],
            "type": "surface"
           }
          ],
          "table": [
           {
            "cells": {
             "fill": {
              "color": "#EBF0F8"
             },
             "line": {
              "color": "white"
             }
            },
            "header": {
             "fill": {
              "color": "#C8D4E3"
             },
             "line": {
              "color": "white"
             }
            },
            "type": "table"
           }
          ]
         },
         "layout": {
          "annotationdefaults": {
           "arrowcolor": "#2a3f5f",
           "arrowhead": 0,
           "arrowwidth": 1
          },
          "autotypenumbers": "strict",
          "coloraxis": {
           "colorbar": {
            "outlinewidth": 0,
            "ticks": ""
           }
          },
          "colorscale": {
           "diverging": [
            [
             0,
             "#8e0152"
            ],
            [
             0.1,
             "#c51b7d"
            ],
            [
             0.2,
             "#de77ae"
            ],
            [
             0.3,
             "#f1b6da"
            ],
            [
             0.4,
             "#fde0ef"
            ],
            [
             0.5,
             "#f7f7f7"
            ],
            [
             0.6,
             "#e6f5d0"
            ],
            [
             0.7,
             "#b8e186"
            ],
            [
             0.8,
             "#7fbc41"
            ],
            [
             0.9,
             "#4d9221"
            ],
            [
             1,
             "#276419"
            ]
           ],
           "sequential": [
            [
             0,
             "#0d0887"
            ],
            [
             0.1111111111111111,
             "#46039f"
            ],
            [
             0.2222222222222222,
             "#7201a8"
            ],
            [
             0.3333333333333333,
             "#9c179e"
            ],
            [
             0.4444444444444444,
             "#bd3786"
            ],
            [
             0.5555555555555556,
             "#d8576b"
            ],
            [
             0.6666666666666666,
             "#ed7953"
            ],
            [
             0.7777777777777778,
             "#fb9f3a"
            ],
            [
             0.8888888888888888,
             "#fdca26"
            ],
            [
             1,
             "#f0f921"
            ]
           ],
           "sequentialminus": [
            [
             0,
             "#0d0887"
            ],
            [
             0.1111111111111111,
             "#46039f"
            ],
            [
             0.2222222222222222,
             "#7201a8"
            ],
            [
             0.3333333333333333,
             "#9c179e"
            ],
            [
             0.4444444444444444,
             "#bd3786"
            ],
            [
             0.5555555555555556,
             "#d8576b"
            ],
            [
             0.6666666666666666,
             "#ed7953"
            ],
            [
             0.7777777777777778,
             "#fb9f3a"
            ],
            [
             0.8888888888888888,
             "#fdca26"
            ],
            [
             1,
             "#f0f921"
            ]
           ]
          },
          "colorway": [
           "#636efa",
           "#EF553B",
           "#00cc96",
           "#ab63fa",
           "#FFA15A",
           "#19d3f3",
           "#FF6692",
           "#B6E880",
           "#FF97FF",
           "#FECB52"
          ],
          "font": {
           "color": "#2a3f5f"
          },
          "geo": {
           "bgcolor": "white",
           "lakecolor": "white",
           "landcolor": "#E5ECF6",
           "showlakes": true,
           "showland": true,
           "subunitcolor": "white"
          },
          "hoverlabel": {
           "align": "left"
          },
          "hovermode": "closest",
          "mapbox": {
           "style": "light"
          },
          "paper_bgcolor": "white",
          "plot_bgcolor": "#E5ECF6",
          "polar": {
           "angularaxis": {
            "gridcolor": "white",
            "linecolor": "white",
            "ticks": ""
           },
           "bgcolor": "#E5ECF6",
           "radialaxis": {
            "gridcolor": "white",
            "linecolor": "white",
            "ticks": ""
           }
          },
          "scene": {
           "xaxis": {
            "backgroundcolor": "#E5ECF6",
            "gridcolor": "white",
            "gridwidth": 2,
            "linecolor": "white",
            "showbackground": true,
            "ticks": "",
            "zerolinecolor": "white"
           },
           "yaxis": {
            "backgroundcolor": "#E5ECF6",
            "gridcolor": "white",
            "gridwidth": 2,
            "linecolor": "white",
            "showbackground": true,
            "ticks": "",
            "zerolinecolor": "white"
           },
           "zaxis": {
            "backgroundcolor": "#E5ECF6",
            "gridcolor": "white",
            "gridwidth": 2,
            "linecolor": "white",
            "showbackground": true,
            "ticks": "",
            "zerolinecolor": "white"
           }
          },
          "shapedefaults": {
           "line": {
            "color": "#2a3f5f"
           }
          },
          "ternary": {
           "aaxis": {
            "gridcolor": "white",
            "linecolor": "white",
            "ticks": ""
           },
           "baxis": {
            "gridcolor": "white",
            "linecolor": "white",
            "ticks": ""
           },
           "bgcolor": "#E5ECF6",
           "caxis": {
            "gridcolor": "white",
            "linecolor": "white",
            "ticks": ""
           }
          },
          "title": {
           "x": 0.05
          },
          "xaxis": {
           "automargin": true,
           "gridcolor": "white",
           "linecolor": "white",
           "ticks": "",
           "title": {
            "standoff": 15
           },
           "zerolinecolor": "white",
           "zerolinewidth": 2
          },
          "yaxis": {
           "automargin": true,
           "gridcolor": "white",
           "linecolor": "white",
           "ticks": "",
           "title": {
            "standoff": 15
           },
           "zerolinecolor": "white",
           "zerolinewidth": 2
          }
         }
        },
        "title": {
         "text": "$ \\text{ Bagging Regressor } $"
        },
        "xaxis": {
         "gridwidth": 2,
         "title": {
          "text": "Measured Corr Rate (g/m2)"
         },
         "zeroline": false
        },
        "yaxis": {
         "gridwidth": 2,
         "title": {
          "text": "Predicted Corr Rate (g/m2)"
         },
         "zeroline": false
        }
       }
      },
      "text/html": [
       "<div>                            <div id=\"bfe1e0cd-34ea-4541-9b69-cb2e8753ba89\" class=\"plotly-graph-div\" style=\"height:525px; width:100%;\"></div>            <script type=\"text/javascript\">                require([\"plotly\"], function(Plotly) {                    window.PLOTLYENV=window.PLOTLYENV || {};                                    if (document.getElementById(\"bfe1e0cd-34ea-4541-9b69-cb2e8753ba89\")) {                    Plotly.newPlot(                        \"bfe1e0cd-34ea-4541-9b69-cb2e8753ba89\",                        [{\"marker\": {\"color\": \"blue\", \"size\": 12}, \"mode\": \"markers\", \"name\": \"Training Data\", \"type\": \"scatter\", \"x\": [7.409999997999999, 1.69, 8.499999996, 7.990000002, 10.22, 10.72, 12.17, 7.490000004, 8.350000001, 5.179999999, 4.300000001, 2.380000001, 2.88, 9.069999999, 1.64, 3.53, 5.540000001, 7.18, 1.94, 6.1200000029999995, 21.23999999, 8.419999998, 7.060000003, 7.030000001, 5.260000001, 3.019999999, 5.469999998, 5.689999998999999, 14.89, 5.260000001, 4.25, 3.0700000010000004, 8.920000004, 3.890000001, 6.350000001000001, 3.53, 7.920000001, 3.53, 3.53, 9.069999999, 11.02, 3.840000002, 4.61, 2.3, 5.620000001, 7.850000002000001, 11.74, 4.54, 1.58, 8.949999997, 4.25, 4.68, 6.7700000010000005, 6.3399999970000005, 5.829999998, 13.61, 12.46, 4.82, 1.08, 3.46, 7.060000003, 8.350000001, 4.61, 9.069999999, 9.430000003, 6.190000002000001, 8.14, 4.39, 23.83, 5.829999998, 7.740000003, 25.56000001, 10.36, 6.980000002000001, 8.060000003999999, 8.419999998, 1.22, 11.59, 10.66, 8.499999996, 2.09, 20.88, 14.33, 5.620000001, 6.980000002000001, 15.34, 12.81999999, 3.739999998, 6.699999997000001, 1.24, 3.890000001, 4.100000001000001, 6.05, 7.270000003, 4.75, 7.629999998, 9.880000002000001, 7.5599999989999995, 11.38, 1.51, 6.699999997000001, 1.15, 10.66, 2.88, 6.699999997000001, 7.779999999, 6.479999997999999, 9.290000002000001, 1.809999999, 7.850000002000001, 9.719999995, 25.78000001, 6.840000002999999, 5.179999999, 7.340000002999999, 9.759999996, 7.490000004, 10.01, 6.62, 1.01, 4.319999999, 18.65, 1.659999999, 11.09, 3.890000001, 1.659999999, 3.3699999989999996, 5.98, 1.94, 14.76, 7.920000001, 0.65, 10.58, 10.32, 4.639999999, 5.04, 4.03, 9.719999995, 4.100000001000001, 11.45, 1.58, 4.68, 8.570000002999999, 6.259999999, 0.94, 7.060000003, 5.689999998999999, 5.300000002, 8.310000001, 9.929999999, 3.099999998, 8.640000002, 12.89], \"y\": [6.884599999319997, 2.4246000000799994, 9.045199996959994, 8.037600001319994, 9.513199999880008, 10.037599999620008, 11.377800000040002, 7.058600001800003, 8.509400000500003, 6.605799999100002, 4.86880000072, 3.29820000088, 3.470400000259998, 8.490799999500002, 2.57060000014, 4.09439999988, 6.269200001360003, 6.974200000340001, 2.0425999998799997, 5.604400001239998, 15.59019999368, 8.335799999139997, 7.4634000022200055, 6.043200000459998, 5.90140000054, 3.86439999896, 5.297599998939997, 7.140199998660003, 13.958799999859993, 5.588000000580001, 5.267200000260001, 4.298400000660001, 8.221000003159993, 3.2390000004400012, 5.819200000560005, 3.8118000000800003, 10.321800000680003, 3.9814000000200003, 3.6956000003000007, 9.112399999160003, 11.539799999299996, 3.5782000011600013, 5.2306000001200035, 3.0640000001399996, 6.342400000559999, 8.178400001040002, 10.966000000080003, 4.6129999997799995, 1.5065999999399993, 8.814199998340005, 4.087600000080001, 5.024400000000004, 6.69160000018, 6.750399998600004, 5.262799998680002, 11.166800000480002, 10.609399999379997, 5.712399999299997, 2.503799999559999, 5.19600000004, 10.967199998980009, 7.593000001100004, 6.891799999300003, 8.980599999340003, 8.353400002099995, 6.13780000144, 8.221199999979996, 4.402999999879996, 18.438766667973344, 6.1547999987000015, 8.149000001959996, 20.124218576204278, 10.195199999420005, 9.107400001179998, 8.472400002420006, 9.425799998459995, 1.9209999995999996, 11.231200000039994, 10.816400000080007, 8.247999996999996, 2.3363999998600007, 18.042000000819996, 12.563799999240002, 6.331200001019997, 8.302000001920002, 13.02399999976, 10.231999994499994, 4.636799998460001, 6.337999998020003, 1.3489999999000002, 4.932800000220003, 4.46260000048, 6.616000000200002, 7.381000002420004, 5.0116000003200005, 7.754799999040002, 8.322200001299995, 8.016399999320008, 10.434399999799998, 1.994400000220001, 5.895399998079999, 5.480266667793331, 10.643000000500008, 3.0376000001200003, 6.866799998580004, 8.883399999619998, 6.953999998679999, 8.712600000839998, 1.7143999994199992, 7.888400001420001, 8.788999996340005, 23.22660000584, 6.9286000019800005, 5.58819999952, 8.52760000154, 10.252999997999998, 7.305800002880004, 12.085799998199995, 7.495000000120001, 3.5571999995200003, 4.224999999220002, 20.124218576204278, 2.4773999993400015, 9.397999999859994, 3.990000000820001, 1.6211999995000002, 3.509199999319998, 5.488199999739999, 3.8459999995999983, 12.823599999739997, 8.045000000340004, 1.2115999999399991, 7.832600000059999, 9.744999999799996, 4.500399999159999, 5.901999999800001, 5.38200000018, 9.212599996080005, 4.711200000480004, 10.962999999839997, 1.5541999998599991, 4.919799999920003, 9.138600002240006, 6.276599999460001, 1.5981999999799987, 7.730800001940004, 5.831799999700003, 5.161000000639998, 7.589600000719995, 9.126399999580006, 2.7327999985000004, 8.648600000680005, 10.927200000319994]}, {\"marker\": {\"color\": \"red\", \"size\": 12}, \"mode\": \"markers\", \"name\": \"Testing Data\", \"type\": \"scatter\", \"x\": [11.52, 4.75, 10.15, 24.48000001, 0.65, 16.41, 1.659999999, 6.62, 7.700000001, 27.0, 4.319999999, 2.9099999989999996, 2.03, 7.2, 2.019999999, 3.739999998, 4.899999998999999, 5.689999998999999], \"y\": [8.746599999860003, 5.564399999660003, 7.699999999640002, 23.22660000584, 1.480199999899999, 12.008200000159997, 2.6727999997200005, 5.580000000600002, 5.075199999860003, 20.124218576204278, 5.140199999940002, 2.287599999959999, 2.1357999999799997, 5.58199999934, 1.9253999997399993, 5.350799999400001, 6.4797999997800035, 5.6518000005800015]}, {\"marker\": {\"color\": \"black\", \"size\": 12}, \"mode\": \"lines\", \"name\": \"Linear Fit\", \"text\": \"Fit\", \"type\": \"scatter\", \"x\": [0.65, 1.1877551020408164, 1.7255102040816328, 2.263265306122449, 2.8010204081632653, 3.3387755102040817, 3.8765306122448977, 4.414285714285715, 4.952040816326531, 5.4897959183673475, 6.027551020408164, 6.56530612244898, 7.103061224489796, 7.640816326530612, 8.178571428571429, 8.716326530612246, 9.254081632653062, 9.791836734693877, 10.329591836734695, 10.86734693877551, 11.405102040816328, 11.942857142857143, 12.48061224489796, 13.018367346938776, 13.556122448979592, 14.093877551020409, 14.631632653061224, 15.169387755102042, 15.707142857142857, 16.244897959183675, 16.78265306122449, 17.320408163265306, 17.85816326530612, 18.395918367346937, 18.933673469387752, 19.47142857142857, 20.009183673469387, 20.546938775510203, 21.084693877551018, 21.622448979591837, 22.160204081632653, 22.69795918367347, 23.235714285714284, 23.7734693877551, 24.31122448979592, 24.848979591836734, 25.38673469387755, 25.924489795918365, 26.46224489795918, 27.0], \"y\": [0.65, 1.1877551020408164, 1.7255102040816328, 2.263265306122449, 2.8010204081632653, 3.3387755102040817, 3.8765306122448977, 4.414285714285715, 4.952040816326531, 5.4897959183673475, 6.027551020408164, 6.56530612244898, 7.103061224489796, 7.640816326530612, 8.178571428571429, 8.716326530612246, 9.254081632653062, 9.791836734693877, 10.329591836734695, 10.86734693877551, 11.405102040816328, 11.942857142857143, 12.48061224489796, 13.018367346938776, 13.556122448979592, 14.093877551020409, 14.631632653061224, 15.169387755102042, 15.707142857142857, 16.244897959183675, 16.78265306122449, 17.320408163265306, 17.85816326530612, 18.395918367346937, 18.933673469387752, 19.47142857142857, 20.009183673469387, 20.546938775510203, 21.084693877551018, 21.622448979591837, 22.160204081632653, 22.69795918367347, 23.235714285714284, 23.7734693877551, 24.31122448979592, 24.848979591836734, 25.38673469387755, 25.924489795918365, 26.46224489795918, 27.0]}],                        {\"font\": {\"family\": \"Times New Roman\", \"size\": 18}, \"hovermode\": \"closest\", \"showlegend\": true, \"template\": {\"data\": {\"bar\": [{\"error_x\": {\"color\": \"#2a3f5f\"}, \"error_y\": {\"color\": \"#2a3f5f\"}, \"marker\": {\"line\": {\"color\": \"#E5ECF6\", \"width\": 0.5}}, \"type\": \"bar\"}], \"barpolar\": [{\"marker\": {\"line\": {\"color\": \"#E5ECF6\", \"width\": 0.5}}, \"type\": \"barpolar\"}], \"carpet\": [{\"aaxis\": {\"endlinecolor\": \"#2a3f5f\", \"gridcolor\": \"white\", \"linecolor\": \"white\", \"minorgridcolor\": \"white\", \"startlinecolor\": \"#2a3f5f\"}, \"baxis\": {\"endlinecolor\": \"#2a3f5f\", \"gridcolor\": \"white\", \"linecolor\": \"white\", \"minorgridcolor\": \"white\", \"startlinecolor\": \"#2a3f5f\"}, \"type\": \"carpet\"}], \"choropleth\": [{\"colorbar\": {\"outlinewidth\": 0, \"ticks\": \"\"}, \"type\": \"choropleth\"}], \"contour\": [{\"colorbar\": {\"outlinewidth\": 0, \"ticks\": \"\"}, \"colorscale\": [[0.0, \"#0d0887\"], [0.1111111111111111, \"#46039f\"], [0.2222222222222222, \"#7201a8\"], [0.3333333333333333, \"#9c179e\"], [0.4444444444444444, \"#bd3786\"], [0.5555555555555556, \"#d8576b\"], [0.6666666666666666, \"#ed7953\"], [0.7777777777777778, \"#fb9f3a\"], [0.8888888888888888, \"#fdca26\"], [1.0, \"#f0f921\"]], \"type\": \"contour\"}], \"contourcarpet\": [{\"colorbar\": {\"outlinewidth\": 0, \"ticks\": \"\"}, \"type\": \"contourcarpet\"}], \"heatmap\": [{\"colorbar\": {\"outlinewidth\": 0, \"ticks\": \"\"}, \"colorscale\": [[0.0, \"#0d0887\"], [0.1111111111111111, \"#46039f\"], [0.2222222222222222, \"#7201a8\"], [0.3333333333333333, \"#9c179e\"], [0.4444444444444444, \"#bd3786\"], [0.5555555555555556, \"#d8576b\"], [0.6666666666666666, \"#ed7953\"], [0.7777777777777778, \"#fb9f3a\"], [0.8888888888888888, \"#fdca26\"], [1.0, \"#f0f921\"]], \"type\": \"heatmap\"}], \"heatmapgl\": [{\"colorbar\": {\"outlinewidth\": 0, \"ticks\": \"\"}, \"colorscale\": [[0.0, \"#0d0887\"], [0.1111111111111111, \"#46039f\"], [0.2222222222222222, \"#7201a8\"], [0.3333333333333333, \"#9c179e\"], [0.4444444444444444, \"#bd3786\"], [0.5555555555555556, \"#d8576b\"], [0.6666666666666666, \"#ed7953\"], [0.7777777777777778, \"#fb9f3a\"], [0.8888888888888888, \"#fdca26\"], [1.0, \"#f0f921\"]], \"type\": \"heatmapgl\"}], \"histogram\": [{\"marker\": {\"colorbar\": {\"outlinewidth\": 0, \"ticks\": \"\"}}, \"type\": \"histogram\"}], \"histogram2d\": [{\"colorbar\": {\"outlinewidth\": 0, \"ticks\": \"\"}, \"colorscale\": [[0.0, \"#0d0887\"], [0.1111111111111111, \"#46039f\"], [0.2222222222222222, \"#7201a8\"], [0.3333333333333333, \"#9c179e\"], [0.4444444444444444, \"#bd3786\"], [0.5555555555555556, \"#d8576b\"], [0.6666666666666666, \"#ed7953\"], [0.7777777777777778, \"#fb9f3a\"], [0.8888888888888888, \"#fdca26\"], [1.0, \"#f0f921\"]], \"type\": \"histogram2d\"}], \"histogram2dcontour\": [{\"colorbar\": {\"outlinewidth\": 0, \"ticks\": \"\"}, \"colorscale\": [[0.0, \"#0d0887\"], [0.1111111111111111, \"#46039f\"], [0.2222222222222222, \"#7201a8\"], [0.3333333333333333, \"#9c179e\"], [0.4444444444444444, \"#bd3786\"], [0.5555555555555556, \"#d8576b\"], [0.6666666666666666, \"#ed7953\"], [0.7777777777777778, \"#fb9f3a\"], [0.8888888888888888, \"#fdca26\"], [1.0, \"#f0f921\"]], \"type\": \"histogram2dcontour\"}], \"mesh3d\": [{\"colorbar\": {\"outlinewidth\": 0, \"ticks\": \"\"}, \"type\": \"mesh3d\"}], \"parcoords\": [{\"line\": {\"colorbar\": {\"outlinewidth\": 0, \"ticks\": \"\"}}, \"type\": \"parcoords\"}], \"pie\": [{\"automargin\": true, \"type\": \"pie\"}], \"scatter\": [{\"marker\": {\"colorbar\": {\"outlinewidth\": 0, \"ticks\": \"\"}}, \"type\": \"scatter\"}], \"scatter3d\": [{\"line\": {\"colorbar\": {\"outlinewidth\": 0, \"ticks\": \"\"}}, \"marker\": {\"colorbar\": {\"outlinewidth\": 0, \"ticks\": \"\"}}, \"type\": \"scatter3d\"}], \"scattercarpet\": [{\"marker\": {\"colorbar\": {\"outlinewidth\": 0, \"ticks\": \"\"}}, \"type\": \"scattercarpet\"}], \"scattergeo\": [{\"marker\": {\"colorbar\": {\"outlinewidth\": 0, \"ticks\": \"\"}}, \"type\": \"scattergeo\"}], \"scattergl\": [{\"marker\": {\"colorbar\": {\"outlinewidth\": 0, \"ticks\": \"\"}}, \"type\": \"scattergl\"}], \"scattermapbox\": [{\"marker\": {\"colorbar\": {\"outlinewidth\": 0, \"ticks\": \"\"}}, \"type\": \"scattermapbox\"}], \"scatterpolar\": [{\"marker\": {\"colorbar\": {\"outlinewidth\": 0, \"ticks\": \"\"}}, \"type\": \"scatterpolar\"}], \"scatterpolargl\": [{\"marker\": {\"colorbar\": {\"outlinewidth\": 0, \"ticks\": \"\"}}, \"type\": \"scatterpolargl\"}], \"scatterternary\": [{\"marker\": {\"colorbar\": {\"outlinewidth\": 0, \"ticks\": \"\"}}, \"type\": \"scatterternary\"}], \"surface\": [{\"colorbar\": {\"outlinewidth\": 0, \"ticks\": \"\"}, \"colorscale\": [[0.0, \"#0d0887\"], [0.1111111111111111, \"#46039f\"], [0.2222222222222222, \"#7201a8\"], [0.3333333333333333, \"#9c179e\"], [0.4444444444444444, \"#bd3786\"], [0.5555555555555556, \"#d8576b\"], [0.6666666666666666, \"#ed7953\"], [0.7777777777777778, \"#fb9f3a\"], [0.8888888888888888, \"#fdca26\"], [1.0, \"#f0f921\"]], \"type\": \"surface\"}], \"table\": [{\"cells\": {\"fill\": {\"color\": \"#EBF0F8\"}, \"line\": {\"color\": \"white\"}}, \"header\": {\"fill\": {\"color\": \"#C8D4E3\"}, \"line\": {\"color\": \"white\"}}, \"type\": \"table\"}]}, \"layout\": {\"annotationdefaults\": {\"arrowcolor\": \"#2a3f5f\", \"arrowhead\": 0, \"arrowwidth\": 1}, \"autotypenumbers\": \"strict\", \"coloraxis\": {\"colorbar\": {\"outlinewidth\": 0, \"ticks\": \"\"}}, \"colorscale\": {\"diverging\": [[0, \"#8e0152\"], [0.1, \"#c51b7d\"], [0.2, \"#de77ae\"], [0.3, \"#f1b6da\"], [0.4, \"#fde0ef\"], [0.5, \"#f7f7f7\"], [0.6, \"#e6f5d0\"], [0.7, \"#b8e186\"], [0.8, \"#7fbc41\"], [0.9, \"#4d9221\"], [1, \"#276419\"]], \"sequential\": [[0.0, \"#0d0887\"], [0.1111111111111111, \"#46039f\"], [0.2222222222222222, \"#7201a8\"], [0.3333333333333333, \"#9c179e\"], [0.4444444444444444, \"#bd3786\"], [0.5555555555555556, \"#d8576b\"], [0.6666666666666666, \"#ed7953\"], [0.7777777777777778, \"#fb9f3a\"], [0.8888888888888888, \"#fdca26\"], [1.0, \"#f0f921\"]], \"sequentialminus\": [[0.0, \"#0d0887\"], [0.1111111111111111, \"#46039f\"], [0.2222222222222222, \"#7201a8\"], [0.3333333333333333, \"#9c179e\"], [0.4444444444444444, \"#bd3786\"], [0.5555555555555556, \"#d8576b\"], [0.6666666666666666, \"#ed7953\"], [0.7777777777777778, \"#fb9f3a\"], [0.8888888888888888, \"#fdca26\"], [1.0, \"#f0f921\"]]}, \"colorway\": [\"#636efa\", \"#EF553B\", \"#00cc96\", \"#ab63fa\", \"#FFA15A\", \"#19d3f3\", \"#FF6692\", \"#B6E880\", \"#FF97FF\", \"#FECB52\"], \"font\": {\"color\": \"#2a3f5f\"}, \"geo\": {\"bgcolor\": \"white\", \"lakecolor\": \"white\", \"landcolor\": \"#E5ECF6\", \"showlakes\": true, \"showland\": true, \"subunitcolor\": \"white\"}, \"hoverlabel\": {\"align\": \"left\"}, \"hovermode\": \"closest\", \"mapbox\": {\"style\": \"light\"}, \"paper_bgcolor\": \"white\", \"plot_bgcolor\": \"#E5ECF6\", \"polar\": {\"angularaxis\": {\"gridcolor\": \"white\", \"linecolor\": \"white\", \"ticks\": \"\"}, \"bgcolor\": \"#E5ECF6\", \"radialaxis\": {\"gridcolor\": \"white\", \"linecolor\": \"white\", \"ticks\": \"\"}}, \"scene\": {\"xaxis\": {\"backgroundcolor\": \"#E5ECF6\", \"gridcolor\": \"white\", \"gridwidth\": 2, \"linecolor\": \"white\", \"showbackground\": true, \"ticks\": \"\", \"zerolinecolor\": \"white\"}, \"yaxis\": {\"backgroundcolor\": \"#E5ECF6\", \"gridcolor\": \"white\", \"gridwidth\": 2, \"linecolor\": \"white\", \"showbackground\": true, \"ticks\": \"\", \"zerolinecolor\": \"white\"}, \"zaxis\": {\"backgroundcolor\": \"#E5ECF6\", \"gridcolor\": \"white\", \"gridwidth\": 2, \"linecolor\": \"white\", \"showbackground\": true, \"ticks\": \"\", \"zerolinecolor\": \"white\"}}, \"shapedefaults\": {\"line\": {\"color\": \"#2a3f5f\"}}, \"ternary\": {\"aaxis\": {\"gridcolor\": \"white\", \"linecolor\": \"white\", \"ticks\": \"\"}, \"baxis\": {\"gridcolor\": \"white\", \"linecolor\": \"white\", \"ticks\": \"\"}, \"bgcolor\": \"#E5ECF6\", \"caxis\": {\"gridcolor\": \"white\", \"linecolor\": \"white\", \"ticks\": \"\"}}, \"title\": {\"x\": 0.05}, \"xaxis\": {\"automargin\": true, \"gridcolor\": \"white\", \"linecolor\": \"white\", \"ticks\": \"\", \"title\": {\"standoff\": 15}, \"zerolinecolor\": \"white\", \"zerolinewidth\": 2}, \"yaxis\": {\"automargin\": true, \"gridcolor\": \"white\", \"linecolor\": \"white\", \"ticks\": \"\", \"title\": {\"standoff\": 15}, \"zerolinecolor\": \"white\", \"zerolinewidth\": 2}}}, \"title\": {\"text\": \"$ \\\\text{ Bagging Regressor } $\"}, \"xaxis\": {\"gridwidth\": 2, \"title\": {\"text\": \"Measured Corr Rate (g/m2)\"}, \"zeroline\": false}, \"yaxis\": {\"gridwidth\": 2, \"title\": {\"text\": \"Predicted Corr Rate (g/m2)\"}, \"zeroline\": false}},                        {\"responsive\": true}                    ).then(function(){\n",
       "                            \n",
       "var gd = document.getElementById('bfe1e0cd-34ea-4541-9b69-cb2e8753ba89');\n",
       "var x = new MutationObserver(function (mutations, observer) {{\n",
       "        var display = window.getComputedStyle(gd).display;\n",
       "        if (!display || display === 'none') {{\n",
       "            console.log([gd, 'removed!']);\n",
       "            Plotly.purge(gd);\n",
       "            observer.disconnect();\n",
       "        }}\n",
       "}});\n",
       "\n",
       "// Listen for the removal of the full notebook cells\n",
       "var notebookContainer = gd.closest('#notebook-container');\n",
       "if (notebookContainer) {{\n",
       "    x.observe(notebookContainer, {childList: true});\n",
       "}}\n",
       "\n",
       "// Listen for the clearing of the current output cell\n",
       "var outputEl = gd.closest('.output');\n",
       "if (outputEl) {{\n",
       "    x.observe(outputEl, {childList: true});\n",
       "}}\n",
       "\n",
       "                        })                };                });            </script>        </div>"
      ]
     },
     "metadata": {},
     "output_type": "display_data"
    }
   ],
   "source": [
    "    fit = np.linspace(min(target), max(target))\n",
    "    trace0 = go.Scatter(x=y_train, y=Train_predictions2, mode = 'markers', marker= dict(size= 12, color= 'blue'), name='Training Data')\n",
    "    trace1 = go.Scatter(x=y_test ,y=Test_predictions2, mode = 'markers', marker= dict(size= 12, color= 'red'),name='Testing Data')\n",
    "    trace2 = go.Scatter(x = fit ,y = fit, mode = 'lines', marker= dict(size= 12, color= 'black'), text = 'Fit',name='Linear Fit')\n",
    "\n",
    "    data = [trace0,trace1,trace2]\n",
    "    fig= go.Figure(data, layout=layout0)\n",
    "    resolution_value = 300\n",
    "    iplot(fig)"
   ]
  },
  {
   "cell_type": "markdown",
   "id": "helpful-population",
   "metadata": {},
   "source": [
    "# Predicting Corr Rate for New Location"
   ]
  },
  {
   "cell_type": "code",
   "execution_count": 28,
   "id": "other-label",
   "metadata": {},
   "outputs": [],
   "source": [
    "Test_predictions2 = DT2.predict(X_test)"
   ]
  },
  {
   "cell_type": "code",
   "execution_count": 29,
   "id": "rolled-relationship",
   "metadata": {},
   "outputs": [
    {
     "name": "stdout",
     "output_type": "stream",
     "text": [
      "Test based on dataset No.1\n"
     ]
    },
    {
     "data": {
      "text/html": [
       "<div>\n",
       "<style scoped>\n",
       "    .dataframe tbody tr th:only-of-type {\n",
       "        vertical-align: middle;\n",
       "    }\n",
       "\n",
       "    .dataframe tbody tr th {\n",
       "        vertical-align: top;\n",
       "    }\n",
       "\n",
       "    .dataframe thead th {\n",
       "        text-align: right;\n",
       "    }\n",
       "</style>\n",
       "<table border=\"1\" class=\"dataframe\">\n",
       "  <thead>\n",
       "    <tr style=\"text-align: right;\">\n",
       "      <th></th>\n",
       "      <th>T</th>\n",
       "      <th>RH</th>\n",
       "      <th>TOW</th>\n",
       "      <th>Prec</th>\n",
       "      <th>SO2</th>\n",
       "      <th>H+</th>\n",
       "    </tr>\n",
       "  </thead>\n",
       "  <tbody>\n",
       "    <tr>\n",
       "      <th>0</th>\n",
       "      <td>9.5</td>\n",
       "      <td>79</td>\n",
       "      <td>2830</td>\n",
       "      <td>639.3</td>\n",
       "      <td>77.5</td>\n",
       "      <td>0</td>\n",
       "    </tr>\n",
       "  </tbody>\n",
       "</table>\n",
       "</div>"
      ],
      "text/plain": [
       "     T  RH   TOW   Prec   SO2  H+\n",
       "0  9.5  79  2830  639.3  77.5   0"
      ]
     },
     "execution_count": 29,
     "metadata": {},
     "output_type": "execute_result"
    }
   ],
   "source": [
    "print('Test based on dataset No.1')\n",
    "dataset_1=pd.DataFrame({'T':[9.5], 'RH':[79],'TOW':[2830], 'Prec':[639.3], 'SO2':[77.5], 'H+':[0]})\n",
    "dataset_1"
   ]
  },
  {
   "cell_type": "code",
   "execution_count": 30,
   "id": "cheap-plumbing",
   "metadata": {},
   "outputs": [
    {
     "name": "stdout",
     "output_type": "stream",
     "text": [
      "Test based on dataset No.1 CR = 14.89 g/mm2\n",
      "CR with model predict dataset_1: [13.9588] g/mm2\n"
     ]
    }
   ],
   "source": [
    "print('Test based on dataset No.1 CR = 14.89 g/mm2')\n",
    "Test_predictions2 = DT2.predict(dataset_1)\n",
    "print('CR with model predict dataset_1:', Test_predictions2, 'g/mm2')"
   ]
  },
  {
   "cell_type": "code",
   "execution_count": 31,
   "id": "automotive-determination",
   "metadata": {},
   "outputs": [
    {
     "name": "stdout",
     "output_type": "stream",
     "text": [
      "Test based on dataset No.30\n"
     ]
    },
    {
     "data": {
      "text/html": [
       "<div>\n",
       "<style scoped>\n",
       "    .dataframe tbody tr th:only-of-type {\n",
       "        vertical-align: middle;\n",
       "    }\n",
       "\n",
       "    .dataframe tbody tr th {\n",
       "        vertical-align: top;\n",
       "    }\n",
       "\n",
       "    .dataframe thead th {\n",
       "        text-align: right;\n",
       "    }\n",
       "</style>\n",
       "<table border=\"1\" class=\"dataframe\">\n",
       "  <thead>\n",
       "    <tr style=\"text-align: right;\">\n",
       "      <th></th>\n",
       "      <th>T</th>\n",
       "      <th>RH</th>\n",
       "      <th>TOW</th>\n",
       "      <th>Prec</th>\n",
       "      <th>SO2</th>\n",
       "      <th>H+</th>\n",
       "    </tr>\n",
       "  </thead>\n",
       "  <tbody>\n",
       "    <tr>\n",
       "      <th>0</th>\n",
       "      <td>10.7</td>\n",
       "      <td>79</td>\n",
       "      <td>4437</td>\n",
       "      <td>619.1</td>\n",
       "      <td>16.3</td>\n",
       "      <td>0.0291</td>\n",
       "    </tr>\n",
       "  </tbody>\n",
       "</table>\n",
       "</div>"
      ],
      "text/plain": [
       "      T  RH   TOW   Prec   SO2      H+\n",
       "0  10.7  79  4437  619.1  16.3  0.0291"
      ]
     },
     "execution_count": 31,
     "metadata": {},
     "output_type": "execute_result"
    }
   ],
   "source": [
    "print('Test based on dataset No.30')\n",
    "dataset_30=pd.DataFrame({'T':[10.7], 'RH':[79],'TOW':[4437], 'Prec':[619.1], 'SO2':[16.3], 'H+':[0.0291]})\n",
    "dataset_30"
   ]
  },
  {
   "cell_type": "code",
   "execution_count": 32,
   "id": "communist-chaos",
   "metadata": {},
   "outputs": [
    {
     "name": "stdout",
     "output_type": "stream",
     "text": [
      "Test based on dataset No.30 CR = 9.07 g/mm2\n",
      "CR with model predict dataset_30: [8.9806] g/mm2\n"
     ]
    }
   ],
   "source": [
    "print('Test based on dataset No.30 CR = 9.07 g/mm2')\n",
    "Test_predictions2  = DT2.predict(dataset_30)\n",
    "print('CR with model predict dataset_30:', Test_predictions2 , 'g/mm2')"
   ]
  },
  {
   "cell_type": "code",
   "execution_count": 33,
   "id": "covered-indonesia",
   "metadata": {},
   "outputs": [
    {
     "name": "stdout",
     "output_type": "stream",
     "text": [
      "Test based on dataset No.50\n"
     ]
    },
    {
     "data": {
      "text/html": [
       "<div>\n",
       "<style scoped>\n",
       "    .dataframe tbody tr th:only-of-type {\n",
       "        vertical-align: middle;\n",
       "    }\n",
       "\n",
       "    .dataframe tbody tr th {\n",
       "        vertical-align: top;\n",
       "    }\n",
       "\n",
       "    .dataframe thead th {\n",
       "        text-align: right;\n",
       "    }\n",
       "</style>\n",
       "<table border=\"1\" class=\"dataframe\">\n",
       "  <thead>\n",
       "    <tr style=\"text-align: right;\">\n",
       "      <th></th>\n",
       "      <th>T</th>\n",
       "      <th>RH</th>\n",
       "      <th>TOW</th>\n",
       "      <th>Prec</th>\n",
       "      <th>SO2</th>\n",
       "      <th>H+</th>\n",
       "    </tr>\n",
       "  </thead>\n",
       "  <tbody>\n",
       "    <tr>\n",
       "      <th>0</th>\n",
       "      <td>11.1</td>\n",
       "      <td>82</td>\n",
       "      <td>5142</td>\n",
       "      <td>789.9</td>\n",
       "      <td>5.8</td>\n",
       "      <td>0.0038</td>\n",
       "    </tr>\n",
       "  </tbody>\n",
       "</table>\n",
       "</div>"
      ],
      "text/plain": [
       "      T  RH   TOW   Prec  SO2      H+\n",
       "0  11.1  82  5142  789.9  5.8  0.0038"
      ]
     },
     "execution_count": 33,
     "metadata": {},
     "output_type": "execute_result"
    }
   ],
   "source": [
    "print('Test based on dataset No.50')\n",
    "dataset_50=pd.DataFrame({'T':[11.1], 'RH':[82],'TOW':[5142], 'Prec':[789.9], 'SO2':[5.8], 'H+':[0.0038]})\n",
    "dataset_50"
   ]
  },
  {
   "cell_type": "code",
   "execution_count": 34,
   "id": "returning-dressing",
   "metadata": {},
   "outputs": [
    {
     "name": "stdout",
     "output_type": "stream",
     "text": [
      "Test based on dataset No.50 CR = 6.34 g/mm2\n",
      "CR with model predict dataset_30: [6.7504] g/mm2\n"
     ]
    }
   ],
   "source": [
    "print('Test based on dataset No.50 CR = 6.34 g/mm2')\n",
    "Test_predictions2  = DT2.predict(dataset_50)\n",
    "print('CR with model predict dataset_30:', Test_predictions2 , 'g/mm2')"
   ]
  },
  {
   "cell_type": "code",
   "execution_count": 35,
   "id": "demonstrated-penguin",
   "metadata": {},
   "outputs": [
    {
     "name": "stdout",
     "output_type": "stream",
     "text": [
      "Test based on dataset No.165\n"
     ]
    },
    {
     "data": {
      "text/html": [
       "<div>\n",
       "<style scoped>\n",
       "    .dataframe tbody tr th:only-of-type {\n",
       "        vertical-align: middle;\n",
       "    }\n",
       "\n",
       "    .dataframe tbody tr th {\n",
       "        vertical-align: top;\n",
       "    }\n",
       "\n",
       "    .dataframe thead th {\n",
       "        text-align: right;\n",
       "    }\n",
       "</style>\n",
       "<table border=\"1\" class=\"dataframe\">\n",
       "  <thead>\n",
       "    <tr style=\"text-align: right;\">\n",
       "      <th></th>\n",
       "      <th>T</th>\n",
       "      <th>RH</th>\n",
       "      <th>TOW</th>\n",
       "      <th>Prec</th>\n",
       "      <th>SO2</th>\n",
       "      <th>H+</th>\n",
       "    </tr>\n",
       "  </thead>\n",
       "  <tbody>\n",
       "    <tr>\n",
       "      <th>0</th>\n",
       "      <td>2.5</td>\n",
       "      <td>70</td>\n",
       "      <td>0</td>\n",
       "      <td>626</td>\n",
       "      <td>3</td>\n",
       "      <td>0</td>\n",
       "    </tr>\n",
       "  </tbody>\n",
       "</table>\n",
       "</div>"
      ],
      "text/plain": [
       "     T  RH  TOW  Prec  SO2  H+\n",
       "0  2.5  70    0   626    3   0"
      ]
     },
     "execution_count": 35,
     "metadata": {},
     "output_type": "execute_result"
    }
   ],
   "source": [
    "print('Test based on dataset No.165')\n",
    "dataset_165=pd.DataFrame({'T':[2.5], 'RH':[70],'TOW':[0], 'Prec':[626], 'SO2':[3], 'H+':[0]})\n",
    "dataset_165"
   ]
  },
  {
   "cell_type": "code",
   "execution_count": 36,
   "id": "chinese-merit",
   "metadata": {},
   "outputs": [
    {
     "name": "stdout",
     "output_type": "stream",
     "text": [
      "Test based on dataset No.165 CR = 4.64 g/mm2\n",
      "CR with model predict dataset_30: [4.5004] g/mm2\n"
     ]
    }
   ],
   "source": [
    "print('Test based on dataset No.165 CR = 4.64 g/mm2')\n",
    "Test_predictions2  = DT2.predict(dataset_165)\n",
    "print('CR with model predict dataset_30:', Test_predictions2 , 'g/mm2')"
   ]
  },
  {
   "cell_type": "code",
   "execution_count": 41,
   "id": "artificial-lancaster",
   "metadata": {},
   "outputs": [],
   "source": [
    "#Table S2. New data to be used as validation\n",
    "#Location\tT(oC)\tRH(%)\tTOW(Hours/a)\tPrec(mm/a)\tSO2(µg/m3)\t[H+](mg/L)\tCR(g/m2)\n",
    "#Panama\t26\t71\t3000\t279\t21.7\t0\t7.568\n",
    "#Rio Janeiro\t21.4\t80\t4800\t1252\t43.5\t0\t10.496\n",
    "#Iguazu\t21.2\t75\t5500\t1000\t0\t0\t9.710\n",
    "#Sao Paulo\t19.6\t75\t5500\t1622\t57.8\t0\t8.639\n",
    "#Bauta\t24\t81\t5000\t1590\t18\t0\t8.711\n",
    "#Labastida\t12\t73\t5500\t550\t3.6\t0\t2.213\n",
    "#Mexico\t15.4\t64\t1000\t709\t18.9\t0\t5.855\n"
   ]
  },
  {
   "cell_type": "code",
   "execution_count": 42,
   "id": "vertical-berry",
   "metadata": {},
   "outputs": [],
   "source": [
    "Panama = pd.DataFrame({'T':[26], 'RH':[71],'TOW':[3000], 'Prec':[279], 'SO2':[21.7], 'H+':[0]})\n",
    "Rio = pd.DataFrame({'T':[21.4], 'RH':[80],'TOW':[4800], 'Prec':[1252], 'SO2':[43.5], 'H+':[0]})\n",
    "Iguazu = pd.DataFrame({'T':[21.2], 'RH':[75],'TOW':[5500], 'Prec':[1000], 'SO2':[0], 'H+':[0]})\n",
    "Saopaolo = pd.DataFrame({'T':[19.6], 'RH':[75],'TOW':[5500], 'Prec':[1622], 'SO2':[57.8], 'H+':[0]})\n",
    "Bauta = pd.DataFrame({'T':[24], 'RH':[81],'TOW':[5000], 'Prec':[1590], 'SO2':[18], 'H+':[0]})\n",
    "Labastida = pd.DataFrame({'T':[12], 'RH':[73],'TOW':[5500], 'Prec':[550], 'SO2':[3.6], 'H+':[0]})\n",
    "Mexico = pd.DataFrame({'T':[15.4], 'RH':[64],'TOW':[1000], 'Prec':[709], 'SO2':[18.9], 'H+':[0]})"
   ]
  },
  {
   "cell_type": "code",
   "execution_count": 43,
   "id": "crude-offering",
   "metadata": {},
   "outputs": [
    {
     "name": "stdout",
     "output_type": "stream",
     "text": [
      "Test based on dataset Panama CR = 7.568 g/mm2\n",
      "CR with model predict dataset_Panama: [10.6136] g/mm2\n"
     ]
    }
   ],
   "source": [
    "print('Test based on dataset Panama CR = 7.568 g/mm2')\n",
    "Test_predictions2  = DT2.predict(Panama)\n",
    "print('CR with model predict dataset_Panama:', Test_predictions2 , 'g/mm2')"
   ]
  },
  {
   "cell_type": "code",
   "execution_count": 44,
   "id": "intimate-appearance",
   "metadata": {},
   "outputs": [
    {
     "name": "stdout",
     "output_type": "stream",
     "text": [
      "Test based on dataset Rio CR = 10.496 g/mm2\n",
      "CR with model predict dataset_Rio: [10.3424] g/mm2\n"
     ]
    }
   ],
   "source": [
    "print('Test based on dataset Rio CR = 10.496 g/mm2')\n",
    "Test_predictions2  = DT2.predict(Rio)\n",
    "print('CR with model predict dataset_Rio:', Test_predictions2 , 'g/mm2')"
   ]
  },
  {
   "cell_type": "code",
   "execution_count": 45,
   "id": "comparable-monitoring",
   "metadata": {},
   "outputs": [
    {
     "name": "stdout",
     "output_type": "stream",
     "text": [
      "Test based on dataset Iguazu CR = 9.710 g/mm2\n",
      "CR with model predict dataset_Iguazo: [9.90371334] g/mm2\n"
     ]
    }
   ],
   "source": [
    "print('Test based on dataset Iguazu CR = 9.710 g/mm2')\n",
    "Test_predictions2  = DT2.predict(Iguazu)\n",
    "print('CR with model predict dataset_Iguazo:', Test_predictions2 , 'g/mm2')"
   ]
  },
  {
   "cell_type": "code",
   "execution_count": 46,
   "id": "brown-chess",
   "metadata": {},
   "outputs": [
    {
     "name": "stdout",
     "output_type": "stream",
     "text": [
      "Test based on dataset Saopaolo CR = 8.639 g/mm2\n",
      "CR with model predict dataset_Saopaolo: [9.4852] g/mm2\n"
     ]
    }
   ],
   "source": [
    "print('Test based on dataset Saopaolo CR = 8.639 g/mm2')\n",
    "Test_predictions2  = DT2.predict(Saopaolo)\n",
    "print('CR with model predict dataset_Saopaolo:', Test_predictions2 , 'g/mm2')"
   ]
  },
  {
   "cell_type": "code",
   "execution_count": 47,
   "id": "underlying-joyce",
   "metadata": {},
   "outputs": [
    {
     "name": "stdout",
     "output_type": "stream",
     "text": [
      "Test based on dataset Bauta CR = 8.711 g/mm2\n",
      "CR with model predict dataset_Bauta: [10.217] g/mm2\n"
     ]
    }
   ],
   "source": [
    "print('Test based on dataset Bauta CR = 8.711 g/mm2')\n",
    "Test_predictions2  = DT2.predict(Bauta)\n",
    "print('CR with model predict dataset_Bauta:', Test_predictions2 , 'g/mm2')"
   ]
  },
  {
   "cell_type": "code",
   "execution_count": 48,
   "id": "rough-courtesy",
   "metadata": {},
   "outputs": [
    {
     "name": "stdout",
     "output_type": "stream",
     "text": [
      "Test based on dataset Labastida CR = 2.213 g/mm2\n",
      "CR with model predict dataset_Labastida: [4.0406] g/mm2\n"
     ]
    }
   ],
   "source": [
    "print('Test based on dataset Labastida CR = 2.213 g/mm2')\n",
    "Test_predictions2  = DT2.predict(Labastida)\n",
    "print('CR with model predict dataset_Labastida:', Test_predictions2 , 'g/mm2')"
   ]
  },
  {
   "cell_type": "code",
   "execution_count": 49,
   "id": "amino-parts",
   "metadata": {},
   "outputs": [
    {
     "name": "stdout",
     "output_type": "stream",
     "text": [
      "Test based on dataset Mexico CR = 5.855 g/mm2\n",
      "CR with model predict dataset_Mexico: [6.126] g/mm2\n"
     ]
    }
   ],
   "source": [
    "print('Test based on dataset Mexico CR = 5.855 g/mm2')\n",
    "Test_predictions2  = DT2.predict(Mexico)\n",
    "print('CR with model predict dataset_Mexico:', Test_predictions2 , 'g/mm2')"
   ]
  },
  {
   "cell_type": "code",
   "execution_count": null,
   "id": "emotional-doctrine",
   "metadata": {},
   "outputs": [],
   "source": []
  },
  {
   "cell_type": "code",
   "execution_count": null,
   "id": "opposite-alexander",
   "metadata": {},
   "outputs": [],
   "source": []
  },
  {
   "cell_type": "markdown",
   "id": "adjacent-poster",
   "metadata": {},
   "source": [
    "# PREDICTION NEW DATA"
   ]
  },
  {
   "cell_type": "code",
   "execution_count": 50,
   "id": "economic-ticket",
   "metadata": {},
   "outputs": [],
   "source": [
    "#Table S3. New data on corrosion rates at several test locations\n",
    "#Location\tT (oC)\tRH (%)\tTOW (Hours/a)\tPrec (mm/a)\tSO2 (µg/m3)\t[H+] (mg/L)\n",
    "#\t\t\t\t\t\t\n",
    "#Jakarta, Indonesia\t31\t65\t5500\t100\t71\t0\n",
    "#Bandung, Indonesia\t24\t81\t3500\t999\t17\t0\n",
    "#Valparaiso, Chile\t17\t83\t5600\t0.1\t23.6\t0\n",
    "#Barcelona, Spain\t26\t78\t500\t640\t1.5\t0\n",
    "#Tokyo, Japan\t22\t73\t29.1\t1530\t12.4\t0\n"
   ]
  },
  {
   "cell_type": "code",
   "execution_count": 51,
   "id": "bigger-activation",
   "metadata": {},
   "outputs": [],
   "source": [
    "Jakarta = pd.DataFrame({'T':[31], 'RH':[65],'TOW':[5500], 'Prec':[100], 'SO2':[71], 'H+':[0]})\n",
    "Bandung = pd.DataFrame({'T':[24], 'RH':[81],'TOW':[3500], 'Prec':[999], 'SO2':[17], 'H+':[0]})\n",
    "Valparaiso = pd.DataFrame({'T':[17], 'RH':[83],'TOW':[5600], 'Prec':[0.1], 'SO2':[23.6], 'H+':[0]})\n",
    "Barcelona = pd.DataFrame({'T':[26], 'RH':[78],'TOW':[500], 'Prec':[640], 'SO2':[1.5], 'H+':[0]})\n",
    "Tokyo = pd.DataFrame({'T':[22], 'RH':[73],'TOW':[29.1], 'Prec':[1530], 'SO2':[12.4], 'H+':[0]})"
   ]
  },
  {
   "cell_type": "code",
   "execution_count": 52,
   "id": "unsigned-thailand",
   "metadata": {},
   "outputs": [
    {
     "name": "stdout",
     "output_type": "stream",
     "text": [
      "Test based on data Jakarta\n",
      "CR with model predict Jakarta: [15.28395] g/mm2\n"
     ]
    }
   ],
   "source": [
    "print('Test based on data Jakarta')\n",
    "Test_predictions2  = DT2.predict(Jakarta)\n",
    "print('CR with model predict Jakarta:', Test_predictions2 , 'g/mm2')"
   ]
  },
  {
   "cell_type": "code",
   "execution_count": 53,
   "id": "departmental-chocolate",
   "metadata": {},
   "outputs": [
    {
     "name": "stdout",
     "output_type": "stream",
     "text": [
      "Test based on data Bandung\n",
      "CR with model predict Bandung: [9.958] g/mm2\n"
     ]
    }
   ],
   "source": [
    "print('Test based on data Bandung')\n",
    "Test_predictions2  = DT2.predict(Bandung)\n",
    "print('CR with model predict Bandung:', Test_predictions2 , 'g/mm2')"
   ]
  },
  {
   "cell_type": "code",
   "execution_count": 54,
   "id": "interpreted-vision",
   "metadata": {},
   "outputs": [
    {
     "name": "stdout",
     "output_type": "stream",
     "text": [
      "Test based on data Valparaiso\n",
      "CR with model predict Valparaiso: [10.384] g/mm2\n"
     ]
    }
   ],
   "source": [
    "print('Test based on data Valparaiso')\n",
    "Test_predictions2  = DT2.predict(Valparaiso)\n",
    "print('CR with model predict Valparaiso:', Test_predictions2 , 'g/mm2')"
   ]
  },
  {
   "cell_type": "code",
   "execution_count": 55,
   "id": "moved-device",
   "metadata": {},
   "outputs": [
    {
     "name": "stdout",
     "output_type": "stream",
     "text": [
      "Test based on data Barcelona\n",
      "CR with model predict Barcelona: [3.8096] g/mm2\n"
     ]
    }
   ],
   "source": [
    "print('Test based on data Barcelona')\n",
    "Test_predictions2  = DT2.predict(Barcelona)\n",
    "print('CR with model predict Barcelona:', Test_predictions2 , 'g/mm2')"
   ]
  },
  {
   "cell_type": "code",
   "execution_count": 56,
   "id": "agreed-subject",
   "metadata": {},
   "outputs": [
    {
     "name": "stdout",
     "output_type": "stream",
     "text": [
      "Test based on data Tokyo\n",
      "CR with model predict Tokyo: [9.7318] g/mm2\n"
     ]
    }
   ],
   "source": [
    "print('Test based on data Tokyo')\n",
    "Test_predictions2  = DT2.predict(Tokyo)\n",
    "print('CR with model predict Tokyo:', Test_predictions2 , 'g/mm2')"
   ]
  },
  {
   "cell_type": "code",
   "execution_count": null,
   "id": "third-israeli",
   "metadata": {},
   "outputs": [],
   "source": []
  },
  {
   "cell_type": "code",
   "execution_count": null,
   "id": "subsequent-property",
   "metadata": {},
   "outputs": [],
   "source": []
  }
 ],
 "metadata": {
  "kernelspec": {
   "display_name": "Python 3",
   "language": "python",
   "name": "python3"
  },
  "language_info": {
   "codemirror_mode": {
    "name": "ipython",
    "version": 3
   },
   "file_extension": ".py",
   "mimetype": "text/x-python",
   "name": "python",
   "nbconvert_exporter": "python",
   "pygments_lexer": "ipython3",
   "version": "3.7.7"
  }
 },
 "nbformat": 4,
 "nbformat_minor": 5
}

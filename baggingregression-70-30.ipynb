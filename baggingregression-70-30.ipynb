{
 "cells": [
  {
   "cell_type": "code",
   "execution_count": 1,
   "id": "genetic-introduction",
   "metadata": {
    "ExecuteTime": {
     "end_time": "2023-03-30T06:00:06.404606Z",
     "start_time": "2023-03-30T05:59:57.227574Z"
    }
   },
   "outputs": [],
   "source": [
    "# Import Library\n",
    "import time\n",
    "import numpy as np\n",
    "import matplotlib.pyplot as plt\n",
    "import pandas as pd\n",
    "import math\n",
    "import pydot\n",
    "import time\n",
    "from sklearn import metrics\n",
    "from sklearn.ensemble import BaggingRegressor\n",
    "from sklearn.model_selection import GridSearchCV\n",
    "from sklearn.model_selection import KFold\n",
    "from sklearn.model_selection import cross_val_predict\n",
    "from sklearn.tree import export_graphviz\n",
    "from yellowbrick.regressor import ResidualsPlot"
   ]
  },
  {
   "cell_type": "code",
   "execution_count": 2,
   "id": "confused-evaluation",
   "metadata": {
    "ExecuteTime": {
     "end_time": "2023-03-30T06:00:06.418941Z",
     "start_time": "2023-03-30T06:00:06.407788Z"
    }
   },
   "outputs": [],
   "source": [
    "from helper_functions import *"
   ]
  },
  {
   "cell_type": "code",
   "execution_count": 3,
   "id": "agricultural-monthly",
   "metadata": {
    "ExecuteTime": {
     "end_time": "2023-03-30T06:00:06.441907Z",
     "start_time": "2023-03-30T06:00:06.421278Z"
    }
   },
   "outputs": [
    {
     "data": {
      "text/html": [
       "<div>\n",
       "<style scoped>\n",
       "    .dataframe tbody tr th:only-of-type {\n",
       "        vertical-align: middle;\n",
       "    }\n",
       "\n",
       "    .dataframe tbody tr th {\n",
       "        vertical-align: top;\n",
       "    }\n",
       "\n",
       "    .dataframe thead th {\n",
       "        text-align: right;\n",
       "    }\n",
       "</style>\n",
       "<table border=\"1\" class=\"dataframe\">\n",
       "  <thead>\n",
       "    <tr style=\"text-align: right;\">\n",
       "      <th></th>\n",
       "      <th>T</th>\n",
       "      <th>RH</th>\n",
       "      <th>TOW</th>\n",
       "      <th>Prec</th>\n",
       "      <th>SO2</th>\n",
       "      <th>H+</th>\n",
       "      <th>CR</th>\n",
       "    </tr>\n",
       "  </thead>\n",
       "  <tbody>\n",
       "    <tr>\n",
       "      <th>0</th>\n",
       "      <td>9.5</td>\n",
       "      <td>79</td>\n",
       "      <td>2830</td>\n",
       "      <td>639.3</td>\n",
       "      <td>77.5</td>\n",
       "      <td>0.0000</td>\n",
       "      <td>14.89</td>\n",
       "    </tr>\n",
       "    <tr>\n",
       "      <th>1</th>\n",
       "      <td>10.3</td>\n",
       "      <td>74</td>\n",
       "      <td>2555</td>\n",
       "      <td>380.8</td>\n",
       "      <td>58.1</td>\n",
       "      <td>0.0221</td>\n",
       "      <td>6.98</td>\n",
       "    </tr>\n",
       "    <tr>\n",
       "      <th>2</th>\n",
       "      <td>9.1</td>\n",
       "      <td>73</td>\n",
       "      <td>2627</td>\n",
       "      <td>684.3</td>\n",
       "      <td>41.2</td>\n",
       "      <td>0.0714</td>\n",
       "      <td>7.78</td>\n",
       "    </tr>\n",
       "    <tr>\n",
       "      <th>3</th>\n",
       "      <td>9.8</td>\n",
       "      <td>77</td>\n",
       "      <td>3529</td>\n",
       "      <td>581.1</td>\n",
       "      <td>32.1</td>\n",
       "      <td>0.0342</td>\n",
       "      <td>5.69</td>\n",
       "    </tr>\n",
       "    <tr>\n",
       "      <th>4</th>\n",
       "      <td>7.0</td>\n",
       "      <td>77</td>\n",
       "      <td>3011</td>\n",
       "      <td>850.2</td>\n",
       "      <td>19.7</td>\n",
       "      <td>0.0000</td>\n",
       "      <td>8.95</td>\n",
       "    </tr>\n",
       "  </tbody>\n",
       "</table>\n",
       "</div>"
      ],
      "text/plain": [
       "      T  RH   TOW   Prec   SO2      H+     CR\n",
       "0   9.5  79  2830  639.3  77.5  0.0000  14.89\n",
       "1  10.3  74  2555  380.8  58.1  0.0221   6.98\n",
       "2   9.1  73  2627  684.3  41.2  0.0714   7.78\n",
       "3   9.8  77  3529  581.1  32.1  0.0342   5.69\n",
       "4   7.0  77  3011  850.2  19.7  0.0000   8.95"
      ]
     },
     "execution_count": 3,
     "metadata": {},
     "output_type": "execute_result"
    }
   ],
   "source": [
    "# Import dataset\n",
    "df = pd.read_csv(\"datamita.csv\")\n",
    "df.head()"
   ]
  },
  {
   "cell_type": "code",
   "execution_count": 4,
   "id": "different-guinea",
   "metadata": {
    "ExecuteTime": {
     "end_time": "2023-03-30T06:00:06.447638Z",
     "start_time": "2023-03-30T06:00:06.443880Z"
    }
   },
   "outputs": [],
   "source": [
    "# Define Feature and Target\n",
    "feature= df.drop('CR', axis=1)\n",
    "target= df['CR']"
   ]
  },
  {
   "cell_type": "code",
   "execution_count": 5,
   "id": "proved-ladder",
   "metadata": {
    "ExecuteTime": {
     "end_time": "2023-03-30T06:00:06.477357Z",
     "start_time": "2023-03-30T06:00:06.451761Z"
    }
   },
   "outputs": [
    {
     "data": {
      "text/html": [
       "<div>\n",
       "<style scoped>\n",
       "    .dataframe tbody tr th:only-of-type {\n",
       "        vertical-align: middle;\n",
       "    }\n",
       "\n",
       "    .dataframe tbody tr th {\n",
       "        vertical-align: top;\n",
       "    }\n",
       "\n",
       "    .dataframe thead th {\n",
       "        text-align: right;\n",
       "    }\n",
       "</style>\n",
       "<table border=\"1\" class=\"dataframe\">\n",
       "  <thead>\n",
       "    <tr style=\"text-align: right;\">\n",
       "      <th></th>\n",
       "      <th>T</th>\n",
       "      <th>RH</th>\n",
       "      <th>TOW</th>\n",
       "      <th>Prec</th>\n",
       "      <th>SO2</th>\n",
       "      <th>H+</th>\n",
       "    </tr>\n",
       "  </thead>\n",
       "  <tbody>\n",
       "    <tr>\n",
       "      <th>0</th>\n",
       "      <td>9.5</td>\n",
       "      <td>79</td>\n",
       "      <td>2830</td>\n",
       "      <td>639.3</td>\n",
       "      <td>77.5</td>\n",
       "      <td>0.0000</td>\n",
       "    </tr>\n",
       "    <tr>\n",
       "      <th>1</th>\n",
       "      <td>10.3</td>\n",
       "      <td>74</td>\n",
       "      <td>2555</td>\n",
       "      <td>380.8</td>\n",
       "      <td>58.1</td>\n",
       "      <td>0.0221</td>\n",
       "    </tr>\n",
       "    <tr>\n",
       "      <th>2</th>\n",
       "      <td>9.1</td>\n",
       "      <td>73</td>\n",
       "      <td>2627</td>\n",
       "      <td>684.3</td>\n",
       "      <td>41.2</td>\n",
       "      <td>0.0714</td>\n",
       "    </tr>\n",
       "    <tr>\n",
       "      <th>3</th>\n",
       "      <td>9.8</td>\n",
       "      <td>77</td>\n",
       "      <td>3529</td>\n",
       "      <td>581.1</td>\n",
       "      <td>32.1</td>\n",
       "      <td>0.0342</td>\n",
       "    </tr>\n",
       "    <tr>\n",
       "      <th>4</th>\n",
       "      <td>7.0</td>\n",
       "      <td>77</td>\n",
       "      <td>3011</td>\n",
       "      <td>850.2</td>\n",
       "      <td>19.7</td>\n",
       "      <td>0.0000</td>\n",
       "    </tr>\n",
       "    <tr>\n",
       "      <th>...</th>\n",
       "      <td>...</td>\n",
       "      <td>...</td>\n",
       "      <td>...</td>\n",
       "      <td>...</td>\n",
       "      <td>...</td>\n",
       "      <td>...</td>\n",
       "    </tr>\n",
       "    <tr>\n",
       "      <th>166</th>\n",
       "      <td>-0.7</td>\n",
       "      <td>76</td>\n",
       "      <td>0</td>\n",
       "      <td>558.0</td>\n",
       "      <td>10.0</td>\n",
       "      <td>0.0000</td>\n",
       "    </tr>\n",
       "    <tr>\n",
       "      <th>167</th>\n",
       "      <td>-15.5</td>\n",
       "      <td>68</td>\n",
       "      <td>0</td>\n",
       "      <td>306.0</td>\n",
       "      <td>3.0</td>\n",
       "      <td>0.0000</td>\n",
       "    </tr>\n",
       "    <tr>\n",
       "      <th>168</th>\n",
       "      <td>-0.4</td>\n",
       "      <td>71</td>\n",
       "      <td>0</td>\n",
       "      <td>403.0</td>\n",
       "      <td>4.0</td>\n",
       "      <td>0.0000</td>\n",
       "    </tr>\n",
       "    <tr>\n",
       "      <th>169</th>\n",
       "      <td>5.0</td>\n",
       "      <td>79</td>\n",
       "      <td>0</td>\n",
       "      <td>570.0</td>\n",
       "      <td>14.0</td>\n",
       "      <td>0.0000</td>\n",
       "    </tr>\n",
       "    <tr>\n",
       "      <th>170</th>\n",
       "      <td>9.0</td>\n",
       "      <td>81</td>\n",
       "      <td>0</td>\n",
       "      <td>700.0</td>\n",
       "      <td>3.0</td>\n",
       "      <td>0.0000</td>\n",
       "    </tr>\n",
       "  </tbody>\n",
       "</table>\n",
       "<p>171 rows × 6 columns</p>\n",
       "</div>"
      ],
      "text/plain": [
       "        T  RH   TOW   Prec   SO2      H+\n",
       "0     9.5  79  2830  639.3  77.5  0.0000\n",
       "1    10.3  74  2555  380.8  58.1  0.0221\n",
       "2     9.1  73  2627  684.3  41.2  0.0714\n",
       "3     9.8  77  3529  581.1  32.1  0.0342\n",
       "4     7.0  77  3011  850.2  19.7  0.0000\n",
       "..    ...  ..   ...    ...   ...     ...\n",
       "166  -0.7  76     0  558.0  10.0  0.0000\n",
       "167 -15.5  68     0  306.0   3.0  0.0000\n",
       "168  -0.4  71     0  403.0   4.0  0.0000\n",
       "169   5.0  79     0  570.0  14.0  0.0000\n",
       "170   9.0  81     0  700.0   3.0  0.0000\n",
       "\n",
       "[171 rows x 6 columns]"
      ]
     },
     "execution_count": 5,
     "metadata": {},
     "output_type": "execute_result"
    }
   ],
   "source": [
    "feature"
   ]
  },
  {
   "cell_type": "code",
   "execution_count": 6,
   "id": "naughty-george",
   "metadata": {
    "ExecuteTime": {
     "end_time": "2023-03-30T06:00:06.494613Z",
     "start_time": "2023-03-30T06:00:06.481065Z"
    }
   },
   "outputs": [
    {
     "data": {
      "text/plain": [
       "0      14.89\n",
       "1       6.98\n",
       "2       7.78\n",
       "3       5.69\n",
       "4       8.95\n",
       "       ...  \n",
       "166     6.35\n",
       "167     1.24\n",
       "168     3.84\n",
       "169     7.41\n",
       "170     7.03\n",
       "Name: CR, Length: 171, dtype: float64"
      ]
     },
     "execution_count": 6,
     "metadata": {},
     "output_type": "execute_result"
    }
   ],
   "source": [
    "target"
   ]
  },
  {
   "cell_type": "code",
   "execution_count": 7,
   "id": "cross-examination",
   "metadata": {
    "ExecuteTime": {
     "end_time": "2023-03-30T06:00:06.504601Z",
     "start_time": "2023-03-30T06:00:06.496736Z"
    }
   },
   "outputs": [],
   "source": [
    "X = feature                         # inputs/features \n",
    "y = target # outputs/targets"
   ]
  },
  {
   "cell_type": "code",
   "execution_count": 8,
   "id": "technological-sociology",
   "metadata": {
    "ExecuteTime": {
     "end_time": "2023-03-30T06:00:06.511379Z",
     "start_time": "2023-03-30T06:00:06.506739Z"
    }
   },
   "outputs": [],
   "source": [
    "seed = 726"
   ]
  },
  {
   "cell_type": "code",
   "execution_count": 9,
   "id": "federal-alexander",
   "metadata": {
    "ExecuteTime": {
     "end_time": "2023-03-30T06:00:06.548541Z",
     "start_time": "2023-03-30T06:00:06.513398Z"
    }
   },
   "outputs": [],
   "source": [
    "# Generate train/test split by reserving 30% of data as test set\n",
    "from sklearn.model_selection import train_test_split\n",
    "\n",
    "test_fraction = 0.3\n",
    "X_train, X_test, y_train, y_test = train_test_split(X, y, test_size=test_fraction, shuffle=True,random_state=seed)"
   ]
  },
  {
   "cell_type": "code",
   "execution_count": 10,
   "id": "sunset-technology",
   "metadata": {
    "ExecuteTime": {
     "end_time": "2023-03-30T06:00:06.564387Z",
     "start_time": "2023-03-30T06:00:06.550698Z"
    }
   },
   "outputs": [
    {
     "name": "stdout",
     "output_type": "stream",
     "text": [
      "Model training complete.\n"
     ]
    }
   ],
   "source": [
    "Default_model = BaggingRegressor(random_state=seed,n_estimators=1,bootstrap=False).fit(X_train,y_train) # fit the decision tree model\n",
    "print('Model training complete.')\n",
    "# print('Tree depth:', [estimator.tree_.max_depth for estimator in Default_model.estimators_])\n",
    "# for importance in zip (estimator.feature_importances_ for estimator in Default_model.estimators_):\n",
    "#     print (importance)\n",
    "#print('Leaf nodes:',[estimator.tree_.n_leaves for estimator in Default_model.estimators_])"
   ]
  },
  {
   "cell_type": "code",
   "execution_count": 11,
   "id": "happy-alert",
   "metadata": {
    "ExecuteTime": {
     "end_time": "2023-03-30T06:00:07.906405Z",
     "start_time": "2023-03-30T06:00:06.566368Z"
    }
   },
   "outputs": [
    {
     "data": {
      "image/png": "[encoded data removed]",
      "text/plain": [
       "<Figure size 1080x360 with 2 Axes>"
      ]
     },
     "metadata": {
      "needs_background": "light"
     },
     "output_type": "display_data"
    },
    {
     "data": {
      "text/html": [
       "<div>\n",
       "<style scoped>\n",
       "    .dataframe tbody tr th:only-of-type {\n",
       "        vertical-align: middle;\n",
       "    }\n",
       "\n",
       "    .dataframe tbody tr th {\n",
       "        vertical-align: top;\n",
       "    }\n",
       "\n",
       "    .dataframe thead th {\n",
       "        text-align: right;\n",
       "    }\n",
       "</style>\n",
       "<table border=\"1\" class=\"dataframe\">\n",
       "  <thead>\n",
       "    <tr style=\"text-align: right;\">\n",
       "      <th></th>\n",
       "      <th>Error Metric</th>\n",
       "      <th>Training Data</th>\n",
       "      <th>Test Data</th>\n",
       "      <th>Note</th>\n",
       "    </tr>\n",
       "  </thead>\n",
       "  <tbody>\n",
       "    <tr>\n",
       "      <th>0</th>\n",
       "      <td>RMSE</td>\n",
       "      <td>0.4479 (g/m2)</td>\n",
       "      <td>4.0398 (g/m2)</td>\n",
       "      <td>(0.0 for perfect prediction)</td>\n",
       "    </tr>\n",
       "    <tr>\n",
       "      <th>1</th>\n",
       "      <td>RMSE/std</td>\n",
       "      <td>0.0952</td>\n",
       "      <td>0.7461</td>\n",
       "      <td>(0.0 for perfect prediction)</td>\n",
       "    </tr>\n",
       "    <tr>\n",
       "      <th>2</th>\n",
       "      <td>MAE</td>\n",
       "      <td>0.0581 (g/m2)</td>\n",
       "      <td>2.7982 (g/m2)</td>\n",
       "      <td>(0.0 for perfect prediction)</td>\n",
       "    </tr>\n",
       "    <tr>\n",
       "      <th>3</th>\n",
       "      <td>R2</td>\n",
       "      <td>0.9909</td>\n",
       "      <td>0.4434</td>\n",
       "      <td>(1.0 for perfect prediction)</td>\n",
       "    </tr>\n",
       "  </tbody>\n",
       "</table>\n",
       "</div>"
      ],
      "text/plain": [
       "  Error Metric  Training Data      Test Data                          Note\n",
       "0         RMSE  0.4479 (g/m2)  4.0398 (g/m2)  (0.0 for perfect prediction)\n",
       "1     RMSE/std         0.0952         0.7461  (0.0 for perfect prediction)\n",
       "2          MAE  0.0581 (g/m2)  2.7982 (g/m2)  (0.0 for perfect prediction)\n",
       "3           R2         0.9909         0.4434  (1.0 for perfect prediction)"
      ]
     },
     "execution_count": 11,
     "metadata": {},
     "output_type": "execute_result"
    }
   ],
   "source": [
    "Train_predictions = Default_model.predict(X_train)    # Make predictions on training data\n",
    "Test_predictions = Default_model.predict(X_test)      # Make predictions on testing data\n",
    "\n",
    "parity_plots_side_by_side(y_train,Train_predictions,y_test,Test_predictions,title_left=\"Training Data Parity Plot\",title_right=\"Test Data Parity Plot\") # build both plots\n",
    "parity_stats_side_by_side(y_train,Train_predictions,y_test,Test_predictions,\"Training Data\",\"Test Data\")  # print error metrics for training data"
   ]
  },
  {
   "cell_type": "markdown",
   "id": "approved-mailman",
   "metadata": {},
   "source": [
    "# IMPROVING THE MODEL BY OPTIMIZING HYPERPARAMETERS"
   ]
  },
  {
   "cell_type": "code",
   "execution_count": 12,
   "id": "posted-fifty",
   "metadata": {
    "ExecuteTime": {
     "end_time": "2023-03-30T06:00:07.912003Z",
     "start_time": "2023-03-30T06:00:07.908753Z"
    }
   },
   "outputs": [
    {
     "name": "stdout",
     "output_type": "stream",
     "text": [
      "Default model uses the following hyperparameters:\n",
      "\n",
      "{'base_estimator': None, 'bootstrap': False, 'bootstrap_features': False, 'max_features': 1.0, 'max_samples': 1.0, 'n_estimators': 1, 'n_jobs': None, 'oob_score': False, 'random_state': 726, 'verbose': 0, 'warm_start': False}\n"
     ]
    }
   ],
   "source": [
    "print('Default model uses the following hyperparameters:\\n') # print default hyperparameters used\n",
    "print(Default_model.get_params())"
   ]
  },
  {
   "cell_type": "code",
   "execution_count": 13,
   "id": "north-hawaiian",
   "metadata": {
    "ExecuteTime": {
     "end_time": "2023-03-30T06:00:08.024549Z",
     "start_time": "2023-03-30T06:00:07.914188Z"
    }
   },
   "outputs": [],
   "source": [
    "# set up hyperparameter grid (a dictionary of hyperparameter candidates that we want the optimization strategy to consider)\n",
    "\n",
    "# EDIT LIST TO TRY DIFFERENT VALUES!\n",
    "### MAKE EDITS BELOW HERE ###\n",
    "\n",
    "number_of_trees = [1,10,25,50,100,200]\n",
    "\n",
    "### MAKE EDITS ABOVE HERE ###\n",
    "\n",
    "opt_dict = {'n_estimators':number_of_trees,'bootstrap':['True']}"
   ]
  },
  {
   "cell_type": "code",
   "execution_count": 14,
   "id": "described-raleigh",
   "metadata": {
    "ExecuteTime": {
     "end_time": "2023-03-30T06:00:08.067170Z",
     "start_time": "2023-03-30T06:00:08.026906Z"
    }
   },
   "outputs": [],
   "source": [
    "# kfold = KFold(n_splits=5,random_state=seed,shuffle=True)\n",
    "kfold = KFold(n_splits=10,\n",
    "                      random_state=seed,\n",
    "                      shuffle=True)"
   ]
  },
  {
   "cell_type": "code",
   "execution_count": 15,
   "id": "unlike-router",
   "metadata": {
    "ExecuteTime": {
     "end_time": "2023-03-30T06:00:17.196361Z",
     "start_time": "2023-03-30T06:00:08.069281Z"
    }
   },
   "outputs": [
    {
     "name": "stdout",
     "output_type": "stream",
     "text": [
      "Grid search completed in 9.103 seconds.\n",
      "{'bootstrap': 'True', 'n_estimators': 50}\n"
     ]
    }
   ],
   "source": [
    "# define a grid search strategy\n",
    "\n",
    "import time\n",
    "\n",
    "CV = GridSearchCV(Default_model, # 1. the model whose hyperparamter is being optimized right now\n",
    "                  opt_dict,   # 2. a dictionary of values that we want the grid search to use\n",
    "                  cv=kfold,   # 4. k-fold cross-validation strategy is used to define training and validation splits (note this is separate from test splits) to be used for each grid point\n",
    "                  return_train_score=True,\n",
    "                  scoring=['neg_mean_squared_error','r2','neg_mean_absolute_error'], # 5. the performance metrics to be reported at each grid point specified in opt_dict\n",
    "                  refit='neg_mean_squared_error')\n",
    "\n",
    "# perform grid search\n",
    "tic = time.perf_counter() # start timer\n",
    "\n",
    "CV = CV.fit(X_train,y_train)\n",
    "\n",
    "toc = time.perf_counter() # stop timer\n",
    "\n",
    "# print results\n",
    "print(f\"Grid search completed in {toc - tic:0.3f} seconds.\")\n",
    "print(CV.best_params_)"
   ]
  },
  {
   "cell_type": "markdown",
   "id": "monthly-satellite",
   "metadata": {},
   "source": [
    "# VISUALIZING THE LEARNING CURVE"
   ]
  },
  {
   "cell_type": "code",
   "execution_count": 16,
   "id": "electrical-shield",
   "metadata": {
    "ExecuteTime": {
     "end_time": "2023-03-30T06:00:17.453962Z",
     "start_time": "2023-03-30T06:00:17.198843Z"
    }
   },
   "outputs": [
    {
     "data": {
      "image/png": "[encoded data removed]",
      "text/plain": [
       "<Figure size 576x288 with 1 Axes>"
      ]
     },
     "metadata": {
      "needs_background": "light"
     },
     "output_type": "display_data"
    },
    {
     "name": "stdout",
     "output_type": "stream",
     "text": [
      "Minimum Mean Squared Error:  12.8686\n",
      "Number of Trees at minimum:  50\n"
     ]
    }
   ],
   "source": [
    "# plot number of trees vs train and test MSE\n",
    "\n",
    "opt_dict_array = opt_dict[\"n_estimators\"]                     # array of grid points (x-axis)\n",
    "train_mse = CV.cv_results_[\"mean_train_neg_mean_squared_error\"] # MSE of training set at each grid point (y-axis)\n",
    "test_mse = CV.cv_results_[\"mean_test_neg_mean_squared_error\"]   # MSE of test set at each grid point (y-axis)\n",
    "\n",
    "fig1,ax1 = plt.subplots(figsize=(8,4))\n",
    "ax1.scatter(opt_dict_array, -train_mse)\n",
    "ax1.scatter(opt_dict_array, -test_mse)\n",
    "# ax1.fill_between(opt_dict_array, -train_mse, -test_mse, alpha=0.1)\n",
    "ax1.set_xlabel('Number of Trees')\n",
    "ax1.set_ylabel('Mean Squared Error')\n",
    "ax1.set_title('Compare training and validation MSE vs hyperparameter')\n",
    "plt.legend([\"Training\",\"Validation\",\"difference\"])\n",
    "plt.show()\n",
    "print(\"Minimum Mean Squared Error: \", round(min(-test_mse),4))\n",
    "print(\"Number of Trees at minimum: \", opt_dict_array[np.argmin(-test_mse)])"
   ]
  },
  {
   "cell_type": "code",
   "execution_count": 17,
   "id": "partial-editing",
   "metadata": {
    "ExecuteTime": {
     "end_time": "2023-03-30T06:00:17.459537Z",
     "start_time": "2023-03-30T06:00:17.456277Z"
    }
   },
   "outputs": [
    {
     "data": {
      "text/plain": [
       "{'bootstrap': 'True', 'n_estimators': 50}"
      ]
     },
     "execution_count": 17,
     "metadata": {},
     "output_type": "execute_result"
    }
   ],
   "source": [
    "# check what the best parameters identified in the grid search were\n",
    "CV.best_params_"
   ]
  },
  {
   "cell_type": "code",
   "execution_count": 18,
   "id": "neither-discharge",
   "metadata": {
    "ExecuteTime": {
     "end_time": "2023-03-30T06:00:17.472219Z",
     "start_time": "2023-03-30T06:00:17.461489Z"
    }
   },
   "outputs": [
    {
     "name": "stdout",
     "output_type": "stream",
     "text": [
      "Average test RMSE:  3.5873 (0.0 for perfect prediction)\n",
      "Average test RMSE/std:  0.7624 (0.0 for perfect prediction)\n",
      "Average test MAE:  2.4807 (0.0 for perfect prediction)\n",
      "Average test R2:  -0.0158 (1.0 for perfect prediction)\n"
     ]
    }
   ],
   "source": [
    "# Extract cross validation performance metrics for the optimized model\n",
    "opt_CV_stats = CV_best_stats(CV,y_train)"
   ]
  },
  {
   "cell_type": "code",
   "execution_count": 19,
   "id": "increasing-gilbert",
   "metadata": {
    "ExecuteTime": {
     "end_time": "2023-03-30T06:00:17.633774Z",
     "start_time": "2023-03-30T06:00:17.474283Z"
    }
   },
   "outputs": [
    {
     "name": "stdout",
     "output_type": "stream",
     "text": [
      "Average test RMSE:  5.0769 (0.0 for perfect prediction)\n",
      "Average test RMSE/std:  1.0789 (0.0 for perfect prediction)\n",
      "Average test MAE:  3.3054 (0.0 for perfect prediction)\n",
      "Average test R2:  -1.4425 (1.0 for perfect prediction)\n"
     ]
    }
   ],
   "source": [
    "default_opt_dict = {'n_estimators':[1]}\n",
    "\n",
    "default_CV = GridSearchCV(Default_model,\n",
    "                          default_opt_dict,\n",
    "                          cv=kfold,\n",
    "                          return_train_score=True,\n",
    "                          scoring=['neg_mean_squared_error','r2','neg_mean_absolute_error'],\n",
    "                          refit='neg_mean_squared_error')\n",
    "default_CV = default_CV.fit(X_train,y_train)\n",
    "\n",
    "default_CV_stats = CV_best_stats(default_CV,y_train)"
   ]
  },
  {
   "cell_type": "markdown",
   "id": "compliant-publisher",
   "metadata": {},
   "source": [
    "# DEFAULT VS. OPTIMIZED MODEL: TRAINING AND TEST DATA PERFORMANCE"
   ]
  },
  {
   "cell_type": "code",
   "execution_count": 20,
   "id": "explicit-miniature",
   "metadata": {
    "ExecuteTime": {
     "end_time": "2023-03-30T06:00:17.757125Z",
     "start_time": "2023-03-30T06:00:17.635763Z"
    }
   },
   "outputs": [],
   "source": [
    "# Refit the model using the best hyperparameters\n",
    "DT2 = CV.best_estimator_.fit(X_train,y_train)\n",
    "\n",
    "# predict both the train and test data\n",
    "Train_predictions2 = DT2.predict(X_train)\n",
    "Test_predictions2 = DT2.predict(X_test)"
   ]
  },
  {
   "cell_type": "code",
   "execution_count": 21,
   "id": "fantastic-hazard",
   "metadata": {
    "ExecuteTime": {
     "end_time": "2023-03-30T06:00:19.027625Z",
     "start_time": "2023-03-30T06:00:17.759165Z"
    }
   },
   "outputs": [
    {
     "data": {
      "image/png": "[encoded data removed]",
      "text/plain": [
       "<Figure size 1080x360 with 2 Axes>"
      ]
     },
     "metadata": {
      "needs_background": "light"
     },
     "output_type": "display_data"
    },
    {
     "data": {
      "text/html": [
       "<div>\n",
       "<style scoped>\n",
       "    .dataframe tbody tr th:only-of-type {\n",
       "        vertical-align: middle;\n",
       "    }\n",
       "\n",
       "    .dataframe tbody tr th {\n",
       "        vertical-align: top;\n",
       "    }\n",
       "\n",
       "    .dataframe thead th {\n",
       "        text-align: right;\n",
       "    }\n",
       "</style>\n",
       "<table border=\"1\" class=\"dataframe\">\n",
       "  <thead>\n",
       "    <tr style=\"text-align: right;\">\n",
       "      <th></th>\n",
       "      <th>Error Metric</th>\n",
       "      <th>Training Set (Default Model)</th>\n",
       "      <th>Training Set (Optimized Model)</th>\n",
       "      <th>Note</th>\n",
       "    </tr>\n",
       "  </thead>\n",
       "  <tbody>\n",
       "    <tr>\n",
       "      <th>0</th>\n",
       "      <td>RMSE</td>\n",
       "      <td>0.4479 (g/m2)</td>\n",
       "      <td>1.4987 (g/m2)</td>\n",
       "      <td>(0.0 for perfect prediction)</td>\n",
       "    </tr>\n",
       "    <tr>\n",
       "      <th>1</th>\n",
       "      <td>RMSE/std</td>\n",
       "      <td>0.0952</td>\n",
       "      <td>0.3185</td>\n",
       "      <td>(0.0 for perfect prediction)</td>\n",
       "    </tr>\n",
       "    <tr>\n",
       "      <th>2</th>\n",
       "      <td>MAE</td>\n",
       "      <td>0.0581 (g/m2)</td>\n",
       "      <td>0.9876 (g/m2)</td>\n",
       "      <td>(0.0 for perfect prediction)</td>\n",
       "    </tr>\n",
       "    <tr>\n",
       "      <th>3</th>\n",
       "      <td>R2</td>\n",
       "      <td>0.9909</td>\n",
       "      <td>0.8986</td>\n",
       "      <td>(1.0 for perfect prediction)</td>\n",
       "    </tr>\n",
       "  </tbody>\n",
       "</table>\n",
       "</div>"
      ],
      "text/plain": [
       "  Error Metric Training Set (Default Model) Training Set (Optimized Model)  \\\n",
       "0         RMSE                0.4479 (g/m2)                  1.4987 (g/m2)   \n",
       "1     RMSE/std                       0.0952                         0.3185   \n",
       "2          MAE                0.0581 (g/m2)                  0.9876 (g/m2)   \n",
       "3           R2                       0.9909                         0.8986   \n",
       "\n",
       "                           Note  \n",
       "0  (0.0 for perfect prediction)  \n",
       "1  (0.0 for perfect prediction)  \n",
       "2  (0.0 for perfect prediction)  \n",
       "3  (1.0 for perfect prediction)  "
      ]
     },
     "execution_count": 21,
     "metadata": {},
     "output_type": "execute_result"
    }
   ],
   "source": [
    "parity_plots_side_by_side(y_train,Train_predictions,y_train,Train_predictions2,title_left=\"Training Parity Plot (Default Model)\",title_right=\"Training Parity Plot (Optimized Model)\") # build both plots\n",
    "parity_stats_side_by_side(y_train,Train_predictions,y_train,Train_predictions2,\"Training Set (Default Model)\",\"Training Set (Optimized Model)\")"
   ]
  },
  {
   "cell_type": "code",
   "execution_count": 22,
   "id": "interesting-poverty",
   "metadata": {
    "ExecuteTime": {
     "end_time": "2023-03-30T06:00:20.330249Z",
     "start_time": "2023-03-30T06:00:19.029793Z"
    }
   },
   "outputs": [
    {
     "data": {
      "image/png": "[encoded data removed]",
      "text/plain": [
       "<Figure size 1080x360 with 2 Axes>"
      ]
     },
     "metadata": {
      "needs_background": "light"
     },
     "output_type": "display_data"
    },
    {
     "data": {
      "text/html": [
       "<div>\n",
       "<style scoped>\n",
       "    .dataframe tbody tr th:only-of-type {\n",
       "        vertical-align: middle;\n",
       "    }\n",
       "\n",
       "    .dataframe tbody tr th {\n",
       "        vertical-align: top;\n",
       "    }\n",
       "\n",
       "    .dataframe thead th {\n",
       "        text-align: right;\n",
       "    }\n",
       "</style>\n",
       "<table border=\"1\" class=\"dataframe\">\n",
       "  <thead>\n",
       "    <tr style=\"text-align: right;\">\n",
       "      <th></th>\n",
       "      <th>Error Metric</th>\n",
       "      <th>Test Set (Default Model)</th>\n",
       "      <th>Test Set (Optimized Model)</th>\n",
       "      <th>Note</th>\n",
       "    </tr>\n",
       "  </thead>\n",
       "  <tbody>\n",
       "    <tr>\n",
       "      <th>0</th>\n",
       "      <td>RMSE</td>\n",
       "      <td>4.0398 (g/m2)</td>\n",
       "      <td>3.3586 (g/m2)</td>\n",
       "      <td>(0.0 for perfect prediction)</td>\n",
       "    </tr>\n",
       "    <tr>\n",
       "      <th>1</th>\n",
       "      <td>RMSE/std</td>\n",
       "      <td>0.7461</td>\n",
       "      <td>0.6203</td>\n",
       "      <td>(0.0 for perfect prediction)</td>\n",
       "    </tr>\n",
       "    <tr>\n",
       "      <th>2</th>\n",
       "      <td>MAE</td>\n",
       "      <td>2.7982 (g/m2)</td>\n",
       "      <td>2.14 (g/m2)</td>\n",
       "      <td>(0.0 for perfect prediction)</td>\n",
       "    </tr>\n",
       "    <tr>\n",
       "      <th>3</th>\n",
       "      <td>R2</td>\n",
       "      <td>0.4434</td>\n",
       "      <td>0.6153</td>\n",
       "      <td>(1.0 for perfect prediction)</td>\n",
       "    </tr>\n",
       "  </tbody>\n",
       "</table>\n",
       "</div>"
      ],
      "text/plain": [
       "  Error Metric Test Set (Default Model) Test Set (Optimized Model)  \\\n",
       "0         RMSE            4.0398 (g/m2)              3.3586 (g/m2)   \n",
       "1     RMSE/std                   0.7461                     0.6203   \n",
       "2          MAE            2.7982 (g/m2)                2.14 (g/m2)   \n",
       "3           R2                   0.4434                     0.6153   \n",
       "\n",
       "                           Note  \n",
       "0  (0.0 for perfect prediction)  \n",
       "1  (0.0 for perfect prediction)  \n",
       "2  (0.0 for perfect prediction)  \n",
       "3  (1.0 for perfect prediction)  "
      ]
     },
     "execution_count": 22,
     "metadata": {},
     "output_type": "execute_result"
    }
   ],
   "source": [
    "parity_plots_side_by_side(y_test,Test_predictions,y_test,Test_predictions2, title_left=\"Test Parity Plot (Default Model)\",title_right=\"Test Parity Plot (Optimized Model)\") # build both plots\n",
    "parity_stats_side_by_side(y_test,Test_predictions,y_test,Test_predictions2,\"Test Set (Default Model)\",\"Test Set (Optimized Model)\")"
   ]
  },
  {
   "cell_type": "code",
   "execution_count": 23,
   "id": "suffering-socket",
   "metadata": {
    "ExecuteTime": {
     "end_time": "2023-03-30T06:00:20.473370Z",
     "start_time": "2023-03-30T06:00:20.332391Z"
    }
   },
   "outputs": [
    {
     "data": {
      "text/html": [
       "        <script type=\"text/javascript\">\n",
       "        window.PlotlyConfig = {MathJaxConfig: 'local'};\n",
       "        if (window.MathJax) {MathJax.Hub.Config({SVG: {font: \"STIX-Web\"}});}\n",
       "        if (typeof require !== 'undefined') {\n",
       "        require.undef(\"plotly\");\n",
       "        requirejs.config({\n",
       "            paths: {\n",
       "                'plotly': ['https://cdn.plot.ly/plotly-latest.min']\n",
       "            }\n",
       "        });\n",
       "        require(['plotly'], function(Plotly) {\n",
       "            window._Plotly = Plotly;\n",
       "        });\n",
       "        }\n",
       "        </script>\n",
       "        "
      ]
     },
     "metadata": {},
     "output_type": "display_data"
    }
   ],
   "source": [
    "import plotly\n",
    "import plotly.graph_objs as go\n",
    "from plotly.offline import iplot\n",
    "plotly.offline.init_notebook_mode(connected=True)"
   ]
  },
  {
   "cell_type": "code",
   "execution_count": 24,
   "id": "floppy-format",
   "metadata": {
    "ExecuteTime": {
     "end_time": "2023-03-30T06:00:20.911175Z",
     "start_time": "2023-03-30T06:00:20.475416Z"
    }
   },
   "outputs": [],
   "source": [
    "layout0= go.Layout(title= r'$ \\text{ Bagging Regressor } $', hovermode= 'closest',\n",
    "                       font = dict(family='Times New Roman',size=18),\n",
    "                       xaxis= dict(title= 'Measured Corr Rate (g/m2)',zeroline= False, gridwidth= 2),\n",
    "                       yaxis= dict(title= 'Predicted Corr Rate (g/m2)',zeroline= False, gridwidth= 2),#range=[-350,3750]),\n",
    "                       #height=1000,\n",
    "                       #width=1000,\n",
    "         showlegend= True )"
   ]
  },
  {
   "cell_type": "code",
   "execution_count": 25,
   "id": "hearing-charter",
   "metadata": {
    "ExecuteTime": {
     "end_time": "2023-03-30T06:00:25.164534Z",
     "start_time": "2023-03-30T06:00:20.913370Z"
    }
   },
   "outputs": [
    {
     "data": {
      "application/vnd.plotly.v1+json": {
       "config": {
        "linkText": "Export to plot.ly",
        "plotlyServerURL": "https://plot.ly",
        "showLink": false
       },
       "data": [
        {
         "marker": {
          "color": "blue",
          "size": 12
         },
         "mode": "markers",
         "name": "Training Data",
         "type": "scatter",
         "x": [
          6.350000001000001,
          3.53,
          7.920000001,
          3.53,
          3.53,
          9.069999999,
          11.02,
          3.840000002,
          4.61,
          2.3,
          5.620000001,
          7.850000002000001,
          11.74,
          4.54,
          1.58,
          8.949999997,
          4.25,
          4.68,
          6.7700000010000005,
          6.3399999970000005,
          5.829999998,
          13.61,
          12.46,
          4.82,
          1.08,
          3.46,
          7.060000003,
          8.350000001,
          4.61,
          9.069999999,
          9.430000003,
          6.190000002000001,
          8.14,
          4.39,
          23.83,
          5.829999998,
          7.740000003,
          25.56000001,
          10.36,
          6.980000002000001,
          8.060000003999999,
          8.419999998,
          1.22,
          11.59,
          10.66,
          8.499999996,
          2.09,
          20.88,
          14.33,
          5.620000001,
          6.980000002000001,
          15.34,
          12.81999999,
          3.739999998,
          6.699999997000001,
          1.24,
          3.890000001,
          4.100000001000001,
          6.05,
          7.270000003,
          4.75,
          7.629999998,
          9.880000002000001,
          7.5599999989999995,
          11.38,
          1.51,
          6.699999997000001,
          1.15,
          10.66,
          2.88,
          6.699999997000001,
          7.779999999,
          6.479999997999999,
          9.290000002000001,
          1.809999999,
          7.850000002000001,
          9.719999995,
          25.78000001,
          6.840000002999999,
          5.179999999,
          7.340000002999999,
          9.759999996,
          7.490000004,
          10.01,
          6.62,
          1.01,
          4.319999999,
          18.65,
          1.659999999,
          11.09,
          3.890000001,
          1.659999999,
          3.3699999989999996,
          5.98,
          1.94,
          14.76,
          7.920000001,
          0.65,
          10.58,
          10.32,
          4.639999999,
          5.04,
          4.03,
          9.719999995,
          4.100000001000001,
          11.45,
          1.58,
          4.68,
          8.570000002999999,
          6.259999999,
          0.94,
          7.060000003,
          5.689999998999999,
          5.300000002,
          8.310000001,
          9.929999999,
          3.099999998,
          8.640000002,
          12.89
         ],
         "y": [
          6.056000000480001,
          3.98880000016,
          11.519800000399997,
          3.851599999900001,
          3.792000000080001,
          8.876999999440002,
          10.153999999859996,
          3.894200001240001,
          5.235800000040004,
          3.0304000000200007,
          5.903200000379997,
          8.129400001399999,
          10.96020000018,
          4.7110000000399985,
          1.512199999959999,
          8.704599998180006,
          4.1850000002000005,
          5.107400000160004,
          6.800000000320003,
          7.106999998700002,
          5.8555999985400025,
          11.633400000420002,
          9.610399999299997,
          4.930999999879998,
          3.5045999994000057,
          4.777200000260002,
          6.562600001860004,
          8.195000000720006,
          5.453799999820004,
          8.445600000000002,
          9.807800002259997,
          6.642800001040001,
          8.033799999999996,
          4.722600000019997,
          18.807100000140007,
          6.422999998440003,
          7.817800002059998,
          20.189370004929987,
          9.511799999980006,
          8.185000001459997,
          9.034200001860002,
          8.955799998059994,
          1.7127999996799994,
          10.870200000279992,
          10.028000000480004,
          7.734999997479996,
          2.373599999940001,
          17.607200001999995,
          11.56300000006,
          5.95680000048,
          8.0872000018,
          13.03040000002,
          11.018399993299996,
          5.0187999990000005,
          5.951999997860002,
          1.9799999999199989,
          4.636800000800003,
          4.953800000640005,
          6.474800000380004,
          7.9242000017200045,
          6.4092000003999985,
          7.750199998640002,
          7.812000000859996,
          8.225199999200006,
          10.49959999992,
          2.5101999998400015,
          5.685799998460001,
          7.04813333394666,
          10.49020000072001,
          2.937800000039999,
          7.137799998340003,
          8.480399999419998,
          7.0139999989,
          8.58480000156,
          2.2637999996399993,
          8.530000001220001,
          8.664199996540006,
          21.855800006259994,
          7.2890000019200025,
          5.3127999992199975,
          8.883600001779998,
          9.776199997019996,
          8.210400002620002,
          8.936800000019995,
          7.836000000040001,
          2.916799999860001,
          4.215199999220002,
          20.189370004929987,
          3.204999999040001,
          9.615999999719993,
          8.966360002359998,
          1.5549999995200003,
          3.3825999992399973,
          5.33000000002,
          3.02159999954,
          12.158399999079995,
          8.142600000120002,
          1.3137999999799994,
          8.766800000059998,
          9.572999999539997,
          4.3051999993,
          6.115600000020002,
          6.557800000599994,
          9.30179999806,
          5.237800000460005,
          10.490799999459997,
          1.5583999998599989,
          5.3732000001200015,
          8.837600002240004,
          6.201999999600002,
          1.4260000000199988,
          7.374000001820004,
          6.0377999994000024,
          4.901000001299997,
          7.416200000759996,
          9.338399999380005,
          2.7675999983999997,
          8.132400000640006,
          10.626400000299995
         ]
        },
        {
         "marker": {
          "color": "red",
          "size": 12
         },
         "mode": "markers",
         "name": "Testing Data",
         "type": "scatter",
         "x": [
          11.52,
          4.75,
          10.15,
          24.48000001,
          0.65,
          16.41,
          1.659999999,
          6.62,
          7.700000001,
          27,
          4.319999999,
          2.9099999989999996,
          2.03,
          7.2,
          2.019999999,
          3.739999998,
          4.899999998999999,
          5.689999998999999,
          7.409999997999999,
          1.69,
          8.499999996,
          7.990000002,
          10.22,
          10.72,
          12.17,
          7.490000004,
          8.350000001,
          5.179999999,
          4.300000001,
          2.380000001,
          2.88,
          9.069999999,
          1.64,
          3.53,
          5.540000001,
          7.18,
          1.94,
          6.1200000029999995,
          21.23999999,
          8.419999998,
          7.060000003,
          7.030000001,
          5.260000001,
          3.019999999,
          5.469999998,
          5.689999998999999,
          14.89,
          5.260000001,
          4.25,
          3.0700000010000004,
          8.920000004,
          3.890000001
         ],
         "y": [
          7.47979999998,
          6.3171999994400005,
          8.488599998980002,
          21.969400006159994,
          1.7005999998999997,
          9.79300000062,
          2.3401999999200003,
          5.5494000001,
          5.312599999860002,
          20.189370004929987,
          6.454199999580001,
          2.5044000003399987,
          2.2683999999399993,
          6.327399999359996,
          1.5207999999399988,
          5.493400000100003,
          6.644399999820001,
          5.7901999998400004,
          6.272800000620001,
          3.776400000620001,
          10.110999998439997,
          8.477999999419998,
          8.021000000220004,
          6.916399999960004,
          9.426400000519997,
          7.322399998960002,
          9.941999999579998,
          6.6037999996,
          5.0418000001,
          4.678800000080002,
          9.261160002199997,
          8.42260000058,
          3.288200000000001,
          4.796799999959998,
          6.9797999998000035,
          6.001000000419998,
          1.8810000000200011,
          5.623799999799998,
          4.261799999840001,
          8.36180000126,
          8.305399999879999,
          4.79839999984,
          7.609800000519998,
          4.30399999986,
          4.682600000999999,
          9.926999998719996,
          11.02420000008,
          6.504199999880001,
          6.810600000080001,
          4.177400000160002,
          6.203800000300001,
          2.8305999998400004
         ]
        },
        {
         "marker": {
          "color": "black",
          "size": 12
         },
         "mode": "lines",
         "name": "Linear Fit",
         "text": "Fit",
         "type": "scatter",
         "x": [
          0.65,
          1.1877551020408164,
          1.7255102040816328,
          2.263265306122449,
          2.8010204081632653,
          3.3387755102040817,
          3.8765306122448977,
          4.414285714285715,
          4.952040816326531,
          5.4897959183673475,
          6.027551020408164,
          6.56530612244898,
          7.103061224489796,
          7.640816326530612,
          8.178571428571429,
          8.716326530612246,
          9.254081632653062,
          9.791836734693877,
          10.329591836734695,
          10.86734693877551,
          11.405102040816328,
          11.942857142857143,
          12.48061224489796,
          13.018367346938776,
          13.556122448979592,
          14.093877551020409,
          14.631632653061224,
          15.169387755102042,
          15.707142857142857,
          16.244897959183675,
          16.78265306122449,
          17.320408163265306,
          17.85816326530612,
          18.395918367346937,
          18.933673469387752,
          19.47142857142857,
          20.009183673469387,
          20.546938775510203,
          21.084693877551018,
          21.622448979591837,
          22.160204081632653,
          22.69795918367347,
          23.235714285714284,
          23.7734693877551,
          24.31122448979592,
          24.848979591836734,
          25.38673469387755,
          25.924489795918365,
          26.46224489795918,
          27
         ],
         "y": [
          0.65,
          1.1877551020408164,
          1.7255102040816328,
          2.263265306122449,
          2.8010204081632653,
          3.3387755102040817,
          3.8765306122448977,
          4.414285714285715,
          4.952040816326531,
          5.4897959183673475,
          6.027551020408164,
          6.56530612244898,
          7.103061224489796,
          7.640816326530612,
          8.178571428571429,
          8.716326530612246,
          9.254081632653062,
          9.791836734693877,
          10.329591836734695,
          10.86734693877551,
          11.405102040816328,
          11.942857142857143,
          12.48061224489796,
          13.018367346938776,
          13.556122448979592,
          14.093877551020409,
          14.631632653061224,
          15.169387755102042,
          15.707142857142857,
          16.244897959183675,
          16.78265306122449,
          17.320408163265306,
          17.85816326530612,
          18.395918367346937,
          18.933673469387752,
          19.47142857142857,
          20.009183673469387,
          20.546938775510203,
          21.084693877551018,
          21.622448979591837,
          22.160204081632653,
          22.69795918367347,
          23.235714285714284,
          23.7734693877551,
          24.31122448979592,
          24.848979591836734,
          25.38673469387755,
          25.924489795918365,
          26.46224489795918,
          27
         ]
        }
       ],
       "layout": {
        "font": {
         "family": "Times New Roman",
         "size": 18
        },
        "hovermode": "closest",
        "showlegend": true,
        "template": {
         "data": {
          "bar": [
           {
            "error_x": {
             "color": "#2a3f5f"
            },
            "error_y": {
             "color": "#2a3f5f"
            },
            "marker": {
             "line": {
              "color": "#E5ECF6",
              "width": 0.5
             }
            },
            "type": "bar"
           }
          ],
          "barpolar": [
           {
            "marker": {
             "line": {
              "color": "#E5ECF6",
              "width": 0.5
             }
            },
            "type": "barpolar"
           }
          ],
          "carpet": [
           {
            "aaxis": {
             "endlinecolor": "#2a3f5f",
             "gridcolor": "white",
             "linecolor": "white",
             "minorgridcolor": "white",
             "startlinecolor": "#2a3f5f"
            },
            "baxis": {
             "endlinecolor": "#2a3f5f",
             "gridcolor": "white",
             "linecolor": "white",
             "minorgridcolor": "white",
             "startlinecolor": "#2a3f5f"
            },
            "type": "carpet"
           }
          ],
          "choropleth": [
           {
            "colorbar": {
             "outlinewidth": 0,
             "ticks": ""
            },
            "type": "choropleth"
           }
          ],
          "contour": [
           {
            "colorbar": {
             "outlinewidth": 0,
             "ticks": ""
            },
            "colorscale": [
             [
              0,
              "#0d0887"
             ],
             [
              0.1111111111111111,
              "#46039f"
             ],
             [
              0.2222222222222222,
              "#7201a8"
             ],
             [
              0.3333333333333333,
              "#9c179e"
             ],
             [
              0.4444444444444444,
              "#bd3786"
             ],
             [
              0.5555555555555556,
              "#d8576b"
             ],
             [
              0.6666666666666666,
              "#ed7953"
             ],
             [
              0.7777777777777778,
              "#fb9f3a"
             ],
             [
              0.8888888888888888,
              "#fdca26"
             ],
             [
              1,
              "#f0f921"
             ]
            ],
            "type": "contour"
           }
          ],
          "contourcarpet": [
           {
            "colorbar": {
             "outlinewidth": 0,
             "ticks": ""
            },
            "type": "contourcarpet"
           }
          ],
          "heatmap": [
           {
            "colorbar": {
             "outlinewidth": 0,
             "ticks": ""
            },
            "colorscale": [
             [
              0,
              "#0d0887"
             ],
             [
              0.1111111111111111,
              "#46039f"
             ],
             [
              0.2222222222222222,
              "#7201a8"
             ],
             [
              0.3333333333333333,
              "#9c179e"
             ],
             [
              0.4444444444444444,
              "#bd3786"
             ],
             [
              0.5555555555555556,
              "#d8576b"
             ],
             [
              0.6666666666666666,
              "#ed7953"
             ],
             [
              0.7777777777777778,
              "#fb9f3a"
             ],
             [
              0.8888888888888888,
              "#fdca26"
             ],
             [
              1,
              "#f0f921"
             ]
            ],
            "type": "heatmap"
           }
          ],
          "heatmapgl": [
           {
            "colorbar": {
             "outlinewidth": 0,
             "ticks": ""
            },
            "colorscale": [
             [
              0,
              "#0d0887"
             ],
             [
              0.1111111111111111,
              "#46039f"
             ],
             [
              0.2222222222222222,
              "#7201a8"
             ],
             [
              0.3333333333333333,
              "#9c179e"
             ],
             [
              0.4444444444444444,
              "#bd3786"
             ],
             [
              0.5555555555555556,
              "#d8576b"
             ],
             [
              0.6666666666666666,
              "#ed7953"
             ],
             [
              0.7777777777777778,
              "#fb9f3a"
             ],
             [
              0.8888888888888888,
              "#fdca26"
             ],
             [
              1,
              "#f0f921"
             ]
            ],
            "type": "heatmapgl"
           }
          ],
          "histogram": [
           {
            "marker": {
             "colorbar": {
              "outlinewidth": 0,
              "ticks": ""
             }
            },
            "type": "histogram"
           }
          ],
          "histogram2d": [
           {
            "colorbar": {
             "outlinewidth": 0,
             "ticks": ""
            },
            "colorscale": [
             [
              0,
              "#0d0887"
             ],
             [
              0.1111111111111111,
              "#46039f"
             ],
             [
              0.2222222222222222,
              "#7201a8"
             ],
             [
              0.3333333333333333,
              "#9c179e"
             ],
             [
              0.4444444444444444,
              "#bd3786"
             ],
             [
              0.5555555555555556,
              "#d8576b"
             ],
             [
              0.6666666666666666,
              "#ed7953"
             ],
             [
              0.7777777777777778,
              "#fb9f3a"
             ],
             [
              0.8888888888888888,
              "#fdca26"
             ],
             [
              1,
              "#f0f921"
             ]
            ],
            "type": "histogram2d"
           }
          ],
          "histogram2dcontour": [
           {
            "colorbar": {
             "outlinewidth": 0,
             "ticks": ""
            },
            "colorscale": [
             [
              0,
              "#0d0887"
             ],
             [
              0.1111111111111111,
              "#46039f"
             ],
             [
              0.2222222222222222,
              "#7201a8"
             ],
             [
              0.3333333333333333,
              "#9c179e"
             ],
             [
              0.4444444444444444,
              "#bd3786"
             ],
             [
              0.5555555555555556,
              "#d8576b"
             ],
             [
              0.6666666666666666,
              "#ed7953"
             ],
             [
              0.7777777777777778,
              "#fb9f3a"
             ],
             [
              0.8888888888888888,
              "#fdca26"
             ],
             [
              1,
              "#f0f921"
             ]
            ],
            "type": "histogram2dcontour"
           }
          ],
          "mesh3d": [
           {
            "colorbar": {
             "outlinewidth": 0,
             "ticks": ""
            },
            "type": "mesh3d"
           }
          ],
          "parcoords": [
           {
            "line": {
             "colorbar": {
              "outlinewidth": 0,
              "ticks": ""
             }
            },
            "type": "parcoords"
           }
          ],
          "pie": [
           {
            "automargin": true,
            "type": "pie"
           }
          ],
          "scatter": [
           {
            "marker": {
             "colorbar": {
              "outlinewidth": 0,
              "ticks": ""
             }
            },
            "type": "scatter"
           }
          ],
          "scatter3d": [
           {
            "line": {
             "colorbar": {
              "outlinewidth": 0,
              "ticks": ""
             }
            },
            "marker": {
             "colorbar": {
              "outlinewidth": 0,
              "ticks": ""
             }
            },
            "type": "scatter3d"
           }
          ],
          "scattercarpet": [
           {
            "marker": {
             "colorbar": {
              "outlinewidth": 0,
              "ticks": ""
             }
            },
            "type": "scattercarpet"
           }
          ],
          "scattergeo": [
           {
            "marker": {
             "colorbar": {
              "outlinewidth": 0,
              "ticks": ""
             }
            },
            "type": "scattergeo"
           }
          ],
          "scattergl": [
           {
            "marker": {
             "colorbar": {
              "outlinewidth": 0,
              "ticks": ""
             }
            },
            "type": "scattergl"
           }
          ],
          "scattermapbox": [
           {
            "marker": {
             "colorbar": {
              "outlinewidth": 0,
              "ticks": ""
             }
            },
            "type": "scattermapbox"
           }
          ],
          "scatterpolar": [
           {
            "marker": {
             "colorbar": {
              "outlinewidth": 0,
              "ticks": ""
             }
            },
            "type": "scatterpolar"
           }
          ],
          "scatterpolargl": [
           {
            "marker": {
             "colorbar": {
              "outlinewidth": 0,
              "ticks": ""
             }
            },
            "type": "scatterpolargl"
           }
          ],
          "scatterternary": [
           {
            "marker": {
             "colorbar": {
              "outlinewidth": 0,
              "ticks": ""
             }
            },
            "type": "scatterternary"
           }
          ],
          "surface": [
           {
            "colorbar": {
             "outlinewidth": 0,
             "ticks": ""
            },
            "colorscale": [
             [
              0,
              "#0d0887"
             ],
             [
              0.1111111111111111,
              "#46039f"
             ],
             [
              0.2222222222222222,
              "#7201a8"
             ],
             [
              0.3333333333333333,
              "#9c179e"
             ],
             [
              0.4444444444444444,
              "#bd3786"
             ],
             [
              0.5555555555555556,
              "#d8576b"
             ],
             [
              0.6666666666666666,
              "#ed7953"
             ],
             [
              0.7777777777777778,
              "#fb9f3a"
             ],
             [
              0.8888888888888888,
              "#fdca26"
             ],
             [
              1,
              "#f0f921"
             ]
            ],
            "type": "surface"
           }
          ],
          "table": [
           {
            "cells": {
             "fill": {
              "color": "#EBF0F8"
             },
             "line": {
              "color": "white"
             }
            },
            "header": {
             "fill": {
              "color": "#C8D4E3"
             },
             "line": {
              "color": "white"
             }
            },
            "type": "table"
           }
          ]
         },
         "layout": {
          "annotationdefaults": {
           "arrowcolor": "#2a3f5f",
           "arrowhead": 0,
           "arrowwidth": 1
          },
          "autotypenumbers": "strict",
          "coloraxis": {
           "colorbar": {
            "outlinewidth": 0,
            "ticks": ""
           }
          },
          "colorscale": {
           "diverging": [
            [
             0,
             "#8e0152"
            ],
            [
             0.1,
             "#c51b7d"
            ],
            [
             0.2,
             "#de77ae"
            ],
            [
             0.3,
             "#f1b6da"
            ],
            [
             0.4,
             "#fde0ef"
            ],
            [
             0.5,
             "#f7f7f7"
            ],
            [
             0.6,
             "#e6f5d0"
            ],
            [
             0.7,
             "#b8e186"
            ],
            [
             0.8,
             "#7fbc41"
            ],
            [
             0.9,
             "#4d9221"
            ],
            [
             1,
             "#276419"
            ]
           ],
           "sequential": [
            [
             0,
             "#0d0887"
            ],
            [
             0.1111111111111111,
             "#46039f"
            ],
            [
             0.2222222222222222,
             "#7201a8"
            ],
            [
             0.3333333333333333,
             "#9c179e"
            ],
            [
             0.4444444444444444,
             "#bd3786"
            ],
            [
             0.5555555555555556,
             "#d8576b"
            ],
            [
             0.6666666666666666,
             "#ed7953"
            ],
            [
             0.7777777777777778,
             "#fb9f3a"
            ],
            [
             0.8888888888888888,
             "#fdca26"
            ],
            [
             1,
             "#f0f921"
            ]
           ],
           "sequentialminus": [
            [
             0,
             "#0d0887"
            ],
            [
             0.1111111111111111,
             "#46039f"
            ],
            [
             0.2222222222222222,
             "#7201a8"
            ],
            [
             0.3333333333333333,
             "#9c179e"
            ],
            [
             0.4444444444444444,
             "#bd3786"
            ],
            [
             0.5555555555555556,
             "#d8576b"
            ],
            [
             0.6666666666666666,
             "#ed7953"
            ],
            [
             0.7777777777777778,
             "#fb9f3a"
            ],
            [
             0.8888888888888888,
             "#fdca26"
            ],
            [
             1,
             "#f0f921"
            ]
           ]
          },
          "colorway": [
           "#636efa",
           "#EF553B",
           "#00cc96",
           "#ab63fa",
           "#FFA15A",
           "#19d3f3",
           "#FF6692",
           "#B6E880",
           "#FF97FF",
           "#FECB52"
          ],
          "font": {
           "color": "#2a3f5f"
          },
          "geo": {
           "bgcolor": "white",
           "lakecolor": "white",
           "landcolor": "#E5ECF6",
           "showlakes": true,
           "showland": true,
           "subunitcolor": "white"
          },
          "hoverlabel": {
           "align": "left"
          },
          "hovermode": "closest",
          "mapbox": {
           "style": "light"
          },
          "paper_bgcolor": "white",
          "plot_bgcolor": "#E5ECF6",
          "polar": {
           "angularaxis": {
            "gridcolor": "white",
            "linecolor": "white",
            "ticks": ""
           },
           "bgcolor": "#E5ECF6",
           "radialaxis": {
            "gridcolor": "white",
            "linecolor": "white",
            "ticks": ""
           }
          },
          "scene": {
           "xaxis": {
            "backgroundcolor": "#E5ECF6",
            "gridcolor": "white",
            "gridwidth": 2,
            "linecolor": "white",
            "showbackground": true,
            "ticks": "",
            "zerolinecolor": "white"
           },
           "yaxis": {
            "backgroundcolor": "#E5ECF6",
            "gridcolor": "white",
            "gridwidth": 2,
            "linecolor": "white",
            "showbackground": true,
            "ticks": "",
            "zerolinecolor": "white"
           },
           "zaxis": {
            "backgroundcolor": "#E5ECF6",
            "gridcolor": "white",
            "gridwidth": 2,
            "linecolor": "white",
            "showbackground": true,
            "ticks": "",
            "zerolinecolor": "white"
           }
          },
          "shapedefaults": {
           "line": {
            "color": "#2a3f5f"
           }
          },
          "ternary": {
           "aaxis": {
            "gridcolor": "white",
            "linecolor": "white",
            "ticks": ""
           },
           "baxis": {
            "gridcolor": "white",
            "linecolor": "white",
            "ticks": ""
           },
           "bgcolor": "#E5ECF6",
           "caxis": {
            "gridcolor": "white",
            "linecolor": "white",
            "ticks": ""
           }
          },
          "title": {
           "x": 0.05
          },
          "xaxis": {
           "automargin": true,
           "gridcolor": "white",
           "linecolor": "white",
           "ticks": "",
           "title": {
            "standoff": 15
           },
           "zerolinecolor": "white",
           "zerolinewidth": 2
          },
          "yaxis": {
           "automargin": true,
           "gridcolor": "white",
           "linecolor": "white",
           "ticks": "",
           "title": {
            "standoff": 15
           },
           "zerolinecolor": "white",
           "zerolinewidth": 2
          }
         }
        },
        "title": {
         "text": "$ \\text{ Bagging Regressor } $"
        },
        "xaxis": {
         "gridwidth": 2,
         "title": {
          "text": "Measured Corr Rate (g/m2)"
         },
         "zeroline": false
        },
        "yaxis": {
         "gridwidth": 2,
         "title": {
          "text": "Predicted Corr Rate (g/m2)"
         },
         "zeroline": false
        }
       }
      },
      "text/html": [
       "<div>                            <div id=\"ee11ea97-cb25-4787-81e3-636047684813\" class=\"plotly-graph-div\" style=\"height:525px; width:100%;\"></div>            <script type=\"text/javascript\">                require([\"plotly\"], function(Plotly) {                    window.PLOTLYENV=window.PLOTLYENV || {};                                    if (document.getElementById(\"ee11ea97-cb25-4787-81e3-636047684813\")) {                    Plotly.newPlot(                        \"ee11ea97-cb25-4787-81e3-636047684813\",                        [{\"marker\": {\"color\": \"blue\", \"size\": 12}, \"mode\": \"markers\", \"name\": \"Training Data\", \"type\": \"scatter\", \"x\": [6.350000001000001, 3.53, 7.920000001, 3.53, 3.53, 9.069999999, 11.02, 3.840000002, 4.61, 2.3, 5.620000001, 7.850000002000001, 11.74, 4.54, 1.58, 8.949999997, 4.25, 4.68, 6.7700000010000005, 6.3399999970000005, 5.829999998, 13.61, 12.46, 4.82, 1.08, 3.46, 7.060000003, 8.350000001, 4.61, 9.069999999, 9.430000003, 6.190000002000001, 8.14, 4.39, 23.83, 5.829999998, 7.740000003, 25.56000001, 10.36, 6.980000002000001, 8.060000003999999, 8.419999998, 1.22, 11.59, 10.66, 8.499999996, 2.09, 20.88, 14.33, 5.620000001, 6.980000002000001, 15.34, 12.81999999, 3.739999998, 6.699999997000001, 1.24, 3.890000001, 4.100000001000001, 6.05, 7.270000003, 4.75, 7.629999998, 9.880000002000001, 7.5599999989999995, 11.38, 1.51, 6.699999997000001, 1.15, 10.66, 2.88, 6.699999997000001, 7.779999999, 6.479999997999999, 9.290000002000001, 1.809999999, 7.850000002000001, 9.719999995, 25.78000001, 6.840000002999999, 5.179999999, 7.340000002999999, 9.759999996, 7.490000004, 10.01, 6.62, 1.01, 4.319999999, 18.65, 1.659999999, 11.09, 3.890000001, 1.659999999, 3.3699999989999996, 5.98, 1.94, 14.76, 7.920000001, 0.65, 10.58, 10.32, 4.639999999, 5.04, 4.03, 9.719999995, 4.100000001000001, 11.45, 1.58, 4.68, 8.570000002999999, 6.259999999, 0.94, 7.060000003, 5.689999998999999, 5.300000002, 8.310000001, 9.929999999, 3.099999998, 8.640000002, 12.89], \"y\": [6.056000000480001, 3.98880000016, 11.519800000399997, 3.851599999900001, 3.792000000080001, 8.876999999440002, 10.153999999859996, 3.894200001240001, 5.235800000040004, 3.0304000000200007, 5.903200000379997, 8.129400001399999, 10.96020000018, 4.7110000000399985, 1.512199999959999, 8.704599998180006, 4.1850000002000005, 5.107400000160004, 6.800000000320003, 7.106999998700002, 5.8555999985400025, 11.633400000420002, 9.610399999299997, 4.930999999879998, 3.5045999994000057, 4.777200000260002, 6.562600001860004, 8.195000000720006, 5.453799999820004, 8.445600000000002, 9.807800002259997, 6.642800001040001, 8.033799999999996, 4.722600000019997, 18.807100000140007, 6.422999998440003, 7.817800002059998, 20.189370004929987, 9.511799999980006, 8.185000001459997, 9.034200001860002, 8.955799998059994, 1.7127999996799994, 10.870200000279992, 10.028000000480004, 7.734999997479996, 2.373599999940001, 17.607200001999995, 11.56300000006, 5.95680000048, 8.0872000018, 13.03040000002, 11.018399993299996, 5.0187999990000005, 5.951999997860002, 1.9799999999199989, 4.636800000800003, 4.953800000640005, 6.474800000380004, 7.9242000017200045, 6.4092000003999985, 7.750199998640002, 7.812000000859996, 8.225199999200006, 10.49959999992, 2.5101999998400015, 5.685799998460001, 7.04813333394666, 10.49020000072001, 2.937800000039999, 7.137799998340003, 8.480399999419998, 7.0139999989, 8.58480000156, 2.2637999996399993, 8.530000001220001, 8.664199996540006, 21.855800006259994, 7.2890000019200025, 5.3127999992199975, 8.883600001779998, 9.776199997019996, 8.210400002620002, 8.936800000019995, 7.836000000040001, 2.916799999860001, 4.215199999220002, 20.189370004929987, 3.204999999040001, 9.615999999719993, 8.966360002359998, 1.5549999995200003, 3.3825999992399973, 5.33000000002, 3.02159999954, 12.158399999079995, 8.142600000120002, 1.3137999999799994, 8.766800000059998, 9.572999999539997, 4.3051999993, 6.115600000020002, 6.557800000599994, 9.30179999806, 5.237800000460005, 10.490799999459997, 1.5583999998599989, 5.3732000001200015, 8.837600002240004, 6.201999999600002, 1.4260000000199988, 7.374000001820004, 6.0377999994000024, 4.901000001299997, 7.416200000759996, 9.338399999380005, 2.7675999983999997, 8.132400000640006, 10.626400000299995]}, {\"marker\": {\"color\": \"red\", \"size\": 12}, \"mode\": \"markers\", \"name\": \"Testing Data\", \"type\": \"scatter\", \"x\": [11.52, 4.75, 10.15, 24.48000001, 0.65, 16.41, 1.659999999, 6.62, 7.700000001, 27.0, 4.319999999, 2.9099999989999996, 2.03, 7.2, 2.019999999, 3.739999998, 4.899999998999999, 5.689999998999999, 7.409999997999999, 1.69, 8.499999996, 7.990000002, 10.22, 10.72, 12.17, 7.490000004, 8.350000001, 5.179999999, 4.300000001, 2.380000001, 2.88, 9.069999999, 1.64, 3.53, 5.540000001, 7.18, 1.94, 6.1200000029999995, 21.23999999, 8.419999998, 7.060000003, 7.030000001, 5.260000001, 3.019999999, 5.469999998, 5.689999998999999, 14.89, 5.260000001, 4.25, 3.0700000010000004, 8.920000004, 3.890000001], \"y\": [7.47979999998, 6.3171999994400005, 8.488599998980002, 21.969400006159994, 1.7005999998999997, 9.79300000062, 2.3401999999200003, 5.5494000001, 5.312599999860002, 20.189370004929987, 6.454199999580001, 2.5044000003399987, 2.2683999999399993, 6.327399999359996, 1.5207999999399988, 5.493400000100003, 6.644399999820001, 5.7901999998400004, 6.272800000620001, 3.776400000620001, 10.110999998439997, 8.477999999419998, 8.021000000220004, 6.916399999960004, 9.426400000519997, 7.322399998960002, 9.941999999579998, 6.6037999996, 5.0418000001, 4.678800000080002, 9.261160002199997, 8.42260000058, 3.288200000000001, 4.796799999959998, 6.9797999998000035, 6.001000000419998, 1.8810000000200011, 5.623799999799998, 4.261799999840001, 8.36180000126, 8.305399999879999, 4.79839999984, 7.609800000519998, 4.30399999986, 4.682600000999999, 9.926999998719996, 11.02420000008, 6.504199999880001, 6.810600000080001, 4.177400000160002, 6.203800000300001, 2.8305999998400004]}, {\"marker\": {\"color\": \"black\", \"size\": 12}, \"mode\": \"lines\", \"name\": \"Linear Fit\", \"text\": \"Fit\", \"type\": \"scatter\", \"x\": [0.65, 1.1877551020408164, 1.7255102040816328, 2.263265306122449, 2.8010204081632653, 3.3387755102040817, 3.8765306122448977, 4.414285714285715, 4.952040816326531, 5.4897959183673475, 6.027551020408164, 6.56530612244898, 7.103061224489796, 7.640816326530612, 8.178571428571429, 8.716326530612246, 9.254081632653062, 9.791836734693877, 10.329591836734695, 10.86734693877551, 11.405102040816328, 11.942857142857143, 12.48061224489796, 13.018367346938776, 13.556122448979592, 14.093877551020409, 14.631632653061224, 15.169387755102042, 15.707142857142857, 16.244897959183675, 16.78265306122449, 17.320408163265306, 17.85816326530612, 18.395918367346937, 18.933673469387752, 19.47142857142857, 20.009183673469387, 20.546938775510203, 21.084693877551018, 21.622448979591837, 22.160204081632653, 22.69795918367347, 23.235714285714284, 23.7734693877551, 24.31122448979592, 24.848979591836734, 25.38673469387755, 25.924489795918365, 26.46224489795918, 27.0], \"y\": [0.65, 1.1877551020408164, 1.7255102040816328, 2.263265306122449, 2.8010204081632653, 3.3387755102040817, 3.8765306122448977, 4.414285714285715, 4.952040816326531, 5.4897959183673475, 6.027551020408164, 6.56530612244898, 7.103061224489796, 7.640816326530612, 8.178571428571429, 8.716326530612246, 9.254081632653062, 9.791836734693877, 10.329591836734695, 10.86734693877551, 11.405102040816328, 11.942857142857143, 12.48061224489796, 13.018367346938776, 13.556122448979592, 14.093877551020409, 14.631632653061224, 15.169387755102042, 15.707142857142857, 16.244897959183675, 16.78265306122449, 17.320408163265306, 17.85816326530612, 18.395918367346937, 18.933673469387752, 19.47142857142857, 20.009183673469387, 20.546938775510203, 21.084693877551018, 21.622448979591837, 22.160204081632653, 22.69795918367347, 23.235714285714284, 23.7734693877551, 24.31122448979592, 24.848979591836734, 25.38673469387755, 25.924489795918365, 26.46224489795918, 27.0]}],                        {\"font\": {\"family\": \"Times New Roman\", \"size\": 18}, \"hovermode\": \"closest\", \"showlegend\": true, \"template\": {\"data\": {\"bar\": [{\"error_x\": {\"color\": \"#2a3f5f\"}, \"error_y\": {\"color\": \"#2a3f5f\"}, \"marker\": {\"line\": {\"color\": \"#E5ECF6\", \"width\": 0.5}}, \"type\": \"bar\"}], \"barpolar\": [{\"marker\": {\"line\": {\"color\": \"#E5ECF6\", \"width\": 0.5}}, \"type\": \"barpolar\"}], \"carpet\": [{\"aaxis\": {\"endlinecolor\": \"#2a3f5f\", \"gridcolor\": \"white\", \"linecolor\": \"white\", \"minorgridcolor\": \"white\", \"startlinecolor\": \"#2a3f5f\"}, \"baxis\": {\"endlinecolor\": \"#2a3f5f\", \"gridcolor\": \"white\", \"linecolor\": \"white\", \"minorgridcolor\": \"white\", \"startlinecolor\": \"#2a3f5f\"}, \"type\": \"carpet\"}], \"choropleth\": [{\"colorbar\": {\"outlinewidth\": 0, \"ticks\": \"\"}, \"type\": \"choropleth\"}], \"contour\": [{\"colorbar\": {\"outlinewidth\": 0, \"ticks\": \"\"}, \"colorscale\": [[0.0, \"#0d0887\"], [0.1111111111111111, \"#46039f\"], [0.2222222222222222, \"#7201a8\"], [0.3333333333333333, \"#9c179e\"], [0.4444444444444444, \"#bd3786\"], [0.5555555555555556, \"#d8576b\"], [0.6666666666666666, \"#ed7953\"], [0.7777777777777778, \"#fb9f3a\"], [0.8888888888888888, \"#fdca26\"], [1.0, \"#f0f921\"]], \"type\": \"contour\"}], \"contourcarpet\": [{\"colorbar\": {\"outlinewidth\": 0, \"ticks\": \"\"}, \"type\": \"contourcarpet\"}], \"heatmap\": [{\"colorbar\": {\"outlinewidth\": 0, \"ticks\": \"\"}, \"colorscale\": [[0.0, \"#0d0887\"], [0.1111111111111111, \"#46039f\"], [0.2222222222222222, \"#7201a8\"], [0.3333333333333333, \"#9c179e\"], [0.4444444444444444, \"#bd3786\"], [0.5555555555555556, \"#d8576b\"], [0.6666666666666666, \"#ed7953\"], [0.7777777777777778, \"#fb9f3a\"], [0.8888888888888888, \"#fdca26\"], [1.0, \"#f0f921\"]], \"type\": \"heatmap\"}], \"heatmapgl\": [{\"colorbar\": {\"outlinewidth\": 0, \"ticks\": \"\"}, \"colorscale\": [[0.0, \"#0d0887\"], [0.1111111111111111, \"#46039f\"], [0.2222222222222222, \"#7201a8\"], [0.3333333333333333, \"#9c179e\"], [0.4444444444444444, \"#bd3786\"], [0.5555555555555556, \"#d8576b\"], [0.6666666666666666, \"#ed7953\"], [0.7777777777777778, \"#fb9f3a\"], [0.8888888888888888, \"#fdca26\"], [1.0, \"#f0f921\"]], \"type\": \"heatmapgl\"}], \"histogram\": [{\"marker\": {\"colorbar\": {\"outlinewidth\": 0, \"ticks\": \"\"}}, \"type\": \"histogram\"}], \"histogram2d\": [{\"colorbar\": {\"outlinewidth\": 0, \"ticks\": \"\"}, \"colorscale\": [[0.0, \"#0d0887\"], [0.1111111111111111, \"#46039f\"], [0.2222222222222222, \"#7201a8\"], [0.3333333333333333, \"#9c179e\"], [0.4444444444444444, \"#bd3786\"], [0.5555555555555556, \"#d8576b\"], [0.6666666666666666, \"#ed7953\"], [0.7777777777777778, \"#fb9f3a\"], [0.8888888888888888, \"#fdca26\"], [1.0, \"#f0f921\"]], \"type\": \"histogram2d\"}], \"histogram2dcontour\": [{\"colorbar\": {\"outlinewidth\": 0, \"ticks\": \"\"}, \"colorscale\": [[0.0, \"#0d0887\"], [0.1111111111111111, \"#46039f\"], [0.2222222222222222, \"#7201a8\"], [0.3333333333333333, \"#9c179e\"], [0.4444444444444444, \"#bd3786\"], [0.5555555555555556, \"#d8576b\"], [0.6666666666666666, \"#ed7953\"], [0.7777777777777778, \"#fb9f3a\"], [0.8888888888888888, \"#fdca26\"], [1.0, \"#f0f921\"]], \"type\": \"histogram2dcontour\"}], \"mesh3d\": [{\"colorbar\": {\"outlinewidth\": 0, \"ticks\": \"\"}, \"type\": \"mesh3d\"}], \"parcoords\": [{\"line\": {\"colorbar\": {\"outlinewidth\": 0, \"ticks\": \"\"}}, \"type\": \"parcoords\"}], \"pie\": [{\"automargin\": true, \"type\": \"pie\"}], \"scatter\": [{\"marker\": {\"colorbar\": {\"outlinewidth\": 0, \"ticks\": \"\"}}, \"type\": \"scatter\"}], \"scatter3d\": [{\"line\": {\"colorbar\": {\"outlinewidth\": 0, \"ticks\": \"\"}}, \"marker\": {\"colorbar\": {\"outlinewidth\": 0, \"ticks\": \"\"}}, \"type\": \"scatter3d\"}], \"scattercarpet\": [{\"marker\": {\"colorbar\": {\"outlinewidth\": 0, \"ticks\": \"\"}}, \"type\": \"scattercarpet\"}], \"scattergeo\": [{\"marker\": {\"colorbar\": {\"outlinewidth\": 0, \"ticks\": \"\"}}, \"type\": \"scattergeo\"}], \"scattergl\": [{\"marker\": {\"colorbar\": {\"outlinewidth\": 0, \"ticks\": \"\"}}, \"type\": \"scattergl\"}], \"scattermapbox\": [{\"marker\": {\"colorbar\": {\"outlinewidth\": 0, \"ticks\": \"\"}}, \"type\": \"scattermapbox\"}], \"scatterpolar\": [{\"marker\": {\"colorbar\": {\"outlinewidth\": 0, \"ticks\": \"\"}}, \"type\": \"scatterpolar\"}], \"scatterpolargl\": [{\"marker\": {\"colorbar\": {\"outlinewidth\": 0, \"ticks\": \"\"}}, \"type\": \"scatterpolargl\"}], \"scatterternary\": [{\"marker\": {\"colorbar\": {\"outlinewidth\": 0, \"ticks\": \"\"}}, \"type\": \"scatterternary\"}], \"surface\": [{\"colorbar\": {\"outlinewidth\": 0, \"ticks\": \"\"}, \"colorscale\": [[0.0, \"#0d0887\"], [0.1111111111111111, \"#46039f\"], [0.2222222222222222, \"#7201a8\"], [0.3333333333333333, \"#9c179e\"], [0.4444444444444444, \"#bd3786\"], [0.5555555555555556, \"#d8576b\"], [0.6666666666666666, \"#ed7953\"], [0.7777777777777778, \"#fb9f3a\"], [0.8888888888888888, \"#fdca26\"], [1.0, \"#f0f921\"]], \"type\": \"surface\"}], \"table\": [{\"cells\": {\"fill\": {\"color\": \"#EBF0F8\"}, \"line\": {\"color\": \"white\"}}, \"header\": {\"fill\": {\"color\": \"#C8D4E3\"}, \"line\": {\"color\": \"white\"}}, \"type\": \"table\"}]}, \"layout\": {\"annotationdefaults\": {\"arrowcolor\": \"#2a3f5f\", \"arrowhead\": 0, \"arrowwidth\": 1}, \"autotypenumbers\": \"strict\", \"coloraxis\": {\"colorbar\": {\"outlinewidth\": 0, \"ticks\": \"\"}}, \"colorscale\": {\"diverging\": [[0, \"#8e0152\"], [0.1, \"#c51b7d\"], [0.2, \"#de77ae\"], [0.3, \"#f1b6da\"], [0.4, \"#fde0ef\"], [0.5, \"#f7f7f7\"], [0.6, \"#e6f5d0\"], [0.7, \"#b8e186\"], [0.8, \"#7fbc41\"], [0.9, \"#4d9221\"], [1, \"#276419\"]], \"sequential\": [[0.0, \"#0d0887\"], [0.1111111111111111, \"#46039f\"], [0.2222222222222222, \"#7201a8\"], [0.3333333333333333, \"#9c179e\"], [0.4444444444444444, \"#bd3786\"], [0.5555555555555556, \"#d8576b\"], [0.6666666666666666, \"#ed7953\"], [0.7777777777777778, \"#fb9f3a\"], [0.8888888888888888, \"#fdca26\"], [1.0, \"#f0f921\"]], \"sequentialminus\": [[0.0, \"#0d0887\"], [0.1111111111111111, \"#46039f\"], [0.2222222222222222, \"#7201a8\"], [0.3333333333333333, \"#9c179e\"], [0.4444444444444444, \"#bd3786\"], [0.5555555555555556, \"#d8576b\"], [0.6666666666666666, \"#ed7953\"], [0.7777777777777778, \"#fb9f3a\"], [0.8888888888888888, \"#fdca26\"], [1.0, \"#f0f921\"]]}, \"colorway\": [\"#636efa\", \"#EF553B\", \"#00cc96\", \"#ab63fa\", \"#FFA15A\", \"#19d3f3\", \"#FF6692\", \"#B6E880\", \"#FF97FF\", \"#FECB52\"], \"font\": {\"color\": \"#2a3f5f\"}, \"geo\": {\"bgcolor\": \"white\", \"lakecolor\": \"white\", \"landcolor\": \"#E5ECF6\", \"showlakes\": true, \"showland\": true, \"subunitcolor\": \"white\"}, \"hoverlabel\": {\"align\": \"left\"}, \"hovermode\": \"closest\", \"mapbox\": {\"style\": \"light\"}, \"paper_bgcolor\": \"white\", \"plot_bgcolor\": \"#E5ECF6\", \"polar\": {\"angularaxis\": {\"gridcolor\": \"white\", \"linecolor\": \"white\", \"ticks\": \"\"}, \"bgcolor\": \"#E5ECF6\", \"radialaxis\": {\"gridcolor\": \"white\", \"linecolor\": \"white\", \"ticks\": \"\"}}, \"scene\": {\"xaxis\": {\"backgroundcolor\": \"#E5ECF6\", \"gridcolor\": \"white\", \"gridwidth\": 2, \"linecolor\": \"white\", \"showbackground\": true, \"ticks\": \"\", \"zerolinecolor\": \"white\"}, \"yaxis\": {\"backgroundcolor\": \"#E5ECF6\", \"gridcolor\": \"white\", \"gridwidth\": 2, \"linecolor\": \"white\", \"showbackground\": true, \"ticks\": \"\", \"zerolinecolor\": \"white\"}, \"zaxis\": {\"backgroundcolor\": \"#E5ECF6\", \"gridcolor\": \"white\", \"gridwidth\": 2, \"linecolor\": \"white\", \"showbackground\": true, \"ticks\": \"\", \"zerolinecolor\": \"white\"}}, \"shapedefaults\": {\"line\": {\"color\": \"#2a3f5f\"}}, \"ternary\": {\"aaxis\": {\"gridcolor\": \"white\", \"linecolor\": \"white\", \"ticks\": \"\"}, \"baxis\": {\"gridcolor\": \"white\", \"linecolor\": \"white\", \"ticks\": \"\"}, \"bgcolor\": \"#E5ECF6\", \"caxis\": {\"gridcolor\": \"white\", \"linecolor\": \"white\", \"ticks\": \"\"}}, \"title\": {\"x\": 0.05}, \"xaxis\": {\"automargin\": true, \"gridcolor\": \"white\", \"linecolor\": \"white\", \"ticks\": \"\", \"title\": {\"standoff\": 15}, \"zerolinecolor\": \"white\", \"zerolinewidth\": 2}, \"yaxis\": {\"automargin\": true, \"gridcolor\": \"white\", \"linecolor\": \"white\", \"ticks\": \"\", \"title\": {\"standoff\": 15}, \"zerolinecolor\": \"white\", \"zerolinewidth\": 2}}}, \"title\": {\"text\": \"$ \\\\text{ Bagging Regressor } $\"}, \"xaxis\": {\"gridwidth\": 2, \"title\": {\"text\": \"Measured Corr Rate (g/m2)\"}, \"zeroline\": false}, \"yaxis\": {\"gridwidth\": 2, \"title\": {\"text\": \"Predicted Corr Rate (g/m2)\"}, \"zeroline\": false}},                        {\"responsive\": true}                    ).then(function(){\n",
       "                            \n",
       "var gd = document.getElementById('ee11ea97-cb25-4787-81e3-636047684813');\n",
       "var x = new MutationObserver(function (mutations, observer) {{\n",
       "        var display = window.getComputedStyle(gd).display;\n",
       "        if (!display || display === 'none') {{\n",
       "            console.log([gd, 'removed!']);\n",
       "            Plotly.purge(gd);\n",
       "            observer.disconnect();\n",
       "        }}\n",
       "}});\n",
       "\n",
       "// Listen for the removal of the full notebook cells\n",
       "var notebookContainer = gd.closest('#notebook-container');\n",
       "if (notebookContainer) {{\n",
       "    x.observe(notebookContainer, {childList: true});\n",
       "}}\n",
       "\n",
       "// Listen for the clearing of the current output cell\n",
       "var outputEl = gd.closest('.output');\n",
       "if (outputEl) {{\n",
       "    x.observe(outputEl, {childList: true});\n",
       "}}\n",
       "\n",
       "                        })                };                });            </script>        </div>"
      ]
     },
     "metadata": {},
     "output_type": "display_data"
    }
   ],
   "source": [
    "    fit = np.linspace(min(target), max(target))\n",
    "    trace0 = go.Scatter(x=y_train, y=Train_predictions2, mode = 'markers', marker= dict(size= 12, color= 'blue'), name='Training Data')\n",
    "    trace1 = go.Scatter(x=y_test ,y=Test_predictions2, mode = 'markers', marker= dict(size= 12, color= 'red'),name='Testing Data')\n",
    "    trace2 = go.Scatter(x = fit ,y = fit, mode = 'lines', marker= dict(size= 12, color= 'black'), text = 'Fit',name='Linear Fit')\n",
    "\n",
    "    data = [trace0,trace1,trace2]\n",
    "    fig= go.Figure(data, layout=layout0)\n",
    "    resolution_value = 300\n",
    "    iplot(fig)"
   ]
  },
  {
   "cell_type": "markdown",
   "id": "interior-semiconductor",
   "metadata": {},
   "source": [
    "# Predicting Corr Rate for New Location"
   ]
  },
  {
   "cell_type": "code",
   "execution_count": 26,
   "id": "simplified-dispatch",
   "metadata": {
    "ExecuteTime": {
     "end_time": "2023-03-30T06:00:25.179627Z",
     "start_time": "2023-03-30T06:00:25.166588Z"
    }
   },
   "outputs": [],
   "source": [
    "Test_predictions2 = DT2.predict(X_test)"
   ]
  },
  {
   "cell_type": "code",
   "execution_count": 27,
   "id": "improved-faith",
   "metadata": {
    "ExecuteTime": {
     "end_time": "2023-03-30T06:00:25.193705Z",
     "start_time": "2023-03-30T06:00:25.181665Z"
    }
   },
   "outputs": [
    {
     "name": "stdout",
     "output_type": "stream",
     "text": [
      "Test based on dataset No.1\n"
     ]
    },
    {
     "data": {
      "text/html": [
       "<div>\n",
       "<style scoped>\n",
       "    .dataframe tbody tr th:only-of-type {\n",
       "        vertical-align: middle;\n",
       "    }\n",
       "\n",
       "    .dataframe tbody tr th {\n",
       "        vertical-align: top;\n",
       "    }\n",
       "\n",
       "    .dataframe thead th {\n",
       "        text-align: right;\n",
       "    }\n",
       "</style>\n",
       "<table border=\"1\" class=\"dataframe\">\n",
       "  <thead>\n",
       "    <tr style=\"text-align: right;\">\n",
       "      <th></th>\n",
       "      <th>T</th>\n",
       "      <th>RH</th>\n",
       "      <th>TOW</th>\n",
       "      <th>Prec</th>\n",
       "      <th>SO2</th>\n",
       "      <th>H+</th>\n",
       "    </tr>\n",
       "  </thead>\n",
       "  <tbody>\n",
       "    <tr>\n",
       "      <th>0</th>\n",
       "      <td>9.5</td>\n",
       "      <td>79</td>\n",
       "      <td>2830</td>\n",
       "      <td>639.3</td>\n",
       "      <td>77.5</td>\n",
       "      <td>0</td>\n",
       "    </tr>\n",
       "  </tbody>\n",
       "</table>\n",
       "</div>"
      ],
      "text/plain": [
       "     T  RH   TOW   Prec   SO2  H+\n",
       "0  9.5  79  2830  639.3  77.5   0"
      ]
     },
     "execution_count": 27,
     "metadata": {},
     "output_type": "execute_result"
    }
   ],
   "source": [
    "print('Test based on dataset No.1')\n",
    "dataset_1=pd.DataFrame({'T':[9.5], 'RH':[79],'TOW':[2830], 'Prec':[639.3], 'SO2':[77.5], 'H+':[0]})\n",
    "dataset_1"
   ]
  },
  {
   "cell_type": "code",
   "execution_count": 28,
   "id": "corrected-policy",
   "metadata": {
    "ExecuteTime": {
     "end_time": "2023-03-30T06:00:25.231961Z",
     "start_time": "2023-03-30T06:00:25.195634Z"
    }
   },
   "outputs": [
    {
     "name": "stdout",
     "output_type": "stream",
     "text": [
      "Test based on dataset No.1 CR = 14.89 g/m2\n",
      "CR with model predict dataset_1: [11.0242] g/m2\n"
     ]
    }
   ],
   "source": [
    "print('Test based on dataset No.1 CR = 14.89 g/m2')\n",
    "Test_predictions2 = DT2.predict(dataset_1)\n",
    "print('CR with model predict dataset_1:', Test_predictions2, 'g/m2')"
   ]
  },
  {
   "cell_type": "code",
   "execution_count": 29,
   "id": "dependent-monaco",
   "metadata": {
    "ExecuteTime": {
     "end_time": "2023-03-30T06:00:25.246691Z",
     "start_time": "2023-03-30T06:00:25.233875Z"
    }
   },
   "outputs": [
    {
     "name": "stdout",
     "output_type": "stream",
     "text": [
      "Test based on dataset No.30\n"
     ]
    },
    {
     "data": {
      "text/html": [
       "<div>\n",
       "<style scoped>\n",
       "    .dataframe tbody tr th:only-of-type {\n",
       "        vertical-align: middle;\n",
       "    }\n",
       "\n",
       "    .dataframe tbody tr th {\n",
       "        vertical-align: top;\n",
       "    }\n",
       "\n",
       "    .dataframe thead th {\n",
       "        text-align: right;\n",
       "    }\n",
       "</style>\n",
       "<table border=\"1\" class=\"dataframe\">\n",
       "  <thead>\n",
       "    <tr style=\"text-align: right;\">\n",
       "      <th></th>\n",
       "      <th>T</th>\n",
       "      <th>RH</th>\n",
       "      <th>TOW</th>\n",
       "      <th>Prec</th>\n",
       "      <th>SO2</th>\n",
       "      <th>H+</th>\n",
       "    </tr>\n",
       "  </thead>\n",
       "  <tbody>\n",
       "    <tr>\n",
       "      <th>0</th>\n",
       "      <td>10.7</td>\n",
       "      <td>79</td>\n",
       "      <td>4437</td>\n",
       "      <td>619.1</td>\n",
       "      <td>16.3</td>\n",
       "      <td>0.0291</td>\n",
       "    </tr>\n",
       "  </tbody>\n",
       "</table>\n",
       "</div>"
      ],
      "text/plain": [
       "      T  RH   TOW   Prec   SO2      H+\n",
       "0  10.7  79  4437  619.1  16.3  0.0291"
      ]
     },
     "execution_count": 29,
     "metadata": {},
     "output_type": "execute_result"
    }
   ],
   "source": [
    "print('Test based on dataset No.30')\n",
    "dataset_30=pd.DataFrame({'T':[10.7], 'RH':[79],'TOW':[4437], 'Prec':[619.1], 'SO2':[16.3], 'H+':[0.0291]})\n",
    "dataset_30"
   ]
  },
  {
   "cell_type": "code",
   "execution_count": 30,
   "id": "previous-norfolk",
   "metadata": {
    "ExecuteTime": {
     "end_time": "2023-03-30T06:00:25.262916Z",
     "start_time": "2023-03-30T06:00:25.248880Z"
    }
   },
   "outputs": [
    {
     "name": "stdout",
     "output_type": "stream",
     "text": [
      "Test based on dataset No.30 CR = 9.07 g/m2\n",
      "CR with model predict dataset_30: [8.4456] g/m2\n"
     ]
    }
   ],
   "source": [
    "print('Test based on dataset No.30 CR = 9.07 g/m2')\n",
    "Test_predictions2  = DT2.predict(dataset_30)\n",
    "print('CR with model predict dataset_30:', Test_predictions2 , 'g/m2')"
   ]
  },
  {
   "cell_type": "code",
   "execution_count": 31,
   "id": "stuffed-table",
   "metadata": {
    "ExecuteTime": {
     "end_time": "2023-03-30T06:00:25.276666Z",
     "start_time": "2023-03-30T06:00:25.264918Z"
    }
   },
   "outputs": [
    {
     "name": "stdout",
     "output_type": "stream",
     "text": [
      "Test based on dataset No.50\n"
     ]
    },
    {
     "data": {
      "text/html": [
       "<div>\n",
       "<style scoped>\n",
       "    .dataframe tbody tr th:only-of-type {\n",
       "        vertical-align: middle;\n",
       "    }\n",
       "\n",
       "    .dataframe tbody tr th {\n",
       "        vertical-align: top;\n",
       "    }\n",
       "\n",
       "    .dataframe thead th {\n",
       "        text-align: right;\n",
       "    }\n",
       "</style>\n",
       "<table border=\"1\" class=\"dataframe\">\n",
       "  <thead>\n",
       "    <tr style=\"text-align: right;\">\n",
       "      <th></th>\n",
       "      <th>T</th>\n",
       "      <th>RH</th>\n",
       "      <th>TOW</th>\n",
       "      <th>Prec</th>\n",
       "      <th>SO2</th>\n",
       "      <th>H+</th>\n",
       "    </tr>\n",
       "  </thead>\n",
       "  <tbody>\n",
       "    <tr>\n",
       "      <th>0</th>\n",
       "      <td>11.1</td>\n",
       "      <td>82</td>\n",
       "      <td>5142</td>\n",
       "      <td>789.9</td>\n",
       "      <td>5.8</td>\n",
       "      <td>0.0038</td>\n",
       "    </tr>\n",
       "  </tbody>\n",
       "</table>\n",
       "</div>"
      ],
      "text/plain": [
       "      T  RH   TOW   Prec  SO2      H+\n",
       "0  11.1  82  5142  789.9  5.8  0.0038"
      ]
     },
     "execution_count": 31,
     "metadata": {},
     "output_type": "execute_result"
    }
   ],
   "source": [
    "print('Test based on dataset No.50')\n",
    "dataset_50=pd.DataFrame({'T':[11.1], 'RH':[82],'TOW':[5142], 'Prec':[789.9], 'SO2':[5.8], 'H+':[0.0038]})\n",
    "dataset_50"
   ]
  },
  {
   "cell_type": "code",
   "execution_count": 32,
   "id": "monetary-worry",
   "metadata": {
    "ExecuteTime": {
     "end_time": "2023-03-30T06:00:25.303757Z",
     "start_time": "2023-03-30T06:00:25.290214Z"
    }
   },
   "outputs": [
    {
     "name": "stdout",
     "output_type": "stream",
     "text": [
      "Test based on dataset No.50 CR = 6.34 g/m2\n",
      "CR with model predict dataset_30: [7.107] g/m2\n"
     ]
    }
   ],
   "source": [
    "print('Test based on dataset No.50 CR = 6.34 g/m2')\n",
    "Test_predictions2  = DT2.predict(dataset_50)\n",
    "print('CR with model predict dataset_30:', Test_predictions2 , 'g/m2')"
   ]
  },
  {
   "cell_type": "code",
   "execution_count": 33,
   "id": "ignored-forestry",
   "metadata": {
    "ExecuteTime": {
     "end_time": "2023-03-30T06:00:25.317380Z",
     "start_time": "2023-03-30T06:00:25.306598Z"
    }
   },
   "outputs": [
    {
     "name": "stdout",
     "output_type": "stream",
     "text": [
      "Test based on dataset No.165\n"
     ]
    },
    {
     "data": {
      "text/html": [
       "<div>\n",
       "<style scoped>\n",
       "    .dataframe tbody tr th:only-of-type {\n",
       "        vertical-align: middle;\n",
       "    }\n",
       "\n",
       "    .dataframe tbody tr th {\n",
       "        vertical-align: top;\n",
       "    }\n",
       "\n",
       "    .dataframe thead th {\n",
       "        text-align: right;\n",
       "    }\n",
       "</style>\n",
       "<table border=\"1\" class=\"dataframe\">\n",
       "  <thead>\n",
       "    <tr style=\"text-align: right;\">\n",
       "      <th></th>\n",
       "      <th>T</th>\n",
       "      <th>RH</th>\n",
       "      <th>TOW</th>\n",
       "      <th>Prec</th>\n",
       "      <th>SO2</th>\n",
       "      <th>H+</th>\n",
       "    </tr>\n",
       "  </thead>\n",
       "  <tbody>\n",
       "    <tr>\n",
       "      <th>0</th>\n",
       "      <td>2.5</td>\n",
       "      <td>70</td>\n",
       "      <td>0</td>\n",
       "      <td>626</td>\n",
       "      <td>3</td>\n",
       "      <td>0</td>\n",
       "    </tr>\n",
       "  </tbody>\n",
       "</table>\n",
       "</div>"
      ],
      "text/plain": [
       "     T  RH  TOW  Prec  SO2  H+\n",
       "0  2.5  70    0   626    3   0"
      ]
     },
     "execution_count": 33,
     "metadata": {},
     "output_type": "execute_result"
    }
   ],
   "source": [
    "print('Test based on dataset No.165')\n",
    "dataset_165=pd.DataFrame({'T':[2.5], 'RH':[70],'TOW':[0], 'Prec':[626], 'SO2':[3], 'H+':[0]})\n",
    "dataset_165"
   ]
  },
  {
   "cell_type": "code",
   "execution_count": 34,
   "id": "acceptable-demographic",
   "metadata": {
    "ExecuteTime": {
     "end_time": "2023-03-30T06:00:25.333082Z",
     "start_time": "2023-03-30T06:00:25.319604Z"
    }
   },
   "outputs": [
    {
     "name": "stdout",
     "output_type": "stream",
     "text": [
      "Test based on dataset No.165 CR = 4.64 g/m2\n",
      "CR with model predict dataset_30: [4.3052] g/m2\n"
     ]
    }
   ],
   "source": [
    "print('Test based on dataset No.165 CR = 4.64 g/m2')\n",
    "Test_predictions2  = DT2.predict(dataset_165)\n",
    "print('CR with model predict dataset_30:', Test_predictions2 , 'g/m2')"
   ]
  },
  {
   "cell_type": "code",
   "execution_count": 35,
   "id": "dated-disclosure",
   "metadata": {
    "ExecuteTime": {
     "end_time": "2023-03-30T06:00:25.337151Z",
     "start_time": "2023-03-30T06:00:25.335020Z"
    }
   },
   "outputs": [],
   "source": [
    "#Table S2. New data to be used as validation\n",
    "#Location\tT(oC)\tRH(%)\tTOW(Hours/a)\tPrec(mm/a)\tSO2(µg/m3)\t[H+](mg/L)\tCR(g/m2)\n",
    "#Panama\t26\t71\t3000\t279\t21.7\t0\t7.568\n",
    "#Rio Janeiro\t21.4\t80\t4800\t1252\t43.5\t0\t10.496\n",
    "#Iguazu\t21.2\t75\t5500\t1000\t0\t0\t9.710\n",
    "#Sao Paulo\t19.6\t75\t5500\t1622\t57.8\t0\t8.639\n",
    "#Bauta\t24\t81\t5000\t1590\t18\t0\t8.711\n",
    "#Labastida\t12\t73\t5500\t550\t3.6\t0\t2.213\n",
    "#Mexico\t15.4\t64\t1000\t709\t18.9\t0\t5.855\n"
   ]
  },
  {
   "cell_type": "code",
   "execution_count": 36,
   "id": "acting-radical",
   "metadata": {
    "ExecuteTime": {
     "end_time": "2023-03-30T06:00:25.357240Z",
     "start_time": "2023-03-30T06:00:25.339164Z"
    }
   },
   "outputs": [],
   "source": [
    "Panama = pd.DataFrame({'T':[26], 'RH':[71],'TOW':[3000], 'Prec':[279], 'SO2':[21.7], 'H+':[0]})\n",
    "Rio = pd.DataFrame({'T':[21.4], 'RH':[80],'TOW':[4800], 'Prec':[1252], 'SO2':[43.5], 'H+':[0]})\n",
    "Iguazu = pd.DataFrame({'T':[21.2], 'RH':[75],'TOW':[5500], 'Prec':[1000], 'SO2':[0], 'H+':[0]})\n",
    "Saopaolo = pd.DataFrame({'T':[19.6], 'RH':[75],'TOW':[5500], 'Prec':[1622], 'SO2':[57.8], 'H+':[0]})\n",
    "Bauta = pd.DataFrame({'T':[24], 'RH':[81],'TOW':[5000], 'Prec':[1590], 'SO2':[18], 'H+':[0]})\n",
    "Labastida = pd.DataFrame({'T':[12], 'RH':[73],'TOW':[5500], 'Prec':[550], 'SO2':[3.6], 'H+':[0]})\n",
    "Mexico = pd.DataFrame({'T':[15.4], 'RH':[64],'TOW':[1000], 'Prec':[709], 'SO2':[18.9], 'H+':[0]})"
   ]
  },
  {
   "cell_type": "code",
   "execution_count": 37,
   "id": "sharing-words",
   "metadata": {
    "ExecuteTime": {
     "end_time": "2023-03-30T06:00:25.372656Z",
     "start_time": "2023-03-30T06:00:25.359154Z"
    }
   },
   "outputs": [
    {
     "name": "stdout",
     "output_type": "stream",
     "text": [
      "Test based on dataset Panama CR = 7.568 g/m2\n",
      "CR with model predict dataset_Panama: [10.1674] g/m2\n"
     ]
    }
   ],
   "source": [
    "print('Test based on dataset Panama CR = 7.568 g/m2')\n",
    "Test_predictions2  = DT2.predict(Panama)\n",
    "print('CR with model predict dataset_Panama:', Test_predictions2 , 'g/m2')"
   ]
  },
  {
   "cell_type": "code",
   "execution_count": 38,
   "id": "suspected-miniature",
   "metadata": {
    "ExecuteTime": {
     "end_time": "2023-03-30T06:00:25.388191Z",
     "start_time": "2023-03-30T06:00:25.374666Z"
    }
   },
   "outputs": [
    {
     "name": "stdout",
     "output_type": "stream",
     "text": [
      "Test based on dataset Rio CR = 10.496 g/m2\n",
      "CR with model predict dataset_Rio: [10.5208] g/m2\n"
     ]
    }
   ],
   "source": [
    "print('Test based on dataset Rio CR = 10.496 g/m2')\n",
    "Test_predictions2  = DT2.predict(Rio)\n",
    "print('CR with model predict dataset_Rio:', Test_predictions2 , 'g/m2')"
   ]
  },
  {
   "cell_type": "code",
   "execution_count": 39,
   "id": "laden-bronze",
   "metadata": {
    "ExecuteTime": {
     "end_time": "2023-03-30T06:00:25.403940Z",
     "start_time": "2023-03-30T06:00:25.390080Z"
    }
   },
   "outputs": [
    {
     "name": "stdout",
     "output_type": "stream",
     "text": [
      "Test based on dataset Iguazu CR = 9.710 g/m2\n",
      "CR with model predict dataset_Iguazo: [14.10835334] g/m2\n"
     ]
    }
   ],
   "source": [
    "print('Test based on dataset Iguazu CR = 9.710 g/m2')\n",
    "Test_predictions2  = DT2.predict(Iguazu)\n",
    "print('CR with model predict dataset_Iguazo:', Test_predictions2 , 'g/m2')"
   ]
  },
  {
   "cell_type": "code",
   "execution_count": 40,
   "id": "above-basket",
   "metadata": {
    "ExecuteTime": {
     "end_time": "2023-03-30T06:00:25.419147Z",
     "start_time": "2023-03-30T06:00:25.405960Z"
    }
   },
   "outputs": [
    {
     "name": "stdout",
     "output_type": "stream",
     "text": [
      "Test based on dataset Saopaolo CR = 8.639 g/m2\n",
      "CR with model predict dataset_Saopaolo: [9.1414] g/m2\n"
     ]
    }
   ],
   "source": [
    "print('Test based on dataset Saopaolo CR = 8.639 g/m2')\n",
    "Test_predictions2  = DT2.predict(Saopaolo)\n",
    "print('CR with model predict dataset_Saopaolo:', Test_predictions2 , 'g/m2')"
   ]
  },
  {
   "cell_type": "code",
   "execution_count": 41,
   "id": "possible-footwear",
   "metadata": {
    "ExecuteTime": {
     "end_time": "2023-03-30T06:00:25.434273Z",
     "start_time": "2023-03-30T06:00:25.421097Z"
    }
   },
   "outputs": [
    {
     "name": "stdout",
     "output_type": "stream",
     "text": [
      "Test based on dataset Bauta CR = 8.711 g/m2\n",
      "CR with model predict dataset_Bauta: [9.7318] g/m2\n"
     ]
    }
   ],
   "source": [
    "print('Test based on dataset Bauta CR = 8.711 g/m2')\n",
    "Test_predictions2  = DT2.predict(Bauta)\n",
    "print('CR with model predict dataset_Bauta:', Test_predictions2 , 'g/m2')"
   ]
  },
  {
   "cell_type": "code",
   "execution_count": 42,
   "id": "several-burner",
   "metadata": {
    "ExecuteTime": {
     "end_time": "2023-03-30T06:00:25.450045Z",
     "start_time": "2023-03-30T06:00:25.436257Z"
    }
   },
   "outputs": [
    {
     "name": "stdout",
     "output_type": "stream",
     "text": [
      "Test based on dataset Labastida CR = 2.213 g/m2\n",
      "CR with model predict dataset_Labastida: [4.4104] g/m2\n"
     ]
    }
   ],
   "source": [
    "print('Test based on dataset Labastida CR = 2.213 g/m2')\n",
    "Test_predictions2  = DT2.predict(Labastida)\n",
    "print('CR with model predict dataset_Labastida:', Test_predictions2 , 'g/m2')"
   ]
  },
  {
   "cell_type": "code",
   "execution_count": 43,
   "id": "meaningful-proposal",
   "metadata": {
    "ExecuteTime": {
     "end_time": "2023-03-30T06:00:25.466067Z",
     "start_time": "2023-03-30T06:00:25.452140Z"
    }
   },
   "outputs": [
    {
     "name": "stdout",
     "output_type": "stream",
     "text": [
      "Test based on dataset Mexico CR = 5.855 g/m2\n",
      "CR with model predict dataset_Mexico: [7.3148] g/m2\n"
     ]
    }
   ],
   "source": [
    "print('Test based on dataset Mexico CR = 5.855 g/m2')\n",
    "Test_predictions2  = DT2.predict(Mexico)\n",
    "print('CR with model predict dataset_Mexico:', Test_predictions2 , 'g/m2')"
   ]
  },
  {
   "cell_type": "markdown",
   "id": "pressing-landing",
   "metadata": {},
   "source": [
    "# PREDICTION NEW DATA"
   ]
  },
  {
   "cell_type": "code",
   "execution_count": 44,
   "id": "appointed-external",
   "metadata": {
    "ExecuteTime": {
     "end_time": "2023-03-30T06:00:25.470257Z",
     "start_time": "2023-03-30T06:00:25.468284Z"
    }
   },
   "outputs": [],
   "source": [
    "#Table S3. New data on corrosion rates at several test locations\n",
    "#Location\tT (oC)\tRH (%)\tTOW (Hours/a)\tPrec (mm/a)\tSO2 (µg/m3)\t[H+] (mg/L)\n",
    "#\t\t\t\t\t\t\n",
    "#Jakarta, Indonesia\t31\t65\t5500\t100\t71\t0\n",
    "#Bandung, Indonesia\t24\t81\t3500\t999\t17\t0\n",
    "#Valparaiso, Chile\t17\t83\t5600\t0.1\t23.6\t0\n",
    "#Barcelona, Spain\t26\t78\t500\t640\t1.5\t0\n",
    "#Tokyo, Japan\t22\t73\t29.1\t1530\t12.4\t0\n"
   ]
  },
  {
   "cell_type": "code",
   "execution_count": 45,
   "id": "liable-voice",
   "metadata": {
    "ExecuteTime": {
     "end_time": "2023-03-30T06:00:25.497981Z",
     "start_time": "2023-03-30T06:00:25.472146Z"
    }
   },
   "outputs": [],
   "source": [
    "Jakarta = pd.DataFrame({'T':[31], 'RH':[65],'TOW':[5500], 'Prec':[100], 'SO2':[71], 'H+':[0]})\n",
    "Bandung = pd.DataFrame({'T':[24], 'RH':[81],'TOW':[3500], 'Prec':[999], 'SO2':[17], 'H+':[0]})\n",
    "Valparaiso = pd.DataFrame({'T':[17], 'RH':[83],'TOW':[5600], 'Prec':[0.1], 'SO2':[23.6], 'H+':[0]})\n",
    "Barcelona = pd.DataFrame({'T':[26], 'RH':[78],'TOW':[500], 'Prec':[640], 'SO2':[1.5], 'H+':[0]})\n",
    "Tokyo = pd.DataFrame({'T':[22], 'RH':[73],'TOW':[29.1], 'Prec':[1530], 'SO2':[12.4], 'H+':[0]})"
   ]
  },
  {
   "cell_type": "code",
   "execution_count": 46,
   "id": "amino-investment",
   "metadata": {
    "ExecuteTime": {
     "end_time": "2023-03-30T06:00:25.513474Z",
     "start_time": "2023-03-30T06:00:25.499796Z"
    }
   },
   "outputs": [
    {
     "name": "stdout",
     "output_type": "stream",
     "text": [
      "Test based on data Jakarta\n",
      "CR with model predict Jakarta: [13.07783333] g/m2\n"
     ]
    }
   ],
   "source": [
    "print('Test based on data Jakarta')\n",
    "Test_predictions2  = DT2.predict(Jakarta)\n",
    "print('CR with model predict Jakarta:', Test_predictions2 , 'g/m2')"
   ]
  },
  {
   "cell_type": "code",
   "execution_count": 47,
   "id": "voluntary-avenue",
   "metadata": {
    "ExecuteTime": {
     "end_time": "2023-03-30T06:00:25.529163Z",
     "start_time": "2023-03-30T06:00:25.515472Z"
    }
   },
   "outputs": [
    {
     "name": "stdout",
     "output_type": "stream",
     "text": [
      "Test based on data Bandung\n",
      "CR with model predict Bandung: [9.4768] g/m2\n"
     ]
    }
   ],
   "source": [
    "print('Test based on data Bandung')\n",
    "Test_predictions2  = DT2.predict(Bandung)\n",
    "print('CR with model predict Bandung:', Test_predictions2 , 'g/m2')"
   ]
  },
  {
   "cell_type": "code",
   "execution_count": 48,
   "id": "accessible-tennessee",
   "metadata": {
    "ExecuteTime": {
     "end_time": "2023-03-30T06:00:25.544652Z",
     "start_time": "2023-03-30T06:00:25.531188Z"
    }
   },
   "outputs": [
    {
     "name": "stdout",
     "output_type": "stream",
     "text": [
      "Test based on data Valparaiso\n",
      "CR with model predict Valparaiso: [9.4334] g/m2\n"
     ]
    }
   ],
   "source": [
    "print('Test based on data Valparaiso')\n",
    "Test_predictions2  = DT2.predict(Valparaiso)\n",
    "print('CR with model predict Valparaiso:', Test_predictions2 , 'g/m2')"
   ]
  },
  {
   "cell_type": "code",
   "execution_count": 49,
   "id": "spare-jungle",
   "metadata": {
    "ExecuteTime": {
     "end_time": "2023-03-30T06:00:25.559942Z",
     "start_time": "2023-03-30T06:00:25.546629Z"
    }
   },
   "outputs": [
    {
     "name": "stdout",
     "output_type": "stream",
     "text": [
      "Test based on data Barcelona\n",
      "CR with model predict Barcelona: [4.3288] g/m2\n"
     ]
    }
   ],
   "source": [
    "print('Test based on data Barcelona')\n",
    "Test_predictions2  = DT2.predict(Barcelona)\n",
    "print('CR with model predict Barcelona:', Test_predictions2 , 'g/m2')"
   ]
  },
  {
   "cell_type": "code",
   "execution_count": 50,
   "id": "received-lebanon",
   "metadata": {
    "ExecuteTime": {
     "end_time": "2023-03-30T06:00:25.575301Z",
     "start_time": "2023-03-30T06:00:25.561972Z"
    }
   },
   "outputs": [
    {
     "name": "stdout",
     "output_type": "stream",
     "text": [
      "Test based on data Tokyo\n",
      "CR with model predict Tokyo: [7.033] g/m2\n"
     ]
    }
   ],
   "source": [
    "print('Test based on data Tokyo')\n",
    "Test_predictions2  = DT2.predict(Tokyo)\n",
    "print('CR with model predict Tokyo:', Test_predictions2 , 'g/m2')"
   ]
  },
  {
   "cell_type": "code",
   "execution_count": null,
   "id": "romantic-entry",
   "metadata": {},
   "outputs": [],
   "source": []
  }
 ],
 "metadata": {
  "kernelspec": {
   "display_name": "Python 3",
   "language": "python",
   "name": "python3"
  },
  "language_info": {
   "codemirror_mode": {
    "name": "ipython",
    "version": 3
   },
   "file_extension": ".py",
   "mimetype": "text/x-python",
   "name": "python",
   "nbconvert_exporter": "python",
   "pygments_lexer": "ipython3",
   "version": "3.7.7"
  },
  "toc": {
   "base_numbering": 1,
   "nav_menu": {},
   "number_sections": true,
   "sideBar": true,
   "skip_h1_title": false,
   "title_cell": "Table of Contents",
   "title_sidebar": "Contents",
   "toc_cell": false,
   "toc_position": {},
   "toc_section_display": true,
   "toc_window_display": false
  },
  "varInspector": {
   "cols": {
    "lenName": 16,
    "lenType": 16,
    "lenVar": 40
   },
   "kernels_config": {
    "python": {
     "delete_cmd_postfix": "",
     "delete_cmd_prefix": "del ",
     "library": "var_list.py",
     "varRefreshCmd": "print(var_dic_list())"
    },
    "r": {
     "delete_cmd_postfix": ") ",
     "delete_cmd_prefix": "rm(",
     "library": "var_list.r",
     "varRefreshCmd": "cat(var_dic_list()) "
    }
   },
   "types_to_exclude": [
    "module",
    "function",
    "builtin_function_or_method",
    "instance",
    "_Feature"
   ],
   "window_display": false
  }
 },
 "nbformat": 4,
 "nbformat_minor": 5
}

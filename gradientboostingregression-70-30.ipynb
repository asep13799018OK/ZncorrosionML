{
 "cells": [
  {
   "cell_type": "code",
   "execution_count": 1,
   "id": "dried-engine",
   "metadata": {
    "ExecuteTime": {
     "end_time": "2023-03-30T06:03:21.821216Z",
     "start_time": "2023-03-30T06:03:20.377264Z"
    }
   },
   "outputs": [],
   "source": [
    "# Import Library\n",
    "import time # for timer\n",
    "import numpy as np\n",
    "import matplotlib.pyplot as plt\n",
    "import pandas as pd\n",
    "import math\n",
    "import pydot\n",
    "import time\n",
    "from sklearn import metrics\n",
    "from sklearn.ensemble import GradientBoostingRegressor\n",
    "from sklearn.model_selection import GridSearchCV\n",
    "from sklearn.model_selection import KFold\n",
    "from sklearn.model_selection import cross_val_predict\n",
    "from sklearn.tree import export_graphviz\n",
    "from yellowbrick.regressor import ResidualsPlot"
   ]
  },
  {
   "cell_type": "code",
   "execution_count": 2,
   "id": "welcome-prior",
   "metadata": {
    "ExecuteTime": {
     "end_time": "2023-03-30T06:03:21.828207Z",
     "start_time": "2023-03-30T06:03:21.824400Z"
    }
   },
   "outputs": [],
   "source": [
    "from helper_functions import *"
   ]
  },
  {
   "cell_type": "code",
   "execution_count": 3,
   "id": "spectacular-belfast",
   "metadata": {
    "ExecuteTime": {
     "end_time": "2023-03-30T06:03:21.909340Z",
     "start_time": "2023-03-30T06:03:21.830247Z"
    }
   },
   "outputs": [
    {
     "data": {
      "text/html": [
       "<div>\n",
       "<style scoped>\n",
       "    .dataframe tbody tr th:only-of-type {\n",
       "        vertical-align: middle;\n",
       "    }\n",
       "\n",
       "    .dataframe tbody tr th {\n",
       "        vertical-align: top;\n",
       "    }\n",
       "\n",
       "    .dataframe thead th {\n",
       "        text-align: right;\n",
       "    }\n",
       "</style>\n",
       "<table border=\"1\" class=\"dataframe\">\n",
       "  <thead>\n",
       "    <tr style=\"text-align: right;\">\n",
       "      <th></th>\n",
       "      <th>T</th>\n",
       "      <th>RH</th>\n",
       "      <th>TOW</th>\n",
       "      <th>Prec</th>\n",
       "      <th>SO2</th>\n",
       "      <th>H+</th>\n",
       "      <th>CR</th>\n",
       "    </tr>\n",
       "  </thead>\n",
       "  <tbody>\n",
       "    <tr>\n",
       "      <th>0</th>\n",
       "      <td>9.5</td>\n",
       "      <td>79</td>\n",
       "      <td>2830</td>\n",
       "      <td>639.3</td>\n",
       "      <td>77.5</td>\n",
       "      <td>0.0000</td>\n",
       "      <td>14.89</td>\n",
       "    </tr>\n",
       "    <tr>\n",
       "      <th>1</th>\n",
       "      <td>10.3</td>\n",
       "      <td>74</td>\n",
       "      <td>2555</td>\n",
       "      <td>380.8</td>\n",
       "      <td>58.1</td>\n",
       "      <td>0.0221</td>\n",
       "      <td>6.98</td>\n",
       "    </tr>\n",
       "    <tr>\n",
       "      <th>2</th>\n",
       "      <td>9.1</td>\n",
       "      <td>73</td>\n",
       "      <td>2627</td>\n",
       "      <td>684.3</td>\n",
       "      <td>41.2</td>\n",
       "      <td>0.0714</td>\n",
       "      <td>7.78</td>\n",
       "    </tr>\n",
       "    <tr>\n",
       "      <th>3</th>\n",
       "      <td>9.8</td>\n",
       "      <td>77</td>\n",
       "      <td>3529</td>\n",
       "      <td>581.1</td>\n",
       "      <td>32.1</td>\n",
       "      <td>0.0342</td>\n",
       "      <td>5.69</td>\n",
       "    </tr>\n",
       "    <tr>\n",
       "      <th>4</th>\n",
       "      <td>7.0</td>\n",
       "      <td>77</td>\n",
       "      <td>3011</td>\n",
       "      <td>850.2</td>\n",
       "      <td>19.7</td>\n",
       "      <td>0.0000</td>\n",
       "      <td>8.95</td>\n",
       "    </tr>\n",
       "  </tbody>\n",
       "</table>\n",
       "</div>"
      ],
      "text/plain": [
       "      T  RH   TOW   Prec   SO2      H+     CR\n",
       "0   9.5  79  2830  639.3  77.5  0.0000  14.89\n",
       "1  10.3  74  2555  380.8  58.1  0.0221   6.98\n",
       "2   9.1  73  2627  684.3  41.2  0.0714   7.78\n",
       "3   9.8  77  3529  581.1  32.1  0.0342   5.69\n",
       "4   7.0  77  3011  850.2  19.7  0.0000   8.95"
      ]
     },
     "execution_count": 3,
     "metadata": {},
     "output_type": "execute_result"
    }
   ],
   "source": [
    "# Import Dataset\n",
    "df = pd.read_csv(\"datamita.csv\")\n",
    "df.head()"
   ]
  },
  {
   "cell_type": "code",
   "execution_count": 4,
   "id": "union-chance",
   "metadata": {
    "ExecuteTime": {
     "end_time": "2023-03-30T06:03:21.929288Z",
     "start_time": "2023-03-30T06:03:21.911316Z"
    }
   },
   "outputs": [],
   "source": [
    "# Define Features and Target\n",
    "feature= df.drop('CR', axis=1)\n",
    "target= df['CR']"
   ]
  },
  {
   "cell_type": "code",
   "execution_count": 5,
   "id": "atlantic-chuck",
   "metadata": {
    "ExecuteTime": {
     "end_time": "2023-03-30T06:03:21.949264Z",
     "start_time": "2023-03-30T06:03:21.933623Z"
    }
   },
   "outputs": [
    {
     "data": {
      "text/html": [
       "<div>\n",
       "<style scoped>\n",
       "    .dataframe tbody tr th:only-of-type {\n",
       "        vertical-align: middle;\n",
       "    }\n",
       "\n",
       "    .dataframe tbody tr th {\n",
       "        vertical-align: top;\n",
       "    }\n",
       "\n",
       "    .dataframe thead th {\n",
       "        text-align: right;\n",
       "    }\n",
       "</style>\n",
       "<table border=\"1\" class=\"dataframe\">\n",
       "  <thead>\n",
       "    <tr style=\"text-align: right;\">\n",
       "      <th></th>\n",
       "      <th>T</th>\n",
       "      <th>RH</th>\n",
       "      <th>TOW</th>\n",
       "      <th>Prec</th>\n",
       "      <th>SO2</th>\n",
       "      <th>H+</th>\n",
       "    </tr>\n",
       "  </thead>\n",
       "  <tbody>\n",
       "    <tr>\n",
       "      <th>0</th>\n",
       "      <td>9.5</td>\n",
       "      <td>79</td>\n",
       "      <td>2830</td>\n",
       "      <td>639.3</td>\n",
       "      <td>77.5</td>\n",
       "      <td>0.0000</td>\n",
       "    </tr>\n",
       "    <tr>\n",
       "      <th>1</th>\n",
       "      <td>10.3</td>\n",
       "      <td>74</td>\n",
       "      <td>2555</td>\n",
       "      <td>380.8</td>\n",
       "      <td>58.1</td>\n",
       "      <td>0.0221</td>\n",
       "    </tr>\n",
       "    <tr>\n",
       "      <th>2</th>\n",
       "      <td>9.1</td>\n",
       "      <td>73</td>\n",
       "      <td>2627</td>\n",
       "      <td>684.3</td>\n",
       "      <td>41.2</td>\n",
       "      <td>0.0714</td>\n",
       "    </tr>\n",
       "    <tr>\n",
       "      <th>3</th>\n",
       "      <td>9.8</td>\n",
       "      <td>77</td>\n",
       "      <td>3529</td>\n",
       "      <td>581.1</td>\n",
       "      <td>32.1</td>\n",
       "      <td>0.0342</td>\n",
       "    </tr>\n",
       "    <tr>\n",
       "      <th>4</th>\n",
       "      <td>7.0</td>\n",
       "      <td>77</td>\n",
       "      <td>3011</td>\n",
       "      <td>850.2</td>\n",
       "      <td>19.7</td>\n",
       "      <td>0.0000</td>\n",
       "    </tr>\n",
       "    <tr>\n",
       "      <th>...</th>\n",
       "      <td>...</td>\n",
       "      <td>...</td>\n",
       "      <td>...</td>\n",
       "      <td>...</td>\n",
       "      <td>...</td>\n",
       "      <td>...</td>\n",
       "    </tr>\n",
       "    <tr>\n",
       "      <th>166</th>\n",
       "      <td>-0.7</td>\n",
       "      <td>76</td>\n",
       "      <td>0</td>\n",
       "      <td>558.0</td>\n",
       "      <td>10.0</td>\n",
       "      <td>0.0000</td>\n",
       "    </tr>\n",
       "    <tr>\n",
       "      <th>167</th>\n",
       "      <td>-15.5</td>\n",
       "      <td>68</td>\n",
       "      <td>0</td>\n",
       "      <td>306.0</td>\n",
       "      <td>3.0</td>\n",
       "      <td>0.0000</td>\n",
       "    </tr>\n",
       "    <tr>\n",
       "      <th>168</th>\n",
       "      <td>-0.4</td>\n",
       "      <td>71</td>\n",
       "      <td>0</td>\n",
       "      <td>403.0</td>\n",
       "      <td>4.0</td>\n",
       "      <td>0.0000</td>\n",
       "    </tr>\n",
       "    <tr>\n",
       "      <th>169</th>\n",
       "      <td>5.0</td>\n",
       "      <td>79</td>\n",
       "      <td>0</td>\n",
       "      <td>570.0</td>\n",
       "      <td>14.0</td>\n",
       "      <td>0.0000</td>\n",
       "    </tr>\n",
       "    <tr>\n",
       "      <th>170</th>\n",
       "      <td>9.0</td>\n",
       "      <td>81</td>\n",
       "      <td>0</td>\n",
       "      <td>700.0</td>\n",
       "      <td>3.0</td>\n",
       "      <td>0.0000</td>\n",
       "    </tr>\n",
       "  </tbody>\n",
       "</table>\n",
       "<p>171 rows × 6 columns</p>\n",
       "</div>"
      ],
      "text/plain": [
       "        T  RH   TOW   Prec   SO2      H+\n",
       "0     9.5  79  2830  639.3  77.5  0.0000\n",
       "1    10.3  74  2555  380.8  58.1  0.0221\n",
       "2     9.1  73  2627  684.3  41.2  0.0714\n",
       "3     9.8  77  3529  581.1  32.1  0.0342\n",
       "4     7.0  77  3011  850.2  19.7  0.0000\n",
       "..    ...  ..   ...    ...   ...     ...\n",
       "166  -0.7  76     0  558.0  10.0  0.0000\n",
       "167 -15.5  68     0  306.0   3.0  0.0000\n",
       "168  -0.4  71     0  403.0   4.0  0.0000\n",
       "169   5.0  79     0  570.0  14.0  0.0000\n",
       "170   9.0  81     0  700.0   3.0  0.0000\n",
       "\n",
       "[171 rows x 6 columns]"
      ]
     },
     "execution_count": 5,
     "metadata": {},
     "output_type": "execute_result"
    }
   ],
   "source": [
    "feature"
   ]
  },
  {
   "cell_type": "code",
   "execution_count": 6,
   "id": "recent-magic",
   "metadata": {
    "ExecuteTime": {
     "end_time": "2023-03-30T06:03:21.964192Z",
     "start_time": "2023-03-30T06:03:21.953077Z"
    }
   },
   "outputs": [
    {
     "data": {
      "text/plain": [
       "0      14.89\n",
       "1       6.98\n",
       "2       7.78\n",
       "3       5.69\n",
       "4       8.95\n",
       "       ...  \n",
       "166     6.35\n",
       "167     1.24\n",
       "168     3.84\n",
       "169     7.41\n",
       "170     7.03\n",
       "Name: CR, Length: 171, dtype: float64"
      ]
     },
     "execution_count": 6,
     "metadata": {},
     "output_type": "execute_result"
    }
   ],
   "source": [
    "target"
   ]
  },
  {
   "cell_type": "code",
   "execution_count": 7,
   "id": "distant-irrigation",
   "metadata": {
    "ExecuteTime": {
     "end_time": "2023-03-30T06:03:21.969135Z",
     "start_time": "2023-03-30T06:03:21.966363Z"
    }
   },
   "outputs": [],
   "source": [
    "X = feature                         # inputs/features \n",
    "y = target # outputs/targets"
   ]
  },
  {
   "cell_type": "code",
   "execution_count": 8,
   "id": "tropical-polyester",
   "metadata": {
    "ExecuteTime": {
     "end_time": "2023-03-30T06:03:22.163216Z",
     "start_time": "2023-03-30T06:03:21.971145Z"
    }
   },
   "outputs": [],
   "source": [
    "seed = 726"
   ]
  },
  {
   "cell_type": "code",
   "execution_count": 9,
   "id": "editorial-antique",
   "metadata": {
    "ExecuteTime": {
     "end_time": "2023-03-30T06:03:22.192471Z",
     "start_time": "2023-03-30T06:03:22.165590Z"
    }
   },
   "outputs": [],
   "source": [
    "# Generate train/test split by reserving 30% of data as test set\n",
    "from sklearn.model_selection import train_test_split\n",
    "\n",
    "test_fraction = 0.3\n",
    "X_train, X_test, y_train, y_test = train_test_split(X, y, test_size=test_fraction, shuffle=True,random_state=seed)"
   ]
  },
  {
   "cell_type": "code",
   "execution_count": 10,
   "id": "spiritual-prison",
   "metadata": {
    "ExecuteTime": {
     "end_time": "2023-03-30T06:03:22.211017Z",
     "start_time": "2023-03-30T06:03:22.194462Z"
    }
   },
   "outputs": [
    {
     "name": "stdout",
     "output_type": "stream",
     "text": [
      "Model training complete.\n"
     ]
    }
   ],
   "source": [
    "Default_model = GradientBoostingRegressor(random_state=seed,n_estimators=1, learning_rate=0.05).fit(X_train,y_train) # fit the GBoost regressor model\n",
    "print('Model training complete.')\n",
    "# print('Tree depth:', [estimator.tree_.max_depth for estimator in Default_model.estimators_])\n",
    "# for importance in zip (estimator.feature_importances_ for estimator in Default_model.estimators_):\n",
    "#     print (importance)\n",
    "#print('Leaf nodes:',[estimator.tree_.n_leaves for estimator in Default_model.estimators_])"
   ]
  },
  {
   "cell_type": "code",
   "execution_count": 11,
   "id": "automated-allen",
   "metadata": {
    "ExecuteTime": {
     "end_time": "2023-03-30T06:03:23.470134Z",
     "start_time": "2023-03-30T06:03:22.213079Z"
    }
   },
   "outputs": [
    {
     "data": {
      "image/png": "[encoded data removed]",
      "text/plain": [
       "<Figure size 1080x360 with 2 Axes>"
      ]
     },
     "metadata": {
      "needs_background": "light"
     },
     "output_type": "display_data"
    },
    {
     "data": {
      "text/html": [
       "<div>\n",
       "<style scoped>\n",
       "    .dataframe tbody tr th:only-of-type {\n",
       "        vertical-align: middle;\n",
       "    }\n",
       "\n",
       "    .dataframe tbody tr th {\n",
       "        vertical-align: top;\n",
       "    }\n",
       "\n",
       "    .dataframe thead th {\n",
       "        text-align: right;\n",
       "    }\n",
       "</style>\n",
       "<table border=\"1\" class=\"dataframe\">\n",
       "  <thead>\n",
       "    <tr style=\"text-align: right;\">\n",
       "      <th></th>\n",
       "      <th>Error Metric</th>\n",
       "      <th>Training Data</th>\n",
       "      <th>Test Data</th>\n",
       "      <th>Note</th>\n",
       "    </tr>\n",
       "  </thead>\n",
       "  <tbody>\n",
       "    <tr>\n",
       "      <th>0</th>\n",
       "      <td>RMSE</td>\n",
       "      <td>4.565 (g/m2)</td>\n",
       "      <td>5.2784 (g/m2)</td>\n",
       "      <td>(0.0 for perfect prediction)</td>\n",
       "    </tr>\n",
       "    <tr>\n",
       "      <th>1</th>\n",
       "      <td>RMSE/std</td>\n",
       "      <td>0.9701</td>\n",
       "      <td>0.9748</td>\n",
       "      <td>(0.0 for perfect prediction)</td>\n",
       "    </tr>\n",
       "    <tr>\n",
       "      <th>2</th>\n",
       "      <td>MAE</td>\n",
       "      <td>3.314 (g/m2)</td>\n",
       "      <td>3.6953 (g/m2)</td>\n",
       "      <td>(0.0 for perfect prediction)</td>\n",
       "    </tr>\n",
       "    <tr>\n",
       "      <th>3</th>\n",
       "      <td>R2</td>\n",
       "      <td>0.0589</td>\n",
       "      <td>0.0497</td>\n",
       "      <td>(1.0 for perfect prediction)</td>\n",
       "    </tr>\n",
       "  </tbody>\n",
       "</table>\n",
       "</div>"
      ],
      "text/plain": [
       "  Error Metric Training Data      Test Data                          Note\n",
       "0         RMSE  4.565 (g/m2)  5.2784 (g/m2)  (0.0 for perfect prediction)\n",
       "1     RMSE/std        0.9701         0.9748  (0.0 for perfect prediction)\n",
       "2          MAE  3.314 (g/m2)  3.6953 (g/m2)  (0.0 for perfect prediction)\n",
       "3           R2        0.0589         0.0497  (1.0 for perfect prediction)"
      ]
     },
     "execution_count": 11,
     "metadata": {},
     "output_type": "execute_result"
    }
   ],
   "source": [
    "Train_predictions = Default_model.predict(X_train)    # Make predictions on training data\n",
    "Test_predictions = Default_model.predict(X_test)      # Make predictions on testing data\n",
    "\n",
    "parity_plots_side_by_side(y_train,Train_predictions,y_test,Test_predictions,title_left=\"Training Data Parity Plot\",title_right=\"Test Data Parity Plot\") # build both plots\n",
    "parity_stats_side_by_side(y_train,Train_predictions,y_test,Test_predictions,\"Training Data\",\"Test Data\")  # print error metrics for training data"
   ]
  },
  {
   "cell_type": "markdown",
   "id": "aging-clear",
   "metadata": {},
   "source": [
    "# IMPROVING THE MODEL BY OPTIMIZING HYPERPARAMETERS"
   ]
  },
  {
   "cell_type": "code",
   "execution_count": 12,
   "id": "ignored-collins",
   "metadata": {
    "ExecuteTime": {
     "end_time": "2023-03-30T06:03:23.475336Z",
     "start_time": "2023-03-30T06:03:23.472185Z"
    }
   },
   "outputs": [
    {
     "name": "stdout",
     "output_type": "stream",
     "text": [
      "Default model uses the following hyperparameters:\n",
      "\n",
      "{'alpha': 0.9, 'ccp_alpha': 0.0, 'criterion': 'friedman_mse', 'init': None, 'learning_rate': 0.05, 'loss': 'squared_error', 'max_depth': 3, 'max_features': None, 'max_leaf_nodes': None, 'min_impurity_decrease': 0.0, 'min_samples_leaf': 1, 'min_samples_split': 2, 'min_weight_fraction_leaf': 0.0, 'n_estimators': 1, 'n_iter_no_change': None, 'random_state': 726, 'subsample': 1.0, 'tol': 0.0001, 'validation_fraction': 0.1, 'verbose': 0, 'warm_start': False}\n"
     ]
    }
   ],
   "source": [
    "print('Default model uses the following hyperparameters:\\n') # print default hyperparameters used\n",
    "print(Default_model.get_params())"
   ]
  },
  {
   "cell_type": "code",
   "execution_count": 13,
   "id": "pediatric-origin",
   "metadata": {
    "ExecuteTime": {
     "end_time": "2023-03-30T06:03:23.494418Z",
     "start_time": "2023-03-30T06:03:23.477518Z"
    }
   },
   "outputs": [],
   "source": [
    "# set up hyperparameter grid (a dictionary of hyperparameter candidates that we want the optimization strategy to consider)\n",
    "\n",
    "# EDIT LIST TO TRY DIFFERENT VALUES!\n",
    "### MAKE EDITS BELOW HERE ###\n",
    "\n",
    "number_of_trees = [1,10,25,50,100,200]\n",
    "#learn_rates = [0.05, 0.01, 0.02]\n",
    "\n",
    "### MAKE EDITS ABOVE HERE ###\n",
    "\n",
    "opt_dict = {'n_estimators':number_of_trees}"
   ]
  },
  {
   "cell_type": "code",
   "execution_count": 14,
   "id": "handed-accordance",
   "metadata": {
    "ExecuteTime": {
     "end_time": "2023-03-30T06:03:23.518642Z",
     "start_time": "2023-03-30T06:03:23.496461Z"
    }
   },
   "outputs": [],
   "source": [
    "# kfold = KFold(n_splits=5,random_state=seed,shuffle=True)\n",
    "kfold = KFold(n_splits=10,\n",
    "                      random_state=seed,\n",
    "                      shuffle=True)"
   ]
  },
  {
   "cell_type": "code",
   "execution_count": 15,
   "id": "appreciated-wiring",
   "metadata": {
    "ExecuteTime": {
     "end_time": "2023-03-30T06:03:25.945533Z",
     "start_time": "2023-03-30T06:03:23.520749Z"
    }
   },
   "outputs": [
    {
     "name": "stdout",
     "output_type": "stream",
     "text": [
      "Grid search completed in 2.389 seconds.\n",
      "{'n_estimators': 50}\n"
     ]
    }
   ],
   "source": [
    "# define a grid search strategy\n",
    "\n",
    "import time\n",
    "\n",
    "CV = GridSearchCV(Default_model, # 1. the model whose hyperparamter is being optimized right now\n",
    "                  opt_dict,   # 2. a dictionary of values that we want the grid search to use\n",
    "                  cv=kfold,   # 4. k-fold cross-validation strategy is used to define training and validation splits (note this is separate from test splits) to be used for each grid point\n",
    "                  return_train_score=True,\n",
    "                  scoring=['neg_mean_squared_error','r2','neg_mean_absolute_error'], # 5. the performance metrics to be reported at each grid point specified in opt_dict\n",
    "                  refit='neg_mean_squared_error')\n",
    "\n",
    "# perform grid search\n",
    "tic = time.perf_counter() # start timer\n",
    "\n",
    "CV = CV.fit(X_train,y_train)\n",
    "\n",
    "toc = time.perf_counter() # stop timer\n",
    "\n",
    "# print results\n",
    "print(f\"Grid search completed in {toc - tic:0.3f} seconds.\")\n",
    "print(CV.best_params_)"
   ]
  },
  {
   "cell_type": "markdown",
   "id": "institutional-balance",
   "metadata": {},
   "source": [
    "# VISUALIZING THE LEARNING CURVE"
   ]
  },
  {
   "cell_type": "code",
   "execution_count": 16,
   "id": "thirty-reflection",
   "metadata": {
    "ExecuteTime": {
     "end_time": "2023-03-30T06:03:26.187388Z",
     "start_time": "2023-03-30T06:03:25.947637Z"
    }
   },
   "outputs": [
    {
     "data": {
      "image/png": "[encoded data removed]",
      "text/plain": [
       "<Figure size 576x288 with 1 Axes>"
      ]
     },
     "metadata": {
      "needs_background": "light"
     },
     "output_type": "display_data"
    },
    {
     "name": "stdout",
     "output_type": "stream",
     "text": [
      "Minimum Mean Squared Error:  15.3386\n",
      "Number of Trees at minimum:  50\n"
     ]
    }
   ],
   "source": [
    "# plot number of trees vs train and test MSE\n",
    "\n",
    "opt_dict_array = opt_dict[\"n_estimators\"]                     # array of grid points (x-axis)\n",
    "train_mse = CV.cv_results_[\"mean_train_neg_mean_squared_error\"] # MSE of training set at each grid point (y-axis)\n",
    "test_mse = CV.cv_results_[\"mean_test_neg_mean_squared_error\"]   # MSE of test set at each grid point (y-axis)\n",
    "\n",
    "fig1,ax1 = plt.subplots(figsize=(8,4))\n",
    "ax1.scatter(opt_dict_array, -train_mse)\n",
    "ax1.scatter(opt_dict_array, -test_mse)\n",
    "# ax1.fill_between(opt_dict_array, -train_mse, -test_mse, alpha=0.1)\n",
    "ax1.set_xlabel('Number of Trees')\n",
    "ax1.set_ylabel('Mean Squared Error')\n",
    "ax1.set_title('Compare training and validation MSE vs hyperparameter')\n",
    "plt.legend([\"Training\",\"Validation\",\"difference\"])\n",
    "plt.show()\n",
    "print(\"Minimum Mean Squared Error: \", round(min(-test_mse),4))\n",
    "print(\"Number of Trees at minimum: \", opt_dict_array[np.argmin(-test_mse)])"
   ]
  },
  {
   "cell_type": "code",
   "execution_count": 17,
   "id": "legendary-origin",
   "metadata": {
    "ExecuteTime": {
     "end_time": "2023-03-30T06:03:26.192945Z",
     "start_time": "2023-03-30T06:03:26.189626Z"
    }
   },
   "outputs": [
    {
     "data": {
      "text/plain": [
       "{'n_estimators': 50}"
      ]
     },
     "execution_count": 17,
     "metadata": {},
     "output_type": "execute_result"
    }
   ],
   "source": [
    "# check what the best parameters identified in the grid search were\n",
    "CV.best_params_"
   ]
  },
  {
   "cell_type": "code",
   "execution_count": 18,
   "id": "pediatric-creativity",
   "metadata": {
    "ExecuteTime": {
     "end_time": "2023-03-30T06:03:26.239204Z",
     "start_time": "2023-03-30T06:03:26.195079Z"
    }
   },
   "outputs": [
    {
     "name": "stdout",
     "output_type": "stream",
     "text": [
      "Average test RMSE:  3.9164 (0.0 for perfect prediction)\n",
      "Average test RMSE/std:  0.8323 (0.0 for perfect prediction)\n",
      "Average test MAE:  2.5681 (0.0 for perfect prediction)\n",
      "Average test R2:  -0.295 (1.0 for perfect prediction)\n"
     ]
    }
   ],
   "source": [
    "# Extract cross validation performance metrics for the optimized model\n",
    "opt_CV_stats = CV_best_stats(CV,y_train)"
   ]
  },
  {
   "cell_type": "code",
   "execution_count": 19,
   "id": "controlling-perspective",
   "metadata": {
    "ExecuteTime": {
     "end_time": "2023-03-30T06:03:26.396026Z",
     "start_time": "2023-03-30T06:03:26.241284Z"
    }
   },
   "outputs": [
    {
     "name": "stdout",
     "output_type": "stream",
     "text": [
      "Average test RMSE:  4.7478 (0.0 for perfect prediction)\n",
      "Average test RMSE/std:  1.009 (0.0 for perfect prediction)\n",
      "Average test MAE:  3.4135 (0.0 for perfect prediction)\n",
      "Average test R2:  -0.2988 (1.0 for perfect prediction)\n"
     ]
    }
   ],
   "source": [
    "default_opt_dict = {'n_estimators':[1]}\n",
    "\n",
    "default_CV = GridSearchCV(Default_model,\n",
    "                          default_opt_dict,\n",
    "                          cv=kfold,\n",
    "                          return_train_score=True,\n",
    "                          scoring=['neg_mean_squared_error','r2','neg_mean_absolute_error'],\n",
    "                          refit='neg_mean_squared_error')\n",
    "default_CV = default_CV.fit(X_train,y_train)\n",
    "\n",
    "default_CV_stats = CV_best_stats(default_CV,y_train)"
   ]
  },
  {
   "cell_type": "markdown",
   "id": "speaking-tanzania",
   "metadata": {},
   "source": [
    "# DEFAULT VS. OPTIMIZED MODEL: TRAINING AND TEST DATA PERFORMANCE"
   ]
  },
  {
   "cell_type": "code",
   "execution_count": 20,
   "id": "excellent-prison",
   "metadata": {
    "ExecuteTime": {
     "end_time": "2023-03-30T06:03:26.430692Z",
     "start_time": "2023-03-30T06:03:26.397985Z"
    }
   },
   "outputs": [],
   "source": [
    "# Refit the model using the best hyperparameters\n",
    "DT2 = CV.best_estimator_.fit(X_train,y_train)\n",
    "\n",
    "# predict both the train and test data\n",
    "Train_predictions2 = DT2.predict(X_train)\n",
    "Test_predictions2 = DT2.predict(X_test)"
   ]
  },
  {
   "cell_type": "code",
   "execution_count": 21,
   "id": "phantom-anime",
   "metadata": {
    "ExecuteTime": {
     "end_time": "2023-03-30T06:03:27.611858Z",
     "start_time": "2023-03-30T06:03:26.432655Z"
    }
   },
   "outputs": [
    {
     "data": {
      "image/png": "[encoded data removed]",
      "text/plain": [
       "<Figure size 1080x360 with 2 Axes>"
      ]
     },
     "metadata": {
      "needs_background": "light"
     },
     "output_type": "display_data"
    },
    {
     "data": {
      "text/html": [
       "<div>\n",
       "<style scoped>\n",
       "    .dataframe tbody tr th:only-of-type {\n",
       "        vertical-align: middle;\n",
       "    }\n",
       "\n",
       "    .dataframe tbody tr th {\n",
       "        vertical-align: top;\n",
       "    }\n",
       "\n",
       "    .dataframe thead th {\n",
       "        text-align: right;\n",
       "    }\n",
       "</style>\n",
       "<table border=\"1\" class=\"dataframe\">\n",
       "  <thead>\n",
       "    <tr style=\"text-align: right;\">\n",
       "      <th></th>\n",
       "      <th>Error Metric</th>\n",
       "      <th>Training Set (Default Model)</th>\n",
       "      <th>Training Set (Optimized Model)</th>\n",
       "      <th>Note</th>\n",
       "    </tr>\n",
       "  </thead>\n",
       "  <tbody>\n",
       "    <tr>\n",
       "      <th>0</th>\n",
       "      <td>RMSE</td>\n",
       "      <td>4.565 (g/m2)</td>\n",
       "      <td>1.8007 (g/m2)</td>\n",
       "      <td>(0.0 for perfect prediction)</td>\n",
       "    </tr>\n",
       "    <tr>\n",
       "      <th>1</th>\n",
       "      <td>RMSE/std</td>\n",
       "      <td>0.9701</td>\n",
       "      <td>0.3827</td>\n",
       "      <td>(0.0 for perfect prediction)</td>\n",
       "    </tr>\n",
       "    <tr>\n",
       "      <th>2</th>\n",
       "      <td>MAE</td>\n",
       "      <td>3.314 (g/m2)</td>\n",
       "      <td>1.4046 (g/m2)</td>\n",
       "      <td>(0.0 for perfect prediction)</td>\n",
       "    </tr>\n",
       "    <tr>\n",
       "      <th>3</th>\n",
       "      <td>R2</td>\n",
       "      <td>0.0589</td>\n",
       "      <td>0.8536</td>\n",
       "      <td>(1.0 for perfect prediction)</td>\n",
       "    </tr>\n",
       "  </tbody>\n",
       "</table>\n",
       "</div>"
      ],
      "text/plain": [
       "  Error Metric Training Set (Default Model) Training Set (Optimized Model)  \\\n",
       "0         RMSE                 4.565 (g/m2)                  1.8007 (g/m2)   \n",
       "1     RMSE/std                       0.9701                         0.3827   \n",
       "2          MAE                 3.314 (g/m2)                  1.4046 (g/m2)   \n",
       "3           R2                       0.0589                         0.8536   \n",
       "\n",
       "                           Note  \n",
       "0  (0.0 for perfect prediction)  \n",
       "1  (0.0 for perfect prediction)  \n",
       "2  (0.0 for perfect prediction)  \n",
       "3  (1.0 for perfect prediction)  "
      ]
     },
     "execution_count": 21,
     "metadata": {},
     "output_type": "execute_result"
    }
   ],
   "source": [
    "parity_plots_side_by_side(y_train,Train_predictions,y_train,Train_predictions2,title_left=\"Training Parity Plot (Default Model)\",title_right=\"Training Parity Plot (Optimized Model)\") # build both plots\n",
    "parity_stats_side_by_side(y_train,Train_predictions,y_train,Train_predictions2,\"Training Set (Default Model)\",\"Training Set (Optimized Model)\")"
   ]
  },
  {
   "cell_type": "code",
   "execution_count": 22,
   "id": "documented-recipient",
   "metadata": {
    "ExecuteTime": {
     "end_time": "2023-03-30T06:03:28.785555Z",
     "start_time": "2023-03-30T06:03:27.613861Z"
    }
   },
   "outputs": [
    {
     "data": {
      "image/png": "[encoded data removed]",
      "text/plain": [
       "<Figure size 1080x360 with 2 Axes>"
      ]
     },
     "metadata": {
      "needs_background": "light"
     },
     "output_type": "display_data"
    },
    {
     "data": {
      "text/html": [
       "<div>\n",
       "<style scoped>\n",
       "    .dataframe tbody tr th:only-of-type {\n",
       "        vertical-align: middle;\n",
       "    }\n",
       "\n",
       "    .dataframe tbody tr th {\n",
       "        vertical-align: top;\n",
       "    }\n",
       "\n",
       "    .dataframe thead th {\n",
       "        text-align: right;\n",
       "    }\n",
       "</style>\n",
       "<table border=\"1\" class=\"dataframe\">\n",
       "  <thead>\n",
       "    <tr style=\"text-align: right;\">\n",
       "      <th></th>\n",
       "      <th>Error Metric</th>\n",
       "      <th>Test Set (Default Model)</th>\n",
       "      <th>Test Set (Optimized Model)</th>\n",
       "      <th>Note</th>\n",
       "    </tr>\n",
       "  </thead>\n",
       "  <tbody>\n",
       "    <tr>\n",
       "      <th>0</th>\n",
       "      <td>RMSE</td>\n",
       "      <td>5.2784 (g/m2)</td>\n",
       "      <td>3.3586 (g/m2)</td>\n",
       "      <td>(0.0 for perfect prediction)</td>\n",
       "    </tr>\n",
       "    <tr>\n",
       "      <th>1</th>\n",
       "      <td>RMSE/std</td>\n",
       "      <td>0.9748</td>\n",
       "      <td>0.6203</td>\n",
       "      <td>(0.0 for perfect prediction)</td>\n",
       "    </tr>\n",
       "    <tr>\n",
       "      <th>2</th>\n",
       "      <td>MAE</td>\n",
       "      <td>3.6953 (g/m2)</td>\n",
       "      <td>2.1089 (g/m2)</td>\n",
       "      <td>(0.0 for perfect prediction)</td>\n",
       "    </tr>\n",
       "    <tr>\n",
       "      <th>3</th>\n",
       "      <td>R2</td>\n",
       "      <td>0.0497</td>\n",
       "      <td>0.6153</td>\n",
       "      <td>(1.0 for perfect prediction)</td>\n",
       "    </tr>\n",
       "  </tbody>\n",
       "</table>\n",
       "</div>"
      ],
      "text/plain": [
       "  Error Metric Test Set (Default Model) Test Set (Optimized Model)  \\\n",
       "0         RMSE            5.2784 (g/m2)              3.3586 (g/m2)   \n",
       "1     RMSE/std                   0.9748                     0.6203   \n",
       "2          MAE            3.6953 (g/m2)              2.1089 (g/m2)   \n",
       "3           R2                   0.0497                     0.6153   \n",
       "\n",
       "                           Note  \n",
       "0  (0.0 for perfect prediction)  \n",
       "1  (0.0 for perfect prediction)  \n",
       "2  (0.0 for perfect prediction)  \n",
       "3  (1.0 for perfect prediction)  "
      ]
     },
     "execution_count": 22,
     "metadata": {},
     "output_type": "execute_result"
    }
   ],
   "source": [
    "parity_plots_side_by_side(y_test,Test_predictions,y_test,Test_predictions2, title_left=\"Test Parity Plot (Default Model)\",title_right=\"Test Parity Plot (Optimized Model)\") # build both plots\n",
    "parity_stats_side_by_side(y_test,Test_predictions,y_test,Test_predictions2,\"Test Set (Default Model)\",\"Test Set (Optimized Model)\")"
   ]
  },
  {
   "cell_type": "code",
   "execution_count": 23,
   "id": "sudden-compression",
   "metadata": {
    "ExecuteTime": {
     "end_time": "2023-03-30T06:03:29.987064Z",
     "start_time": "2023-03-30T06:03:28.787643Z"
    }
   },
   "outputs": [
    {
     "data": {
      "image/png": "[encoded data removed]",
      "text/plain": [
       "<Figure size 1080x360 with 2 Axes>"
      ]
     },
     "metadata": {
      "needs_background": "light"
     },
     "output_type": "display_data"
    }
   ],
   "source": [
    "parity_plots_side_by_side(y_train,Train_predictions2,y_test,Test_predictions2, title_left=\"Train Parity Plot (Optimized Model)\",title_right=\"Test Parity Plot (Optimized Model)\") # build both plots"
   ]
  },
  {
   "cell_type": "code",
   "execution_count": 24,
   "id": "executive-mystery",
   "metadata": {
    "ExecuteTime": {
     "end_time": "2023-03-30T06:03:30.126883Z",
     "start_time": "2023-03-30T06:03:29.989330Z"
    }
   },
   "outputs": [
    {
     "data": {
      "text/html": [
       "        <script type=\"text/javascript\">\n",
       "        window.PlotlyConfig = {MathJaxConfig: 'local'};\n",
       "        if (window.MathJax) {MathJax.Hub.Config({SVG: {font: \"STIX-Web\"}});}\n",
       "        if (typeof require !== 'undefined') {\n",
       "        require.undef(\"plotly\");\n",
       "        requirejs.config({\n",
       "            paths: {\n",
       "                'plotly': ['https://cdn.plot.ly/plotly-latest.min']\n",
       "            }\n",
       "        });\n",
       "        require(['plotly'], function(Plotly) {\n",
       "            window._Plotly = Plotly;\n",
       "        });\n",
       "        }\n",
       "        </script>\n",
       "        "
      ]
     },
     "metadata": {},
     "output_type": "display_data"
    }
   ],
   "source": [
    "import plotly\n",
    "import plotly.graph_objs as go\n",
    "from plotly.offline import iplot\n",
    "plotly.offline.init_notebook_mode(connected=True)"
   ]
  },
  {
   "cell_type": "code",
   "execution_count": 25,
   "id": "comprehensive-oklahoma",
   "metadata": {
    "ExecuteTime": {
     "end_time": "2023-03-30T06:03:30.179903Z",
     "start_time": "2023-03-30T06:03:30.128933Z"
    }
   },
   "outputs": [],
   "source": [
    "layout0= go.Layout(title= r'$ \\text{ GB Regressor } $', hovermode= 'closest',\n",
    "                       font = dict(family='Times New Roman',size=18),\n",
    "                       xaxis= dict(title= 'Measured Corr Rate (g/m2)',zeroline= False, gridwidth= 2),\n",
    "                       yaxis= dict(title= 'Predicted Corr Rate (g/m2)',zeroline= False, gridwidth= 2),#range=[-350,3750]),\n",
    "                       #height=1000,\n",
    "                       #width=1000,\n",
    "         showlegend= True )\n"
   ]
  },
  {
   "cell_type": "code",
   "execution_count": 26,
   "id": "finite-cleveland",
   "metadata": {
    "ExecuteTime": {
     "end_time": "2023-03-30T06:03:30.752239Z",
     "start_time": "2023-03-30T06:03:30.182023Z"
    }
   },
   "outputs": [
    {
     "data": {
      "application/vnd.plotly.v1+json": {
       "config": {
        "linkText": "Export to plot.ly",
        "plotlyServerURL": "https://plot.ly",
        "showLink": false
       },
       "data": [
        {
         "marker": {
          "color": "blue",
          "size": 12
         },
         "mode": "markers",
         "name": "Training Data",
         "type": "scatter",
         "x": [
          6.350000001000001,
          3.53,
          7.920000001,
          3.53,
          3.53,
          9.069999999,
          11.02,
          3.840000002,
          4.61,
          2.3,
          5.620000001,
          7.850000002000001,
          11.74,
          4.54,
          1.58,
          8.949999997,
          4.25,
          4.68,
          6.7700000010000005,
          6.3399999970000005,
          5.829999998,
          13.61,
          12.46,
          4.82,
          1.08,
          3.46,
          7.060000003,
          8.350000001,
          4.61,
          9.069999999,
          9.430000003,
          6.190000002000001,
          8.14,
          4.39,
          23.83,
          5.829999998,
          7.740000003,
          25.56000001,
          10.36,
          6.980000002000001,
          8.060000003999999,
          8.419999998,
          1.22,
          11.59,
          10.66,
          8.499999996,
          2.09,
          20.88,
          14.33,
          5.620000001,
          6.980000002000001,
          15.34,
          12.81999999,
          3.739999998,
          6.699999997000001,
          1.24,
          3.890000001,
          4.100000001000001,
          6.05,
          7.270000003,
          4.75,
          7.629999998,
          9.880000002000001,
          7.5599999989999995,
          11.38,
          1.51,
          6.699999997000001,
          1.15,
          10.66,
          2.88,
          6.699999997000001,
          7.779999999,
          6.479999997999999,
          9.290000002000001,
          1.809999999,
          7.850000002000001,
          9.719999995,
          25.78000001,
          6.840000002999999,
          5.179999999,
          7.340000002999999,
          9.759999996,
          7.490000004,
          10.01,
          6.62,
          1.01,
          4.319999999,
          18.65,
          1.659999999,
          11.09,
          3.890000001,
          1.659999999,
          3.3699999989999996,
          5.98,
          1.94,
          14.76,
          7.920000001,
          0.65,
          10.58,
          10.32,
          4.639999999,
          5.04,
          4.03,
          9.719999995,
          4.100000001000001,
          11.45,
          1.58,
          4.68,
          8.570000002999999,
          6.259999999,
          0.94,
          7.060000003,
          5.689999998999999,
          5.300000002,
          8.310000001,
          9.929999999,
          3.099999998,
          8.640000002,
          12.89
         ],
         "y": [
          7.169747946198202,
          4.947755899608067,
          8.492793734930133,
          4.593456804496365,
          4.868224390876685,
          8.006833040794636,
          10.447626040284483,
          3.9988304219278232,
          5.797506010173854,
          3.95409997419374,
          6.321292005743783,
          8.32401278437442,
          9.744005889158085,
          4.940523955808914,
          2.2604310540347625,
          8.840233028521878,
          4.947755899608067,
          5.744895793548265,
          7.146743849865043,
          7.1481410095315,
          5.873632837394166,
          9.789602155230016,
          9.462420421107163,
          4.720221854867808,
          4.6371291686151945,
          6.321292005743783,
          5.965126635758432,
          7.650567581181115,
          6.237741510932584,
          8.32401278437442,
          7.574718745809524,
          6.785363082889873,
          7.675431304291501,
          5.6454398619429,
          20.949249159770865,
          5.998858307332619,
          7.9763153098832165,
          19.983060167400964,
          8.542730583874867,
          9.141819675259162,
          9.448278848620735,
          8.194048290412024,
          3.2011112251452123,
          9.789602155230016,
          9.45158253651012,
          7.887309138412986,
          3.031114955340132,
          19.090326615280567,
          12.02328866479591,
          7.300207157762454,
          8.941394834522155,
          9.45158253651012,
          8.633839454808042,
          5.863103976676497,
          5.863103976676497,
          2.9116337129111423,
          4.799224645002602,
          5.6454398619429,
          5.863103976676497,
          7.365805124265097,
          6.633296934658919,
          8.006833040794636,
          6.785363082889873,
          7.311672091595152,
          8.814661659662127,
          4.204963358443467,
          4.940523955808914,
          5.208614322247304,
          10.401049417058035,
          3.896510335115265,
          7.1481410095315,
          8.992145162656795,
          8.799137204248614,
          8.224497155528232,
          3.058150250817373,
          8.688166880290924,
          8.55892809450017,
          23.87716325022361,
          7.650567581181115,
          5.797506010173854,
          8.822932024898822,
          9.0988389534327,
          7.1481410095315,
          8.822932024898822,
          8.881174838699105,
          3.795372511704348,
          3.898057694526314,
          19.983060167400964,
          3.2011112251452123,
          7.531089528467873,
          4.00685158810141,
          2.2604310540347625,
          3.896510335115265,
          4.940523955808914,
          4.826555005961388,
          11.792175425437007,
          7.3209789772876555,
          2.9100863535000907,
          6.736232546391911,
          8.992145162656795,
          3.9988304219278232,
          6.431937408178273,
          5.71360011825889,
          9.198354582278888,
          4.762051040162119,
          9.198354582278888,
          2.2604310540347625,
          5.863103976676497,
          8.941394834522155,
          6.338178379898421,
          2.2604310540347625,
          8.32401278437442,
          6.785363082889873,
          4.527768925177044,
          6.850961049392516,
          8.179671008550791,
          3.2011112251452123,
          8.840233028521878,
          9.556375901429496
         ]
        },
        {
         "marker": {
          "color": "red",
          "size": 12
         },
         "mode": "markers",
         "name": "Testing Data",
         "type": "scatter",
         "x": [
          11.52,
          4.75,
          10.15,
          24.48000001,
          0.65,
          16.41,
          1.659999999,
          6.62,
          7.700000001,
          27,
          4.319999999,
          2.9099999989999996,
          2.03,
          7.2,
          2.019999999,
          3.739999998,
          4.899999998999999,
          5.689999998999999,
          7.409999997999999,
          1.69,
          8.499999996,
          7.990000002,
          10.22,
          10.72,
          12.17,
          7.490000004,
          8.350000001,
          5.179999999,
          4.300000001,
          2.380000001,
          2.88,
          9.069999999,
          1.64,
          3.53,
          5.540000001,
          7.18,
          1.94,
          6.1200000029999995,
          21.23999999,
          8.419999998,
          7.060000003,
          7.030000001,
          5.260000001,
          3.019999999,
          5.469999998,
          5.689999998999999,
          14.89,
          5.260000001,
          4.25,
          3.0700000010000004,
          8.920000004,
          3.890000001
         ],
         "y": [
          6.897259871599555,
          7.864611574435561,
          6.455235481311906,
          23.87716325022361,
          2.2146872435300407,
          9.141819675259162,
          3.031114955340132,
          5.797506010173854,
          5.797506010173854,
          19.983060167400964,
          5.962619605522684,
          3.051020568296998,
          2.9116337129111423,
          6.850961049392516,
          2.2604310540347625,
          5.620956241879651,
          5.863103976676497,
          5.562115603326835,
          7.169747946198202,
          4.4168552322604695,
          9.081002527914611,
          9.033240986930059,
          8.32401278437442,
          6.42080763458997,
          9.070187690253265,
          7.1481410095315,
          8.670319883838498,
          5.54073445254695,
          5.879577277483052,
          5.897021639020041,
          4.00685158810141,
          7.465320753111284,
          4.8931532958678785,
          4.593456804496365,
          7.1481410095315,
          5.863103976676497,
          3.824210770183036,
          5.6727105256608645,
          4.799224645002602,
          8.224497155528232,
          7.1481410095315,
          5.879577277483052,
          7.990180606730808,
          5.047271528454254,
          4.527768925177044,
          9.198354582278888,
          9.070187690253265,
          5.797506010173854,
          6.950476678238703,
          3.9276919709685756,
          6.77813113909072,
          3.896510335115265
         ]
        },
        {
         "marker": {
          "color": "black",
          "size": 12
         },
         "mode": "lines",
         "name": "Linear Fit",
         "text": "Fit",
         "type": "scatter",
         "x": [
          0.65,
          1.1877551020408164,
          1.7255102040816328,
          2.263265306122449,
          2.8010204081632653,
          3.3387755102040817,
          3.8765306122448977,
          4.414285714285715,
          4.952040816326531,
          5.4897959183673475,
          6.027551020408164,
          6.56530612244898,
          7.103061224489796,
          7.640816326530612,
          8.178571428571429,
          8.716326530612246,
          9.254081632653062,
          9.791836734693877,
          10.329591836734695,
          10.86734693877551,
          11.405102040816328,
          11.942857142857143,
          12.48061224489796,
          13.018367346938776,
          13.556122448979592,
          14.093877551020409,
          14.631632653061224,
          15.169387755102042,
          15.707142857142857,
          16.244897959183675,
          16.78265306122449,
          17.320408163265306,
          17.85816326530612,
          18.395918367346937,
          18.933673469387752,
          19.47142857142857,
          20.009183673469387,
          20.546938775510203,
          21.084693877551018,
          21.622448979591837,
          22.160204081632653,
          22.69795918367347,
          23.235714285714284,
          23.7734693877551,
          24.31122448979592,
          24.848979591836734,
          25.38673469387755,
          25.924489795918365,
          26.46224489795918,
          27
         ],
         "y": [
          0.65,
          1.1877551020408164,
          1.7255102040816328,
          2.263265306122449,
          2.8010204081632653,
          3.3387755102040817,
          3.8765306122448977,
          4.414285714285715,
          4.952040816326531,
          5.4897959183673475,
          6.027551020408164,
          6.56530612244898,
          7.103061224489796,
          7.640816326530612,
          8.178571428571429,
          8.716326530612246,
          9.254081632653062,
          9.791836734693877,
          10.329591836734695,
          10.86734693877551,
          11.405102040816328,
          11.942857142857143,
          12.48061224489796,
          13.018367346938776,
          13.556122448979592,
          14.093877551020409,
          14.631632653061224,
          15.169387755102042,
          15.707142857142857,
          16.244897959183675,
          16.78265306122449,
          17.320408163265306,
          17.85816326530612,
          18.395918367346937,
          18.933673469387752,
          19.47142857142857,
          20.009183673469387,
          20.546938775510203,
          21.084693877551018,
          21.622448979591837,
          22.160204081632653,
          22.69795918367347,
          23.235714285714284,
          23.7734693877551,
          24.31122448979592,
          24.848979591836734,
          25.38673469387755,
          25.924489795918365,
          26.46224489795918,
          27
         ]
        }
       ],
       "layout": {
        "font": {
         "family": "Times New Roman",
         "size": 18
        },
        "hovermode": "closest",
        "showlegend": true,
        "template": {
         "data": {
          "bar": [
           {
            "error_x": {
             "color": "#2a3f5f"
            },
            "error_y": {
             "color": "#2a3f5f"
            },
            "marker": {
             "line": {
              "color": "#E5ECF6",
              "width": 0.5
             }
            },
            "type": "bar"
           }
          ],
          "barpolar": [
           {
            "marker": {
             "line": {
              "color": "#E5ECF6",
              "width": 0.5
             }
            },
            "type": "barpolar"
           }
          ],
          "carpet": [
           {
            "aaxis": {
             "endlinecolor": "#2a3f5f",
             "gridcolor": "white",
             "linecolor": "white",
             "minorgridcolor": "white",
             "startlinecolor": "#2a3f5f"
            },
            "baxis": {
             "endlinecolor": "#2a3f5f",
             "gridcolor": "white",
             "linecolor": "white",
             "minorgridcolor": "white",
             "startlinecolor": "#2a3f5f"
            },
            "type": "carpet"
           }
          ],
          "choropleth": [
           {
            "colorbar": {
             "outlinewidth": 0,
             "ticks": ""
            },
            "type": "choropleth"
           }
          ],
          "contour": [
           {
            "colorbar": {
             "outlinewidth": 0,
             "ticks": ""
            },
            "colorscale": [
             [
              0,
              "#0d0887"
             ],
             [
              0.1111111111111111,
              "#46039f"
             ],
             [
              0.2222222222222222,
              "#7201a8"
             ],
             [
              0.3333333333333333,
              "#9c179e"
             ],
             [
              0.4444444444444444,
              "#bd3786"
             ],
             [
              0.5555555555555556,
              "#d8576b"
             ],
             [
              0.6666666666666666,
              "#ed7953"
             ],
             [
              0.7777777777777778,
              "#fb9f3a"
             ],
             [
              0.8888888888888888,
              "#fdca26"
             ],
             [
              1,
              "#f0f921"
             ]
            ],
            "type": "contour"
           }
          ],
          "contourcarpet": [
           {
            "colorbar": {
             "outlinewidth": 0,
             "ticks": ""
            },
            "type": "contourcarpet"
           }
          ],
          "heatmap": [
           {
            "colorbar": {
             "outlinewidth": 0,
             "ticks": ""
            },
            "colorscale": [
             [
              0,
              "#0d0887"
             ],
             [
              0.1111111111111111,
              "#46039f"
             ],
             [
              0.2222222222222222,
              "#7201a8"
             ],
             [
              0.3333333333333333,
              "#9c179e"
             ],
             [
              0.4444444444444444,
              "#bd3786"
             ],
             [
              0.5555555555555556,
              "#d8576b"
             ],
             [
              0.6666666666666666,
              "#ed7953"
             ],
             [
              0.7777777777777778,
              "#fb9f3a"
             ],
             [
              0.8888888888888888,
              "#fdca26"
             ],
             [
              1,
              "#f0f921"
             ]
            ],
            "type": "heatmap"
           }
          ],
          "heatmapgl": [
           {
            "colorbar": {
             "outlinewidth": 0,
             "ticks": ""
            },
            "colorscale": [
             [
              0,
              "#0d0887"
             ],
             [
              0.1111111111111111,
              "#46039f"
             ],
             [
              0.2222222222222222,
              "#7201a8"
             ],
             [
              0.3333333333333333,
              "#9c179e"
             ],
             [
              0.4444444444444444,
              "#bd3786"
             ],
             [
              0.5555555555555556,
              "#d8576b"
             ],
             [
              0.6666666666666666,
              "#ed7953"
             ],
             [
              0.7777777777777778,
              "#fb9f3a"
             ],
             [
              0.8888888888888888,
              "#fdca26"
             ],
             [
              1,
              "#f0f921"
             ]
            ],
            "type": "heatmapgl"
           }
          ],
          "histogram": [
           {
            "marker": {
             "colorbar": {
              "outlinewidth": 0,
              "ticks": ""
             }
            },
            "type": "histogram"
           }
          ],
          "histogram2d": [
           {
            "colorbar": {
             "outlinewidth": 0,
             "ticks": ""
            },
            "colorscale": [
             [
              0,
              "#0d0887"
             ],
             [
              0.1111111111111111,
              "#46039f"
             ],
             [
              0.2222222222222222,
              "#7201a8"
             ],
             [
              0.3333333333333333,
              "#9c179e"
             ],
             [
              0.4444444444444444,
              "#bd3786"
             ],
             [
              0.5555555555555556,
              "#d8576b"
             ],
             [
              0.6666666666666666,
              "#ed7953"
             ],
             [
              0.7777777777777778,
              "#fb9f3a"
             ],
             [
              0.8888888888888888,
              "#fdca26"
             ],
             [
              1,
              "#f0f921"
             ]
            ],
            "type": "histogram2d"
           }
          ],
          "histogram2dcontour": [
           {
            "colorbar": {
             "outlinewidth": 0,
             "ticks": ""
            },
            "colorscale": [
             [
              0,
              "#0d0887"
             ],
             [
              0.1111111111111111,
              "#46039f"
             ],
             [
              0.2222222222222222,
              "#7201a8"
             ],
             [
              0.3333333333333333,
              "#9c179e"
             ],
             [
              0.4444444444444444,
              "#bd3786"
             ],
             [
              0.5555555555555556,
              "#d8576b"
             ],
             [
              0.6666666666666666,
              "#ed7953"
             ],
             [
              0.7777777777777778,
              "#fb9f3a"
             ],
             [
              0.8888888888888888,
              "#fdca26"
             ],
             [
              1,
              "#f0f921"
             ]
            ],
            "type": "histogram2dcontour"
           }
          ],
          "mesh3d": [
           {
            "colorbar": {
             "outlinewidth": 0,
             "ticks": ""
            },
            "type": "mesh3d"
           }
          ],
          "parcoords": [
           {
            "line": {
             "colorbar": {
              "outlinewidth": 0,
              "ticks": ""
             }
            },
            "type": "parcoords"
           }
          ],
          "pie": [
           {
            "automargin": true,
            "type": "pie"
           }
          ],
          "scatter": [
           {
            "marker": {
             "colorbar": {
              "outlinewidth": 0,
              "ticks": ""
             }
            },
            "type": "scatter"
           }
          ],
          "scatter3d": [
           {
            "line": {
             "colorbar": {
              "outlinewidth": 0,
              "ticks": ""
             }
            },
            "marker": {
             "colorbar": {
              "outlinewidth": 0,
              "ticks": ""
             }
            },
            "type": "scatter3d"
           }
          ],
          "scattercarpet": [
           {
            "marker": {
             "colorbar": {
              "outlinewidth": 0,
              "ticks": ""
             }
            },
            "type": "scattercarpet"
           }
          ],
          "scattergeo": [
           {
            "marker": {
             "colorbar": {
              "outlinewidth": 0,
              "ticks": ""
             }
            },
            "type": "scattergeo"
           }
          ],
          "scattergl": [
           {
            "marker": {
             "colorbar": {
              "outlinewidth": 0,
              "ticks": ""
             }
            },
            "type": "scattergl"
           }
          ],
          "scattermapbox": [
           {
            "marker": {
             "colorbar": {
              "outlinewidth": 0,
              "ticks": ""
             }
            },
            "type": "scattermapbox"
           }
          ],
          "scatterpolar": [
           {
            "marker": {
             "colorbar": {
              "outlinewidth": 0,
              "ticks": ""
             }
            },
            "type": "scatterpolar"
           }
          ],
          "scatterpolargl": [
           {
            "marker": {
             "colorbar": {
              "outlinewidth": 0,
              "ticks": ""
             }
            },
            "type": "scatterpolargl"
           }
          ],
          "scatterternary": [
           {
            "marker": {
             "colorbar": {
              "outlinewidth": 0,
              "ticks": ""
             }
            },
            "type": "scatterternary"
           }
          ],
          "surface": [
           {
            "colorbar": {
             "outlinewidth": 0,
             "ticks": ""
            },
            "colorscale": [
             [
              0,
              "#0d0887"
             ],
             [
              0.1111111111111111,
              "#46039f"
             ],
             [
              0.2222222222222222,
              "#7201a8"
             ],
             [
              0.3333333333333333,
              "#9c179e"
             ],
             [
              0.4444444444444444,
              "#bd3786"
             ],
             [
              0.5555555555555556,
              "#d8576b"
             ],
             [
              0.6666666666666666,
              "#ed7953"
             ],
             [
              0.7777777777777778,
              "#fb9f3a"
             ],
             [
              0.8888888888888888,
              "#fdca26"
             ],
             [
              1,
              "#f0f921"
             ]
            ],
            "type": "surface"
           }
          ],
          "table": [
           {
            "cells": {
             "fill": {
              "color": "#EBF0F8"
             },
             "line": {
              "color": "white"
             }
            },
            "header": {
             "fill": {
              "color": "#C8D4E3"
             },
             "line": {
              "color": "white"
             }
            },
            "type": "table"
           }
          ]
         },
         "layout": {
          "annotationdefaults": {
           "arrowcolor": "#2a3f5f",
           "arrowhead": 0,
           "arrowwidth": 1
          },
          "autotypenumbers": "strict",
          "coloraxis": {
           "colorbar": {
            "outlinewidth": 0,
            "ticks": ""
           }
          },
          "colorscale": {
           "diverging": [
            [
             0,
             "#8e0152"
            ],
            [
             0.1,
             "#c51b7d"
            ],
            [
             0.2,
             "#de77ae"
            ],
            [
             0.3,
             "#f1b6da"
            ],
            [
             0.4,
             "#fde0ef"
            ],
            [
             0.5,
             "#f7f7f7"
            ],
            [
             0.6,
             "#e6f5d0"
            ],
            [
             0.7,
             "#b8e186"
            ],
            [
             0.8,
             "#7fbc41"
            ],
            [
             0.9,
             "#4d9221"
            ],
            [
             1,
             "#276419"
            ]
           ],
           "sequential": [
            [
             0,
             "#0d0887"
            ],
            [
             0.1111111111111111,
             "#46039f"
            ],
            [
             0.2222222222222222,
             "#7201a8"
            ],
            [
             0.3333333333333333,
             "#9c179e"
            ],
            [
             0.4444444444444444,
             "#bd3786"
            ],
            [
             0.5555555555555556,
             "#d8576b"
            ],
            [
             0.6666666666666666,
             "#ed7953"
            ],
            [
             0.7777777777777778,
             "#fb9f3a"
            ],
            [
             0.8888888888888888,
             "#fdca26"
            ],
            [
             1,
             "#f0f921"
            ]
           ],
           "sequentialminus": [
            [
             0,
             "#0d0887"
            ],
            [
             0.1111111111111111,
             "#46039f"
            ],
            [
             0.2222222222222222,
             "#7201a8"
            ],
            [
             0.3333333333333333,
             "#9c179e"
            ],
            [
             0.4444444444444444,
             "#bd3786"
            ],
            [
             0.5555555555555556,
             "#d8576b"
            ],
            [
             0.6666666666666666,
             "#ed7953"
            ],
            [
             0.7777777777777778,
             "#fb9f3a"
            ],
            [
             0.8888888888888888,
             "#fdca26"
            ],
            [
             1,
             "#f0f921"
            ]
           ]
          },
          "colorway": [
           "#636efa",
           "#EF553B",
           "#00cc96",
           "#ab63fa",
           "#FFA15A",
           "#19d3f3",
           "#FF6692",
           "#B6E880",
           "#FF97FF",
           "#FECB52"
          ],
          "font": {
           "color": "#2a3f5f"
          },
          "geo": {
           "bgcolor": "white",
           "lakecolor": "white",
           "landcolor": "#E5ECF6",
           "showlakes": true,
           "showland": true,
           "subunitcolor": "white"
          },
          "hoverlabel": {
           "align": "left"
          },
          "hovermode": "closest",
          "mapbox": {
           "style": "light"
          },
          "paper_bgcolor": "white",
          "plot_bgcolor": "#E5ECF6",
          "polar": {
           "angularaxis": {
            "gridcolor": "white",
            "linecolor": "white",
            "ticks": ""
           },
           "bgcolor": "#E5ECF6",
           "radialaxis": {
            "gridcolor": "white",
            "linecolor": "white",
            "ticks": ""
           }
          },
          "scene": {
           "xaxis": {
            "backgroundcolor": "#E5ECF6",
            "gridcolor": "white",
            "gridwidth": 2,
            "linecolor": "white",
            "showbackground": true,
            "ticks": "",
            "zerolinecolor": "white"
           },
           "yaxis": {
            "backgroundcolor": "#E5ECF6",
            "gridcolor": "white",
            "gridwidth": 2,
            "linecolor": "white",
            "showbackground": true,
            "ticks": "",
            "zerolinecolor": "white"
           },
           "zaxis": {
            "backgroundcolor": "#E5ECF6",
            "gridcolor": "white",
            "gridwidth": 2,
            "linecolor": "white",
            "showbackground": true,
            "ticks": "",
            "zerolinecolor": "white"
           }
          },
          "shapedefaults": {
           "line": {
            "color": "#2a3f5f"
           }
          },
          "ternary": {
           "aaxis": {
            "gridcolor": "white",
            "linecolor": "white",
            "ticks": ""
           },
           "baxis": {
            "gridcolor": "white",
            "linecolor": "white",
            "ticks": ""
           },
           "bgcolor": "#E5ECF6",
           "caxis": {
            "gridcolor": "white",
            "linecolor": "white",
            "ticks": ""
           }
          },
          "title": {
           "x": 0.05
          },
          "xaxis": {
           "automargin": true,
           "gridcolor": "white",
           "linecolor": "white",
           "ticks": "",
           "title": {
            "standoff": 15
           },
           "zerolinecolor": "white",
           "zerolinewidth": 2
          },
          "yaxis": {
           "automargin": true,
           "gridcolor": "white",
           "linecolor": "white",
           "ticks": "",
           "title": {
            "standoff": 15
           },
           "zerolinecolor": "white",
           "zerolinewidth": 2
          }
         }
        },
        "title": {
         "text": "$ \\text{ GB Regressor } $"
        },
        "xaxis": {
         "gridwidth": 2,
         "title": {
          "text": "Measured Corr Rate (g/m2)"
         },
         "zeroline": false
        },
        "yaxis": {
         "gridwidth": 2,
         "title": {
          "text": "Predicted Corr Rate (g/m2)"
         },
         "zeroline": false
        }
       }
      },
      "text/html": [
       "<div>                            <div id=\"265cad09-dd56-4c71-b263-2e161357de1e\" class=\"plotly-graph-div\" style=\"height:525px; width:100%;\"></div>            <script type=\"text/javascript\">                require([\"plotly\"], function(Plotly) {                    window.PLOTLYENV=window.PLOTLYENV || {};                                    if (document.getElementById(\"265cad09-dd56-4c71-b263-2e161357de1e\")) {                    Plotly.newPlot(                        \"265cad09-dd56-4c71-b263-2e161357de1e\",                        [{\"marker\": {\"color\": \"blue\", \"size\": 12}, \"mode\": \"markers\", \"name\": \"Training Data\", \"type\": \"scatter\", \"x\": [6.350000001000001, 3.53, 7.920000001, 3.53, 3.53, 9.069999999, 11.02, 3.840000002, 4.61, 2.3, 5.620000001, 7.850000002000001, 11.74, 4.54, 1.58, 8.949999997, 4.25, 4.68, 6.7700000010000005, 6.3399999970000005, 5.829999998, 13.61, 12.46, 4.82, 1.08, 3.46, 7.060000003, 8.350000001, 4.61, 9.069999999, 9.430000003, 6.190000002000001, 8.14, 4.39, 23.83, 5.829999998, 7.740000003, 25.56000001, 10.36, 6.980000002000001, 8.060000003999999, 8.419999998, 1.22, 11.59, 10.66, 8.499999996, 2.09, 20.88, 14.33, 5.620000001, 6.980000002000001, 15.34, 12.81999999, 3.739999998, 6.699999997000001, 1.24, 3.890000001, 4.100000001000001, 6.05, 7.270000003, 4.75, 7.629999998, 9.880000002000001, 7.5599999989999995, 11.38, 1.51, 6.699999997000001, 1.15, 10.66, 2.88, 6.699999997000001, 7.779999999, 6.479999997999999, 9.290000002000001, 1.809999999, 7.850000002000001, 9.719999995, 25.78000001, 6.840000002999999, 5.179999999, 7.340000002999999, 9.759999996, 7.490000004, 10.01, 6.62, 1.01, 4.319999999, 18.65, 1.659999999, 11.09, 3.890000001, 1.659999999, 3.3699999989999996, 5.98, 1.94, 14.76, 7.920000001, 0.65, 10.58, 10.32, 4.639999999, 5.04, 4.03, 9.719999995, 4.100000001000001, 11.45, 1.58, 4.68, 8.570000002999999, 6.259999999, 0.94, 7.060000003, 5.689999998999999, 5.300000002, 8.310000001, 9.929999999, 3.099999998, 8.640000002, 12.89], \"y\": [7.169747946198202, 4.947755899608067, 8.492793734930133, 4.593456804496365, 4.868224390876685, 8.006833040794636, 10.447626040284483, 3.9988304219278232, 5.797506010173854, 3.95409997419374, 6.321292005743783, 8.32401278437442, 9.744005889158085, 4.940523955808914, 2.2604310540347625, 8.840233028521878, 4.947755899608067, 5.744895793548265, 7.146743849865043, 7.1481410095315, 5.873632837394166, 9.789602155230016, 9.462420421107163, 4.720221854867808, 4.6371291686151945, 6.321292005743783, 5.965126635758432, 7.650567581181115, 6.237741510932584, 8.32401278437442, 7.574718745809524, 6.785363082889873, 7.675431304291501, 5.6454398619429, 20.949249159770865, 5.998858307332619, 7.9763153098832165, 19.983060167400964, 8.542730583874867, 9.141819675259162, 9.448278848620735, 8.194048290412024, 3.2011112251452123, 9.789602155230016, 9.45158253651012, 7.887309138412986, 3.031114955340132, 19.090326615280567, 12.02328866479591, 7.300207157762454, 8.941394834522155, 9.45158253651012, 8.633839454808042, 5.863103976676497, 5.863103976676497, 2.9116337129111423, 4.799224645002602, 5.6454398619429, 5.863103976676497, 7.365805124265097, 6.633296934658919, 8.006833040794636, 6.785363082889873, 7.311672091595152, 8.814661659662127, 4.204963358443467, 4.940523955808914, 5.208614322247304, 10.401049417058035, 3.896510335115265, 7.1481410095315, 8.992145162656795, 8.799137204248614, 8.224497155528232, 3.058150250817373, 8.688166880290924, 8.55892809450017, 23.87716325022361, 7.650567581181115, 5.797506010173854, 8.822932024898822, 9.0988389534327, 7.1481410095315, 8.822932024898822, 8.881174838699105, 3.795372511704348, 3.898057694526314, 19.983060167400964, 3.2011112251452123, 7.531089528467873, 4.00685158810141, 2.2604310540347625, 3.896510335115265, 4.940523955808914, 4.826555005961388, 11.792175425437007, 7.3209789772876555, 2.9100863535000907, 6.736232546391911, 8.992145162656795, 3.9988304219278232, 6.431937408178273, 5.71360011825889, 9.198354582278888, 4.762051040162119, 9.198354582278888, 2.2604310540347625, 5.863103976676497, 8.941394834522155, 6.338178379898421, 2.2604310540347625, 8.32401278437442, 6.785363082889873, 4.527768925177044, 6.850961049392516, 8.179671008550791, 3.2011112251452123, 8.840233028521878, 9.556375901429496]}, {\"marker\": {\"color\": \"red\", \"size\": 12}, \"mode\": \"markers\", \"name\": \"Testing Data\", \"type\": \"scatter\", \"x\": [11.52, 4.75, 10.15, 24.48000001, 0.65, 16.41, 1.659999999, 6.62, 7.700000001, 27.0, 4.319999999, 2.9099999989999996, 2.03, 7.2, 2.019999999, 3.739999998, 4.899999998999999, 5.689999998999999, 7.409999997999999, 1.69, 8.499999996, 7.990000002, 10.22, 10.72, 12.17, 7.490000004, 8.350000001, 5.179999999, 4.300000001, 2.380000001, 2.88, 9.069999999, 1.64, 3.53, 5.540000001, 7.18, 1.94, 6.1200000029999995, 21.23999999, 8.419999998, 7.060000003, 7.030000001, 5.260000001, 3.019999999, 5.469999998, 5.689999998999999, 14.89, 5.260000001, 4.25, 3.0700000010000004, 8.920000004, 3.890000001], \"y\": [6.897259871599555, 7.864611574435561, 6.455235481311906, 23.87716325022361, 2.2146872435300407, 9.141819675259162, 3.031114955340132, 5.797506010173854, 5.797506010173854, 19.983060167400964, 5.962619605522684, 3.051020568296998, 2.9116337129111423, 6.850961049392516, 2.2604310540347625, 5.620956241879651, 5.863103976676497, 5.562115603326835, 7.169747946198202, 4.4168552322604695, 9.081002527914611, 9.033240986930059, 8.32401278437442, 6.42080763458997, 9.070187690253265, 7.1481410095315, 8.670319883838498, 5.54073445254695, 5.879577277483052, 5.897021639020041, 4.00685158810141, 7.465320753111284, 4.8931532958678785, 4.593456804496365, 7.1481410095315, 5.863103976676497, 3.824210770183036, 5.6727105256608645, 4.799224645002602, 8.224497155528232, 7.1481410095315, 5.879577277483052, 7.990180606730808, 5.047271528454254, 4.527768925177044, 9.198354582278888, 9.070187690253265, 5.797506010173854, 6.950476678238703, 3.9276919709685756, 6.77813113909072, 3.896510335115265]}, {\"marker\": {\"color\": \"black\", \"size\": 12}, \"mode\": \"lines\", \"name\": \"Linear Fit\", \"text\": \"Fit\", \"type\": \"scatter\", \"x\": [0.65, 1.1877551020408164, 1.7255102040816328, 2.263265306122449, 2.8010204081632653, 3.3387755102040817, 3.8765306122448977, 4.414285714285715, 4.952040816326531, 5.4897959183673475, 6.027551020408164, 6.56530612244898, 7.103061224489796, 7.640816326530612, 8.178571428571429, 8.716326530612246, 9.254081632653062, 9.791836734693877, 10.329591836734695, 10.86734693877551, 11.405102040816328, 11.942857142857143, 12.48061224489796, 13.018367346938776, 13.556122448979592, 14.093877551020409, 14.631632653061224, 15.169387755102042, 15.707142857142857, 16.244897959183675, 16.78265306122449, 17.320408163265306, 17.85816326530612, 18.395918367346937, 18.933673469387752, 19.47142857142857, 20.009183673469387, 20.546938775510203, 21.084693877551018, 21.622448979591837, 22.160204081632653, 22.69795918367347, 23.235714285714284, 23.7734693877551, 24.31122448979592, 24.848979591836734, 25.38673469387755, 25.924489795918365, 26.46224489795918, 27.0], \"y\": [0.65, 1.1877551020408164, 1.7255102040816328, 2.263265306122449, 2.8010204081632653, 3.3387755102040817, 3.8765306122448977, 4.414285714285715, 4.952040816326531, 5.4897959183673475, 6.027551020408164, 6.56530612244898, 7.103061224489796, 7.640816326530612, 8.178571428571429, 8.716326530612246, 9.254081632653062, 9.791836734693877, 10.329591836734695, 10.86734693877551, 11.405102040816328, 11.942857142857143, 12.48061224489796, 13.018367346938776, 13.556122448979592, 14.093877551020409, 14.631632653061224, 15.169387755102042, 15.707142857142857, 16.244897959183675, 16.78265306122449, 17.320408163265306, 17.85816326530612, 18.395918367346937, 18.933673469387752, 19.47142857142857, 20.009183673469387, 20.546938775510203, 21.084693877551018, 21.622448979591837, 22.160204081632653, 22.69795918367347, 23.235714285714284, 23.7734693877551, 24.31122448979592, 24.848979591836734, 25.38673469387755, 25.924489795918365, 26.46224489795918, 27.0]}],                        {\"font\": {\"family\": \"Times New Roman\", \"size\": 18}, \"hovermode\": \"closest\", \"showlegend\": true, \"template\": {\"data\": {\"bar\": [{\"error_x\": {\"color\": \"#2a3f5f\"}, \"error_y\": {\"color\": \"#2a3f5f\"}, \"marker\": {\"line\": {\"color\": \"#E5ECF6\", \"width\": 0.5}}, \"type\": \"bar\"}], \"barpolar\": [{\"marker\": {\"line\": {\"color\": \"#E5ECF6\", \"width\": 0.5}}, \"type\": \"barpolar\"}], \"carpet\": [{\"aaxis\": {\"endlinecolor\": \"#2a3f5f\", \"gridcolor\": \"white\", \"linecolor\": \"white\", \"minorgridcolor\": \"white\", \"startlinecolor\": \"#2a3f5f\"}, \"baxis\": {\"endlinecolor\": \"#2a3f5f\", \"gridcolor\": \"white\", \"linecolor\": \"white\", \"minorgridcolor\": \"white\", \"startlinecolor\": \"#2a3f5f\"}, \"type\": \"carpet\"}], \"choropleth\": [{\"colorbar\": {\"outlinewidth\": 0, \"ticks\": \"\"}, \"type\": \"choropleth\"}], \"contour\": [{\"colorbar\": {\"outlinewidth\": 0, \"ticks\": \"\"}, \"colorscale\": [[0.0, \"#0d0887\"], [0.1111111111111111, \"#46039f\"], [0.2222222222222222, \"#7201a8\"], [0.3333333333333333, \"#9c179e\"], [0.4444444444444444, \"#bd3786\"], [0.5555555555555556, \"#d8576b\"], [0.6666666666666666, \"#ed7953\"], [0.7777777777777778, \"#fb9f3a\"], [0.8888888888888888, \"#fdca26\"], [1.0, \"#f0f921\"]], \"type\": \"contour\"}], \"contourcarpet\": [{\"colorbar\": {\"outlinewidth\": 0, \"ticks\": \"\"}, \"type\": \"contourcarpet\"}], \"heatmap\": [{\"colorbar\": {\"outlinewidth\": 0, \"ticks\": \"\"}, \"colorscale\": [[0.0, \"#0d0887\"], [0.1111111111111111, \"#46039f\"], [0.2222222222222222, \"#7201a8\"], [0.3333333333333333, \"#9c179e\"], [0.4444444444444444, \"#bd3786\"], [0.5555555555555556, \"#d8576b\"], [0.6666666666666666, \"#ed7953\"], [0.7777777777777778, \"#fb9f3a\"], [0.8888888888888888, \"#fdca26\"], [1.0, \"#f0f921\"]], \"type\": \"heatmap\"}], \"heatmapgl\": [{\"colorbar\": {\"outlinewidth\": 0, \"ticks\": \"\"}, \"colorscale\": [[0.0, \"#0d0887\"], [0.1111111111111111, \"#46039f\"], [0.2222222222222222, \"#7201a8\"], [0.3333333333333333, \"#9c179e\"], [0.4444444444444444, \"#bd3786\"], [0.5555555555555556, \"#d8576b\"], [0.6666666666666666, \"#ed7953\"], [0.7777777777777778, \"#fb9f3a\"], [0.8888888888888888, \"#fdca26\"], [1.0, \"#f0f921\"]], \"type\": \"heatmapgl\"}], \"histogram\": [{\"marker\": {\"colorbar\": {\"outlinewidth\": 0, \"ticks\": \"\"}}, \"type\": \"histogram\"}], \"histogram2d\": [{\"colorbar\": {\"outlinewidth\": 0, \"ticks\": \"\"}, \"colorscale\": [[0.0, \"#0d0887\"], [0.1111111111111111, \"#46039f\"], [0.2222222222222222, \"#7201a8\"], [0.3333333333333333, \"#9c179e\"], [0.4444444444444444, \"#bd3786\"], [0.5555555555555556, \"#d8576b\"], [0.6666666666666666, \"#ed7953\"], [0.7777777777777778, \"#fb9f3a\"], [0.8888888888888888, \"#fdca26\"], [1.0, \"#f0f921\"]], \"type\": \"histogram2d\"}], \"histogram2dcontour\": [{\"colorbar\": {\"outlinewidth\": 0, \"ticks\": \"\"}, \"colorscale\": [[0.0, \"#0d0887\"], [0.1111111111111111, \"#46039f\"], [0.2222222222222222, \"#7201a8\"], [0.3333333333333333, \"#9c179e\"], [0.4444444444444444, \"#bd3786\"], [0.5555555555555556, \"#d8576b\"], [0.6666666666666666, \"#ed7953\"], [0.7777777777777778, \"#fb9f3a\"], [0.8888888888888888, \"#fdca26\"], [1.0, \"#f0f921\"]], \"type\": \"histogram2dcontour\"}], \"mesh3d\": [{\"colorbar\": {\"outlinewidth\": 0, \"ticks\": \"\"}, \"type\": \"mesh3d\"}], \"parcoords\": [{\"line\": {\"colorbar\": {\"outlinewidth\": 0, \"ticks\": \"\"}}, \"type\": \"parcoords\"}], \"pie\": [{\"automargin\": true, \"type\": \"pie\"}], \"scatter\": [{\"marker\": {\"colorbar\": {\"outlinewidth\": 0, \"ticks\": \"\"}}, \"type\": \"scatter\"}], \"scatter3d\": [{\"line\": {\"colorbar\": {\"outlinewidth\": 0, \"ticks\": \"\"}}, \"marker\": {\"colorbar\": {\"outlinewidth\": 0, \"ticks\": \"\"}}, \"type\": \"scatter3d\"}], \"scattercarpet\": [{\"marker\": {\"colorbar\": {\"outlinewidth\": 0, \"ticks\": \"\"}}, \"type\": \"scattercarpet\"}], \"scattergeo\": [{\"marker\": {\"colorbar\": {\"outlinewidth\": 0, \"ticks\": \"\"}}, \"type\": \"scattergeo\"}], \"scattergl\": [{\"marker\": {\"colorbar\": {\"outlinewidth\": 0, \"ticks\": \"\"}}, \"type\": \"scattergl\"}], \"scattermapbox\": [{\"marker\": {\"colorbar\": {\"outlinewidth\": 0, \"ticks\": \"\"}}, \"type\": \"scattermapbox\"}], \"scatterpolar\": [{\"marker\": {\"colorbar\": {\"outlinewidth\": 0, \"ticks\": \"\"}}, \"type\": \"scatterpolar\"}], \"scatterpolargl\": [{\"marker\": {\"colorbar\": {\"outlinewidth\": 0, \"ticks\": \"\"}}, \"type\": \"scatterpolargl\"}], \"scatterternary\": [{\"marker\": {\"colorbar\": {\"outlinewidth\": 0, \"ticks\": \"\"}}, \"type\": \"scatterternary\"}], \"surface\": [{\"colorbar\": {\"outlinewidth\": 0, \"ticks\": \"\"}, \"colorscale\": [[0.0, \"#0d0887\"], [0.1111111111111111, \"#46039f\"], [0.2222222222222222, \"#7201a8\"], [0.3333333333333333, \"#9c179e\"], [0.4444444444444444, \"#bd3786\"], [0.5555555555555556, \"#d8576b\"], [0.6666666666666666, \"#ed7953\"], [0.7777777777777778, \"#fb9f3a\"], [0.8888888888888888, \"#fdca26\"], [1.0, \"#f0f921\"]], \"type\": \"surface\"}], \"table\": [{\"cells\": {\"fill\": {\"color\": \"#EBF0F8\"}, \"line\": {\"color\": \"white\"}}, \"header\": {\"fill\": {\"color\": \"#C8D4E3\"}, \"line\": {\"color\": \"white\"}}, \"type\": \"table\"}]}, \"layout\": {\"annotationdefaults\": {\"arrowcolor\": \"#2a3f5f\", \"arrowhead\": 0, \"arrowwidth\": 1}, \"autotypenumbers\": \"strict\", \"coloraxis\": {\"colorbar\": {\"outlinewidth\": 0, \"ticks\": \"\"}}, \"colorscale\": {\"diverging\": [[0, \"#8e0152\"], [0.1, \"#c51b7d\"], [0.2, \"#de77ae\"], [0.3, \"#f1b6da\"], [0.4, \"#fde0ef\"], [0.5, \"#f7f7f7\"], [0.6, \"#e6f5d0\"], [0.7, \"#b8e186\"], [0.8, \"#7fbc41\"], [0.9, \"#4d9221\"], [1, \"#276419\"]], \"sequential\": [[0.0, \"#0d0887\"], [0.1111111111111111, \"#46039f\"], [0.2222222222222222, \"#7201a8\"], [0.3333333333333333, \"#9c179e\"], [0.4444444444444444, \"#bd3786\"], [0.5555555555555556, \"#d8576b\"], [0.6666666666666666, \"#ed7953\"], [0.7777777777777778, \"#fb9f3a\"], [0.8888888888888888, \"#fdca26\"], [1.0, \"#f0f921\"]], \"sequentialminus\": [[0.0, \"#0d0887\"], [0.1111111111111111, \"#46039f\"], [0.2222222222222222, \"#7201a8\"], [0.3333333333333333, \"#9c179e\"], [0.4444444444444444, \"#bd3786\"], [0.5555555555555556, \"#d8576b\"], [0.6666666666666666, \"#ed7953\"], [0.7777777777777778, \"#fb9f3a\"], [0.8888888888888888, \"#fdca26\"], [1.0, \"#f0f921\"]]}, \"colorway\": [\"#636efa\", \"#EF553B\", \"#00cc96\", \"#ab63fa\", \"#FFA15A\", \"#19d3f3\", \"#FF6692\", \"#B6E880\", \"#FF97FF\", \"#FECB52\"], \"font\": {\"color\": \"#2a3f5f\"}, \"geo\": {\"bgcolor\": \"white\", \"lakecolor\": \"white\", \"landcolor\": \"#E5ECF6\", \"showlakes\": true, \"showland\": true, \"subunitcolor\": \"white\"}, \"hoverlabel\": {\"align\": \"left\"}, \"hovermode\": \"closest\", \"mapbox\": {\"style\": \"light\"}, \"paper_bgcolor\": \"white\", \"plot_bgcolor\": \"#E5ECF6\", \"polar\": {\"angularaxis\": {\"gridcolor\": \"white\", \"linecolor\": \"white\", \"ticks\": \"\"}, \"bgcolor\": \"#E5ECF6\", \"radialaxis\": {\"gridcolor\": \"white\", \"linecolor\": \"white\", \"ticks\": \"\"}}, \"scene\": {\"xaxis\": {\"backgroundcolor\": \"#E5ECF6\", \"gridcolor\": \"white\", \"gridwidth\": 2, \"linecolor\": \"white\", \"showbackground\": true, \"ticks\": \"\", \"zerolinecolor\": \"white\"}, \"yaxis\": {\"backgroundcolor\": \"#E5ECF6\", \"gridcolor\": \"white\", \"gridwidth\": 2, \"linecolor\": \"white\", \"showbackground\": true, \"ticks\": \"\", \"zerolinecolor\": \"white\"}, \"zaxis\": {\"backgroundcolor\": \"#E5ECF6\", \"gridcolor\": \"white\", \"gridwidth\": 2, \"linecolor\": \"white\", \"showbackground\": true, \"ticks\": \"\", \"zerolinecolor\": \"white\"}}, \"shapedefaults\": {\"line\": {\"color\": \"#2a3f5f\"}}, \"ternary\": {\"aaxis\": {\"gridcolor\": \"white\", \"linecolor\": \"white\", \"ticks\": \"\"}, \"baxis\": {\"gridcolor\": \"white\", \"linecolor\": \"white\", \"ticks\": \"\"}, \"bgcolor\": \"#E5ECF6\", \"caxis\": {\"gridcolor\": \"white\", \"linecolor\": \"white\", \"ticks\": \"\"}}, \"title\": {\"x\": 0.05}, \"xaxis\": {\"automargin\": true, \"gridcolor\": \"white\", \"linecolor\": \"white\", \"ticks\": \"\", \"title\": {\"standoff\": 15}, \"zerolinecolor\": \"white\", \"zerolinewidth\": 2}, \"yaxis\": {\"automargin\": true, \"gridcolor\": \"white\", \"linecolor\": \"white\", \"ticks\": \"\", \"title\": {\"standoff\": 15}, \"zerolinecolor\": \"white\", \"zerolinewidth\": 2}}}, \"title\": {\"text\": \"$ \\\\text{ GB Regressor } $\"}, \"xaxis\": {\"gridwidth\": 2, \"title\": {\"text\": \"Measured Corr Rate (g/m2)\"}, \"zeroline\": false}, \"yaxis\": {\"gridwidth\": 2, \"title\": {\"text\": \"Predicted Corr Rate (g/m2)\"}, \"zeroline\": false}},                        {\"responsive\": true}                    ).then(function(){\n",
       "                            \n",
       "var gd = document.getElementById('265cad09-dd56-4c71-b263-2e161357de1e');\n",
       "var x = new MutationObserver(function (mutations, observer) {{\n",
       "        var display = window.getComputedStyle(gd).display;\n",
       "        if (!display || display === 'none') {{\n",
       "            console.log([gd, 'removed!']);\n",
       "            Plotly.purge(gd);\n",
       "            observer.disconnect();\n",
       "        }}\n",
       "}});\n",
       "\n",
       "// Listen for the removal of the full notebook cells\n",
       "var notebookContainer = gd.closest('#notebook-container');\n",
       "if (notebookContainer) {{\n",
       "    x.observe(notebookContainer, {childList: true});\n",
       "}}\n",
       "\n",
       "// Listen for the clearing of the current output cell\n",
       "var outputEl = gd.closest('.output');\n",
       "if (outputEl) {{\n",
       "    x.observe(outputEl, {childList: true});\n",
       "}}\n",
       "\n",
       "                        })                };                });            </script>        </div>"
      ]
     },
     "metadata": {},
     "output_type": "display_data"
    }
   ],
   "source": [
    "    fit = np.linspace(min(target), max(target))\n",
    "    trace0 = go.Scatter(x=y_train, y=Train_predictions2, mode = 'markers', marker= dict(size= 12, color= 'blue'), name='Training Data')\n",
    "    trace1 = go.Scatter(x=y_test ,y=Test_predictions2, mode = 'markers', marker= dict(size= 12, color= 'red'),name='Testing Data')\n",
    "    trace2 = go.Scatter(x = fit ,y = fit, mode = 'lines', marker= dict(size= 12, color= 'black'), text = 'Fit',name='Linear Fit')\n",
    "\n",
    "    data = [trace0,trace1,trace2]\n",
    "    fig= go.Figure(data, layout=layout0)\n",
    "    resolution_value = 300\n",
    "    iplot(fig)"
   ]
  },
  {
   "cell_type": "markdown",
   "id": "presidential-peeing",
   "metadata": {},
   "source": [
    "# Predicting Corr Rate for New Location"
   ]
  },
  {
   "cell_type": "code",
   "execution_count": 27,
   "id": "athletic-billy",
   "metadata": {
    "ExecuteTime": {
     "end_time": "2023-03-30T06:03:30.759702Z",
     "start_time": "2023-03-30T06:03:30.754353Z"
    }
   },
   "outputs": [],
   "source": [
    "Test_predictions2 = DT2.predict(X_test)"
   ]
  },
  {
   "cell_type": "code",
   "execution_count": 28,
   "id": "seven-recommendation",
   "metadata": {
    "ExecuteTime": {
     "end_time": "2023-03-30T06:03:30.775908Z",
     "start_time": "2023-03-30T06:03:30.761604Z"
    }
   },
   "outputs": [
    {
     "name": "stdout",
     "output_type": "stream",
     "text": [
      "Test based on dataset No.1\n"
     ]
    },
    {
     "data": {
      "text/html": [
       "<div>\n",
       "<style scoped>\n",
       "    .dataframe tbody tr th:only-of-type {\n",
       "        vertical-align: middle;\n",
       "    }\n",
       "\n",
       "    .dataframe tbody tr th {\n",
       "        vertical-align: top;\n",
       "    }\n",
       "\n",
       "    .dataframe thead th {\n",
       "        text-align: right;\n",
       "    }\n",
       "</style>\n",
       "<table border=\"1\" class=\"dataframe\">\n",
       "  <thead>\n",
       "    <tr style=\"text-align: right;\">\n",
       "      <th></th>\n",
       "      <th>T</th>\n",
       "      <th>RH</th>\n",
       "      <th>TOW</th>\n",
       "      <th>Prec</th>\n",
       "      <th>SO2</th>\n",
       "      <th>H+</th>\n",
       "    </tr>\n",
       "  </thead>\n",
       "  <tbody>\n",
       "    <tr>\n",
       "      <th>0</th>\n",
       "      <td>9.5</td>\n",
       "      <td>79</td>\n",
       "      <td>2830</td>\n",
       "      <td>639.3</td>\n",
       "      <td>77.5</td>\n",
       "      <td>0</td>\n",
       "    </tr>\n",
       "  </tbody>\n",
       "</table>\n",
       "</div>"
      ],
      "text/plain": [
       "     T  RH   TOW   Prec   SO2  H+\n",
       "0  9.5  79  2830  639.3  77.5   0"
      ]
     },
     "execution_count": 28,
     "metadata": {},
     "output_type": "execute_result"
    }
   ],
   "source": [
    "print('Test based on dataset No.1')\n",
    "dataset_1=pd.DataFrame({'T':[9.5], 'RH':[79],'TOW':[2830], 'Prec':[639.3], 'SO2':[77.5], 'H+':[0]})\n",
    "dataset_1"
   ]
  },
  {
   "cell_type": "code",
   "execution_count": 29,
   "id": "designing-wildlife",
   "metadata": {
    "ExecuteTime": {
     "end_time": "2023-03-30T06:03:30.783444Z",
     "start_time": "2023-03-30T06:03:30.777969Z"
    }
   },
   "outputs": [
    {
     "name": "stdout",
     "output_type": "stream",
     "text": [
      "Test based on dataset No.1 CR = 14.89 g/m2\n",
      "CR with model predict dataset_1: [9.07018769] g/m2\n"
     ]
    }
   ],
   "source": [
    "print('Test based on dataset No.1 CR = 14.89 g/m2')\n",
    "Test_predictions2 = DT2.predict(dataset_1)\n",
    "print('CR with model predict dataset_1:', Test_predictions2, 'g/m2')"
   ]
  },
  {
   "cell_type": "code",
   "execution_count": 30,
   "id": "twelve-point",
   "metadata": {
    "ExecuteTime": {
     "end_time": "2023-03-30T06:03:30.797560Z",
     "start_time": "2023-03-30T06:03:30.785501Z"
    }
   },
   "outputs": [
    {
     "name": "stdout",
     "output_type": "stream",
     "text": [
      "Test based on dataset No.30\n"
     ]
    },
    {
     "data": {
      "text/html": [
       "<div>\n",
       "<style scoped>\n",
       "    .dataframe tbody tr th:only-of-type {\n",
       "        vertical-align: middle;\n",
       "    }\n",
       "\n",
       "    .dataframe tbody tr th {\n",
       "        vertical-align: top;\n",
       "    }\n",
       "\n",
       "    .dataframe thead th {\n",
       "        text-align: right;\n",
       "    }\n",
       "</style>\n",
       "<table border=\"1\" class=\"dataframe\">\n",
       "  <thead>\n",
       "    <tr style=\"text-align: right;\">\n",
       "      <th></th>\n",
       "      <th>T</th>\n",
       "      <th>RH</th>\n",
       "      <th>TOW</th>\n",
       "      <th>Prec</th>\n",
       "      <th>SO2</th>\n",
       "      <th>H+</th>\n",
       "    </tr>\n",
       "  </thead>\n",
       "  <tbody>\n",
       "    <tr>\n",
       "      <th>0</th>\n",
       "      <td>10.7</td>\n",
       "      <td>79</td>\n",
       "      <td>4437</td>\n",
       "      <td>619.1</td>\n",
       "      <td>16.3</td>\n",
       "      <td>0.0291</td>\n",
       "    </tr>\n",
       "  </tbody>\n",
       "</table>\n",
       "</div>"
      ],
      "text/plain": [
       "      T  RH   TOW   Prec   SO2      H+\n",
       "0  10.7  79  4437  619.1  16.3  0.0291"
      ]
     },
     "execution_count": 30,
     "metadata": {},
     "output_type": "execute_result"
    }
   ],
   "source": [
    "print('Test based on dataset No.30')\n",
    "dataset_30=pd.DataFrame({'T':[10.7], 'RH':[79],'TOW':[4437], 'Prec':[619.1], 'SO2':[16.3], 'H+':[0.0291]})\n",
    "dataset_30"
   ]
  },
  {
   "cell_type": "code",
   "execution_count": 31,
   "id": "gross-mystery",
   "metadata": {
    "ExecuteTime": {
     "end_time": "2023-03-30T06:03:30.805306Z",
     "start_time": "2023-03-30T06:03:30.799629Z"
    }
   },
   "outputs": [
    {
     "name": "stdout",
     "output_type": "stream",
     "text": [
      "Test based on dataset No.30 CR = 9.07 g/m2\n",
      "CR with model predict dataset_30: [8.32401278] g/m2\n"
     ]
    }
   ],
   "source": [
    "print('Test based on dataset No.30 CR = 9.07 g/m2')\n",
    "Test_predictions2 = DT2.predict(dataset_30)\n",
    "print('CR with model predict dataset_30:', Test_predictions2, 'g/m2')"
   ]
  },
  {
   "cell_type": "code",
   "execution_count": 32,
   "id": "aboriginal-cisco",
   "metadata": {
    "ExecuteTime": {
     "end_time": "2023-03-30T06:03:30.829619Z",
     "start_time": "2023-03-30T06:03:30.818218Z"
    }
   },
   "outputs": [
    {
     "name": "stdout",
     "output_type": "stream",
     "text": [
      "Test based on dataset No.50\n"
     ]
    },
    {
     "data": {
      "text/html": [
       "<div>\n",
       "<style scoped>\n",
       "    .dataframe tbody tr th:only-of-type {\n",
       "        vertical-align: middle;\n",
       "    }\n",
       "\n",
       "    .dataframe tbody tr th {\n",
       "        vertical-align: top;\n",
       "    }\n",
       "\n",
       "    .dataframe thead th {\n",
       "        text-align: right;\n",
       "    }\n",
       "</style>\n",
       "<table border=\"1\" class=\"dataframe\">\n",
       "  <thead>\n",
       "    <tr style=\"text-align: right;\">\n",
       "      <th></th>\n",
       "      <th>T</th>\n",
       "      <th>RH</th>\n",
       "      <th>TOW</th>\n",
       "      <th>Prec</th>\n",
       "      <th>SO2</th>\n",
       "      <th>H+</th>\n",
       "    </tr>\n",
       "  </thead>\n",
       "  <tbody>\n",
       "    <tr>\n",
       "      <th>0</th>\n",
       "      <td>11.1</td>\n",
       "      <td>82</td>\n",
       "      <td>5142</td>\n",
       "      <td>789.9</td>\n",
       "      <td>5.8</td>\n",
       "      <td>0.0038</td>\n",
       "    </tr>\n",
       "  </tbody>\n",
       "</table>\n",
       "</div>"
      ],
      "text/plain": [
       "      T  RH   TOW   Prec  SO2      H+\n",
       "0  11.1  82  5142  789.9  5.8  0.0038"
      ]
     },
     "execution_count": 32,
     "metadata": {},
     "output_type": "execute_result"
    }
   ],
   "source": [
    "print('Test based on dataset No.50')\n",
    "dataset_50=pd.DataFrame({'T':[11.1], 'RH':[82],'TOW':[5142], 'Prec':[789.9], 'SO2':[5.8], 'H+':[0.0038]})\n",
    "dataset_50"
   ]
  },
  {
   "cell_type": "code",
   "execution_count": 33,
   "id": "negative-development",
   "metadata": {
    "ExecuteTime": {
     "end_time": "2023-03-30T06:03:30.837877Z",
     "start_time": "2023-03-30T06:03:30.832396Z"
    }
   },
   "outputs": [
    {
     "name": "stdout",
     "output_type": "stream",
     "text": [
      "Test based on dataset No.50 CR = 6.34 g/m2\n",
      "CR with model predict dataset_30: [7.14814101] g/m2\n"
     ]
    }
   ],
   "source": [
    "print('Test based on dataset No.50 CR = 6.34 g/m2')\n",
    "Test_predictions2 = DT2.predict(dataset_50)\n",
    "print('CR with model predict dataset_30:', Test_predictions2, 'g/m2')"
   ]
  },
  {
   "cell_type": "code",
   "execution_count": 34,
   "id": "mental-jewel",
   "metadata": {
    "ExecuteTime": {
     "end_time": "2023-03-30T06:03:30.850869Z",
     "start_time": "2023-03-30T06:03:30.840035Z"
    }
   },
   "outputs": [
    {
     "name": "stdout",
     "output_type": "stream",
     "text": [
      "Test based on dataset No.165\n"
     ]
    },
    {
     "data": {
      "text/html": [
       "<div>\n",
       "<style scoped>\n",
       "    .dataframe tbody tr th:only-of-type {\n",
       "        vertical-align: middle;\n",
       "    }\n",
       "\n",
       "    .dataframe tbody tr th {\n",
       "        vertical-align: top;\n",
       "    }\n",
       "\n",
       "    .dataframe thead th {\n",
       "        text-align: right;\n",
       "    }\n",
       "</style>\n",
       "<table border=\"1\" class=\"dataframe\">\n",
       "  <thead>\n",
       "    <tr style=\"text-align: right;\">\n",
       "      <th></th>\n",
       "      <th>T</th>\n",
       "      <th>RH</th>\n",
       "      <th>TOW</th>\n",
       "      <th>Prec</th>\n",
       "      <th>SO2</th>\n",
       "      <th>H+</th>\n",
       "    </tr>\n",
       "  </thead>\n",
       "  <tbody>\n",
       "    <tr>\n",
       "      <th>0</th>\n",
       "      <td>2.5</td>\n",
       "      <td>70</td>\n",
       "      <td>0</td>\n",
       "      <td>626</td>\n",
       "      <td>3</td>\n",
       "      <td>0</td>\n",
       "    </tr>\n",
       "  </tbody>\n",
       "</table>\n",
       "</div>"
      ],
      "text/plain": [
       "     T  RH  TOW  Prec  SO2  H+\n",
       "0  2.5  70    0   626    3   0"
      ]
     },
     "execution_count": 34,
     "metadata": {},
     "output_type": "execute_result"
    }
   ],
   "source": [
    "print('Test based on dataset No.165')\n",
    "dataset_165=pd.DataFrame({'T':[2.5], 'RH':[70],'TOW':[0], 'Prec':[626], 'SO2':[3], 'H+':[0]})\n",
    "dataset_165"
   ]
  },
  {
   "cell_type": "code",
   "execution_count": 35,
   "id": "suspected-atlantic",
   "metadata": {
    "ExecuteTime": {
     "end_time": "2023-03-30T06:03:30.858383Z",
     "start_time": "2023-03-30T06:03:30.852871Z"
    }
   },
   "outputs": [
    {
     "name": "stdout",
     "output_type": "stream",
     "text": [
      "Test based on dataset No.165 CR = 4.64 g/m2\n",
      "CR with model predict dataset_30: [3.99883042] g/m2\n"
     ]
    }
   ],
   "source": [
    "print('Test based on dataset No.165 CR = 4.64 g/m2')\n",
    "Test_predictions2 = DT2.predict(dataset_165)\n",
    "print('CR with model predict dataset_30:', Test_predictions2, 'g/m2')"
   ]
  },
  {
   "cell_type": "code",
   "execution_count": 36,
   "id": "dying-functionality",
   "metadata": {
    "ExecuteTime": {
     "end_time": "2023-03-30T06:03:30.865560Z",
     "start_time": "2023-03-30T06:03:30.860467Z"
    }
   },
   "outputs": [],
   "source": [
    "#Table S2. New data to be used as validation\n",
    "#Location\tT(oC)\tRH(%)\tTOW(Hours/a)\tPrec(mm/a)\tSO2(µg/m3)\t[H+](mg/L)\tCR(g/m2)\n",
    "#Panama\t26\t71\t3000\t279\t21.7\t0\t7.568\n",
    "#Rio Janeiro\t21.4\t80\t4800\t1252\t43.5\t0\t10.496\n",
    "#Iguazu\t21.2\t75\t5500\t1000\t0\t0\t9.710\n",
    "#Sao Paulo\t19.6\t75\t5500\t1622\t57.8\t0\t8.639\n",
    "#Bauta\t24\t81\t5000\t1590\t18\t0\t8.711\n",
    "#Labastida\t12\t73\t5500\t550\t3.6\t0\t2.213\n",
    "#Mexico\t15.4\t64\t1000\t709\t18.9\t0\t5.855\n"
   ]
  },
  {
   "cell_type": "code",
   "execution_count": 37,
   "id": "nasty-diabetes",
   "metadata": {
    "ExecuteTime": {
     "end_time": "2023-03-30T06:03:30.884533Z",
     "start_time": "2023-03-30T06:03:30.867514Z"
    }
   },
   "outputs": [],
   "source": [
    "Panama = pd.DataFrame({'T':[26], 'RH':[71],'TOW':[3000], 'Prec':[279], 'SO2':[21.7], 'H+':[0]})\n",
    "Rio = pd.DataFrame({'T':[21.4], 'RH':[80],'TOW':[4800], 'Prec':[1252], 'SO2':[43.5], 'H+':[0]})\n",
    "Iguazu = pd.DataFrame({'T':[21.2], 'RH':[75],'TOW':[5500], 'Prec':[1000], 'SO2':[0], 'H+':[0]})\n",
    "Saopaolo = pd.DataFrame({'T':[19.6], 'RH':[75],'TOW':[5500], 'Prec':[1622], 'SO2':[57.8], 'H+':[0]})\n",
    "Bauta = pd.DataFrame({'T':[24], 'RH':[81],'TOW':[5000], 'Prec':[1590], 'SO2':[18], 'H+':[0]})\n",
    "Labastida = pd.DataFrame({'T':[12], 'RH':[73],'TOW':[5500], 'Prec':[550], 'SO2':[3.6], 'H+':[0]})\n",
    "Mexico = pd.DataFrame({'T':[15.4], 'RH':[64],'TOW':[1000], 'Prec':[709], 'SO2':[18.9], 'H+':[0]})"
   ]
  },
  {
   "cell_type": "code",
   "execution_count": 38,
   "id": "ongoing-validity",
   "metadata": {
    "ExecuteTime": {
     "end_time": "2023-03-30T06:03:30.894274Z",
     "start_time": "2023-03-30T06:03:30.886404Z"
    }
   },
   "outputs": [
    {
     "name": "stdout",
     "output_type": "stream",
     "text": [
      "Test based on dataset Panama CR = 7.568 g/m2\n",
      "CR with model predict dataset_Panama: [8.77019909] g/m2\n"
     ]
    }
   ],
   "source": [
    "print('Test based on dataset Panama CR = 7.568 g/m2')\n",
    "Test_predictions2  = DT2.predict(Panama)\n",
    "print('CR with model predict dataset_Panama:', Test_predictions2 , 'g/m2')"
   ]
  },
  {
   "cell_type": "code",
   "execution_count": 39,
   "id": "entitled-notebook",
   "metadata": {
    "ExecuteTime": {
     "end_time": "2023-03-30T06:03:30.901954Z",
     "start_time": "2023-03-30T06:03:30.896515Z"
    }
   },
   "outputs": [
    {
     "name": "stdout",
     "output_type": "stream",
     "text": [
      "Test based on dataset Rio CR = 10.496 g/m2\n",
      "CR with model predict dataset_Rio: [8.94139483] g/m2\n"
     ]
    }
   ],
   "source": [
    "print('Test based on dataset Rio CR = 10.496 g/m2')\n",
    "Test_predictions2  = DT2.predict(Rio)\n",
    "print('CR with model predict dataset_Rio:', Test_predictions2 , 'g/m2')"
   ]
  },
  {
   "cell_type": "code",
   "execution_count": 40,
   "id": "commercial-wonder",
   "metadata": {
    "ExecuteTime": {
     "end_time": "2023-03-30T06:03:30.909409Z",
     "start_time": "2023-03-30T06:03:30.903969Z"
    }
   },
   "outputs": [
    {
     "name": "stdout",
     "output_type": "stream",
     "text": [
      "Test based on dataset Iguazu CR = 9.710 g/m2\n",
      "CR with model predict dataset_Iguazo: [15.91351585] g/m2\n"
     ]
    }
   ],
   "source": [
    "print('Test based on dataset Iguazu CR = 9.710 g/m2')\n",
    "Test_predictions2  = DT2.predict(Iguazu)\n",
    "print('CR with model predict dataset_Iguazo:', Test_predictions2 , 'g/m2')"
   ]
  },
  {
   "cell_type": "code",
   "execution_count": 41,
   "id": "optional-volunteer",
   "metadata": {
    "ExecuteTime": {
     "end_time": "2023-03-30T06:03:30.917112Z",
     "start_time": "2023-03-30T06:03:30.911307Z"
    }
   },
   "outputs": [
    {
     "name": "stdout",
     "output_type": "stream",
     "text": [
      "Test based on dataset Saopaolo CR = 8.639 g/m2\n",
      "CR with model predict dataset_Saopaolo: [9.52210507] g/m2\n"
     ]
    }
   ],
   "source": [
    "print('Test based on dataset Saopaolo CR = 8.639 g/m2')\n",
    "Test_predictions2  = DT2.predict(Saopaolo)\n",
    "print('CR with model predict dataset_Saopaolo:', Test_predictions2 , 'g/m2')"
   ]
  },
  {
   "cell_type": "code",
   "execution_count": 42,
   "id": "minute-grill",
   "metadata": {
    "ExecuteTime": {
     "end_time": "2023-03-30T06:03:30.926799Z",
     "start_time": "2023-03-30T06:03:30.919179Z"
    }
   },
   "outputs": [
    {
     "name": "stdout",
     "output_type": "stream",
     "text": [
      "Test based on dataset Bauta CR = 8.711 g/m2\n",
      "CR with model predict dataset_Bauta: [8.13205851] g/m2\n"
     ]
    }
   ],
   "source": [
    "print('Test based on dataset Bauta CR = 8.711 g/m2')\n",
    "Test_predictions2  = DT2.predict(Bauta)\n",
    "print('CR with model predict dataset_Bauta:', Test_predictions2 , 'g/m2')"
   ]
  },
  {
   "cell_type": "code",
   "execution_count": 43,
   "id": "offshore-hollow",
   "metadata": {
    "ExecuteTime": {
     "end_time": "2023-03-30T06:03:30.934400Z",
     "start_time": "2023-03-30T06:03:30.928821Z"
    }
   },
   "outputs": [
    {
     "name": "stdout",
     "output_type": "stream",
     "text": [
      "Test based on dataset Labastida CR = 2.213 g/m2\n",
      "CR with model predict dataset_Labastida: [4.79568975] g/m2\n"
     ]
    }
   ],
   "source": [
    "print('Test based on dataset Labastida CR = 2.213 g/m2')\n",
    "Test_predictions2  = DT2.predict(Labastida)\n",
    "print('CR with model predict dataset_Labastida:', Test_predictions2 , 'g/m2')"
   ]
  },
  {
   "cell_type": "code",
   "execution_count": 44,
   "id": "systematic-festival",
   "metadata": {
    "ExecuteTime": {
     "end_time": "2023-03-30T06:03:30.941965Z",
     "start_time": "2023-03-30T06:03:30.936414Z"
    }
   },
   "outputs": [
    {
     "name": "stdout",
     "output_type": "stream",
     "text": [
      "Test based on dataset Mexico CR = 5.855 g/m2\n",
      "CR with model predict dataset_Mexico: [7.81907989] g/m2\n"
     ]
    }
   ],
   "source": [
    "print('Test based on dataset Mexico CR = 5.855 g/m2')\n",
    "Test_predictions2  = DT2.predict(Mexico)\n",
    "print('CR with model predict dataset_Mexico:', Test_predictions2 , 'g/m2')"
   ]
  },
  {
   "cell_type": "code",
   "execution_count": null,
   "id": "creative-yahoo",
   "metadata": {},
   "outputs": [],
   "source": []
  },
  {
   "cell_type": "markdown",
   "id": "outside-maintenance",
   "metadata": {},
   "source": [
    "# PREDICTION NEW DATA"
   ]
  },
  {
   "cell_type": "code",
   "execution_count": 45,
   "id": "demonstrated-bunch",
   "metadata": {
    "ExecuteTime": {
     "end_time": "2023-03-30T06:03:30.945877Z",
     "start_time": "2023-03-30T06:03:30.943906Z"
    }
   },
   "outputs": [],
   "source": [
    "#Table S3. New data on corrosion rates at several test locations\n",
    "#Location\tT (oC)\tRH (%)\tTOW (Hours/a)\tPrec (mm/a)\tSO2 (µg/m3)\t[H+] (mg/L)\n",
    "#\t\t\t\t\t\t\n",
    "#Jakarta, Indonesia\t31\t65\t5500\t100\t71\t0\n",
    "#Bandung, Indonesia\t24\t81\t3500\t999\t17\t0\n",
    "#Valparaiso, Chile\t17\t83\t5600\t0.1\t23.6\t0\n",
    "#Barcelona, Spain\t26\t78\t500\t640\t1.5\t0\n",
    "#Tokyo, Japan\t22\t73\t29.1\t1530\t12.4\t0\n"
   ]
  },
  {
   "cell_type": "code",
   "execution_count": 46,
   "id": "emerging-recall",
   "metadata": {
    "ExecuteTime": {
     "end_time": "2023-03-30T06:03:30.960927Z",
     "start_time": "2023-03-30T06:03:30.947958Z"
    }
   },
   "outputs": [],
   "source": [
    "Jakarta = pd.DataFrame({'T':[31], 'RH':[65],'TOW':[5500], 'Prec':[100], 'SO2':[71], 'H+':[0]})\n",
    "Bandung = pd.DataFrame({'T':[24], 'RH':[81],'TOW':[3500], 'Prec':[999], 'SO2':[17], 'H+':[0]})\n",
    "Valparaiso = pd.DataFrame({'T':[17], 'RH':[83],'TOW':[5600], 'Prec':[0.1], 'SO2':[23.6], 'H+':[0]})\n",
    "Barcelona = pd.DataFrame({'T':[26], 'RH':[78],'TOW':[500], 'Prec':[640], 'SO2':[1.5], 'H+':[0]})\n",
    "Tokyo = pd.DataFrame({'T':[22], 'RH':[73],'TOW':[29.1], 'Prec':[1530], 'SO2':[12.4], 'H+':[0]})"
   ]
  },
  {
   "cell_type": "code",
   "execution_count": 47,
   "id": "thousand-cisco",
   "metadata": {
    "ExecuteTime": {
     "end_time": "2023-03-30T06:03:30.968495Z",
     "start_time": "2023-03-30T06:03:30.963065Z"
    }
   },
   "outputs": [
    {
     "name": "stdout",
     "output_type": "stream",
     "text": [
      "Test based on data Jakarta\n",
      "CR with model predict Jakarta: [9.28766297] g/m2\n"
     ]
    }
   ],
   "source": [
    "print('Test based on data Jakarta')\n",
    "Test_predictions2  = DT2.predict(Jakarta)\n",
    "print('CR with model predict Jakarta:', Test_predictions2 , 'g/m2')"
   ]
  },
  {
   "cell_type": "code",
   "execution_count": 48,
   "id": "vertical-jurisdiction",
   "metadata": {
    "ExecuteTime": {
     "end_time": "2023-03-30T06:03:30.981214Z",
     "start_time": "2023-03-30T06:03:30.970438Z"
    }
   },
   "outputs": [
    {
     "name": "stdout",
     "output_type": "stream",
     "text": [
      "Test based on data Bandung\n",
      "CR with model predict Bandung: [8.44923825] g/m2\n"
     ]
    }
   ],
   "source": [
    "print('Test based on data Bandung')\n",
    "Test_predictions2  = DT2.predict(Bandung)\n",
    "print('CR with model predict Bandung:', Test_predictions2 , 'g/m2')"
   ]
  },
  {
   "cell_type": "code",
   "execution_count": 49,
   "id": "large-provincial",
   "metadata": {
    "ExecuteTime": {
     "end_time": "2023-03-30T06:03:30.989027Z",
     "start_time": "2023-03-30T06:03:30.983417Z"
    }
   },
   "outputs": [
    {
     "name": "stdout",
     "output_type": "stream",
     "text": [
      "Test based on data Valparaiso\n",
      "CR with model predict Valparaiso: [8.26188951] g/m2\n"
     ]
    }
   ],
   "source": [
    "print('Test based on data Valparaiso')\n",
    "Test_predictions2  = DT2.predict(Valparaiso)\n",
    "print('CR with model predict Valparaiso:', Test_predictions2 , 'g/m2')"
   ]
  },
  {
   "cell_type": "code",
   "execution_count": 50,
   "id": "iraqi-pierce",
   "metadata": {
    "ExecuteTime": {
     "end_time": "2023-03-30T06:03:30.996758Z",
     "start_time": "2023-03-30T06:03:30.990976Z"
    }
   },
   "outputs": [
    {
     "name": "stdout",
     "output_type": "stream",
     "text": [
      "Test based on data Barcelona\n",
      "CR with model predict Barcelona: [5.33890491] g/m2\n"
     ]
    }
   ],
   "source": [
    "print('Test based on data Barcelona')\n",
    "Test_predictions2  = DT2.predict(Barcelona)\n",
    "print('CR with model predict Barcelona:', Test_predictions2 , 'g/m2')"
   ]
  },
  {
   "cell_type": "code",
   "execution_count": 51,
   "id": "jewish-result",
   "metadata": {
    "ExecuteTime": {
     "end_time": "2023-03-30T06:03:31.014059Z",
     "start_time": "2023-03-30T06:03:30.998711Z"
    }
   },
   "outputs": [
    {
     "name": "stdout",
     "output_type": "stream",
     "text": [
      "Test based on data Tokyo\n",
      "CR with model predict Tokyo: [7.11501396] g/m2\n"
     ]
    }
   ],
   "source": [
    "print('Test based on data Tokyo')\n",
    "Test_predictions2  = DT2.predict(Tokyo)\n",
    "print('CR with model predict Tokyo:', Test_predictions2 , 'g/m2')"
   ]
  },
  {
   "cell_type": "code",
   "execution_count": null,
   "id": "hungarian-bahamas",
   "metadata": {},
   "outputs": [],
   "source": []
  }
 ],
 "metadata": {
  "kernelspec": {
   "display_name": "Python 3",
   "language": "python",
   "name": "python3"
  },
  "language_info": {
   "codemirror_mode": {
    "name": "ipython",
    "version": 3
   },
   "file_extension": ".py",
   "mimetype": "text/x-python",
   "name": "python",
   "nbconvert_exporter": "python",
   "pygments_lexer": "ipython3",
   "version": "3.7.7"
  },
  "toc": {
   "base_numbering": 1,
   "nav_menu": {},
   "number_sections": true,
   "sideBar": true,
   "skip_h1_title": false,
   "title_cell": "Table of Contents",
   "title_sidebar": "Contents",
   "toc_cell": false,
   "toc_position": {},
   "toc_section_display": true,
   "toc_window_display": false
  },
  "varInspector": {
   "cols": {
    "lenName": 16,
    "lenType": 16,
    "lenVar": 40
   },
   "kernels_config": {
    "python": {
     "delete_cmd_postfix": "",
     "delete_cmd_prefix": "del ",
     "library": "var_list.py",
     "varRefreshCmd": "print(var_dic_list())"
    },
    "r": {
     "delete_cmd_postfix": ") ",
     "delete_cmd_prefix": "rm(",
     "library": "var_list.r",
     "varRefreshCmd": "cat(var_dic_list()) "
    }
   },
   "types_to_exclude": [
    "module",
    "function",
    "builtin_function_or_method",
    "instance",
    "_Feature"
   ],
   "window_display": false
  }
 },
 "nbformat": 4,
 "nbformat_minor": 5
}
